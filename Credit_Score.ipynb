{
  "cells": [
    {
      "cell_type": "markdown",
      "source": [
        "## **Analyzing borrowers’ risk of defaulting**"
      ],
      "metadata": {
        "id": "LM4iWPQw0-vY"
      }
    },
    {
      "cell_type": "markdown",
      "metadata": {
        "id": "BQe-xp1g0v4O"
      },
      "source": [
        "# Introduction\n",
        "\n",
        "In this project, I'll evalute if a customer's details affect their ability to pay a loan. I'll study data on client information to test the hypotheses below and provide my report for credit score building."
      ]
    },
    {
      "cell_type": "markdown",
      "metadata": {
        "id": "LkeaGvp60v4P"
      },
      "source": [
        "# Goal:\n",
        "Test four hypotheses:\n",
        "1. Is there a connection between having kids and repaying a loan on time?\n",
        "2. Is there a connection between marital status and repaying a loan on time?\n",
        "3. Is there a connection between income level and repaying a loan on time?\n",
        "4. How do different loan purposes affect on-time loan repayment?\n"
      ]
    },
    {
      "cell_type": "markdown",
      "metadata": {
        "id": "s8oDUFnU0v4b"
      },
      "source": [
        "## Open the data file and have a look at the general information. \n"
      ]
    },
    {
      "cell_type": "code",
      "execution_count": 3,
      "metadata": {
        "id": "glPYhLht0v4c"
      },
      "outputs": [],
      "source": [
        "# Loading all the libraries\n",
        "import pandas as pd\n",
        "\n",
        "# Load the data\n",
        "try:\n",
        "    df = pd.read_csv('credit_scoring_eng.csv')\n",
        "except:\n",
        "    df = pd.read_csv('/datasets/credit_scoring_eng.csv') "
      ]
    },
    {
      "cell_type": "markdown",
      "metadata": {
        "id": "lxTwB6-P0v4d"
      },
      "source": [
        "## Task 1. Data exploration\n",
        "\n",
        "**Description of the data**\n",
        "- `children` - the number of children in the family\n",
        "- `days_employed` - work experience in days\n",
        "- `dob_years` - client's age in years\n",
        "- `education` - client's education\n",
        "- `education_id` - education identifier\n",
        "- `family_status` - marital status\n",
        "- `family_status_id` - marital status identifier\n",
        "- `gender` - gender of the client\n",
        "- `income_type` - type of employment\n",
        "- `debt` - was there any debt on loan repayment\n",
        "- `total_income` - monthly income\n",
        "- `purpose` - the purpose of obtaining a loan\n"
      ]
    },
    {
      "cell_type": "code",
      "execution_count": 4,
      "metadata": {
        "colab": {
          "base_uri": "https://localhost:8080/"
        },
        "id": "Kt0jC5GZ0v4e",
        "outputId": "f852d8e4-84cc-47f1-f22f-cea26848ae10"
      },
      "outputs": [
        {
          "output_type": "stream",
          "name": "stdout",
          "text": [
            "(21525, 12)\n"
          ]
        }
      ],
      "source": [
        "# Let's see how many rows and columns our dataset has\n",
        "print(df.shape)"
      ]
    },
    {
      "cell_type": "code",
      "execution_count": 5,
      "metadata": {
        "scrolled": true,
        "colab": {
          "base_uri": "https://localhost:8080/",
          "height": 357
        },
        "id": "lMje8AIp0v4f",
        "outputId": "0a221764-cfdc-435e-aa83-4716cc31cd3d"
      },
      "outputs": [
        {
          "output_type": "execute_result",
          "data": {
            "text/html": [
              "\n",
              "  <div id=\"df-43c795d1-e1ca-4e73-aa1a-754ede46ec7e\">\n",
              "    <div class=\"colab-df-container\">\n",
              "      <div>\n",
              "<style scoped>\n",
              "    .dataframe tbody tr th:only-of-type {\n",
              "        vertical-align: middle;\n",
              "    }\n",
              "\n",
              "    .dataframe tbody tr th {\n",
              "        vertical-align: top;\n",
              "    }\n",
              "\n",
              "    .dataframe thead th {\n",
              "        text-align: right;\n",
              "    }\n",
              "</style>\n",
              "<table border=\"1\" class=\"dataframe\">\n",
              "  <thead>\n",
              "    <tr style=\"text-align: right;\">\n",
              "      <th></th>\n",
              "      <th>children</th>\n",
              "      <th>days_employed</th>\n",
              "      <th>dob_years</th>\n",
              "      <th>education</th>\n",
              "      <th>education_id</th>\n",
              "      <th>family_status</th>\n",
              "      <th>family_status_id</th>\n",
              "      <th>gender</th>\n",
              "      <th>income_type</th>\n",
              "      <th>debt</th>\n",
              "      <th>total_income</th>\n",
              "      <th>purpose</th>\n",
              "    </tr>\n",
              "  </thead>\n",
              "  <tbody>\n",
              "    <tr>\n",
              "      <th>0</th>\n",
              "      <td>1</td>\n",
              "      <td>-8437.673028</td>\n",
              "      <td>42</td>\n",
              "      <td>bachelor's degree</td>\n",
              "      <td>0</td>\n",
              "      <td>married</td>\n",
              "      <td>0</td>\n",
              "      <td>F</td>\n",
              "      <td>employee</td>\n",
              "      <td>0</td>\n",
              "      <td>40620.102</td>\n",
              "      <td>purchase of the house</td>\n",
              "    </tr>\n",
              "    <tr>\n",
              "      <th>1</th>\n",
              "      <td>1</td>\n",
              "      <td>-4024.803754</td>\n",
              "      <td>36</td>\n",
              "      <td>secondary education</td>\n",
              "      <td>1</td>\n",
              "      <td>married</td>\n",
              "      <td>0</td>\n",
              "      <td>F</td>\n",
              "      <td>employee</td>\n",
              "      <td>0</td>\n",
              "      <td>17932.802</td>\n",
              "      <td>car purchase</td>\n",
              "    </tr>\n",
              "    <tr>\n",
              "      <th>2</th>\n",
              "      <td>0</td>\n",
              "      <td>-5623.422610</td>\n",
              "      <td>33</td>\n",
              "      <td>Secondary Education</td>\n",
              "      <td>1</td>\n",
              "      <td>married</td>\n",
              "      <td>0</td>\n",
              "      <td>M</td>\n",
              "      <td>employee</td>\n",
              "      <td>0</td>\n",
              "      <td>23341.752</td>\n",
              "      <td>purchase of the house</td>\n",
              "    </tr>\n",
              "    <tr>\n",
              "      <th>3</th>\n",
              "      <td>3</td>\n",
              "      <td>-4124.747207</td>\n",
              "      <td>32</td>\n",
              "      <td>secondary education</td>\n",
              "      <td>1</td>\n",
              "      <td>married</td>\n",
              "      <td>0</td>\n",
              "      <td>M</td>\n",
              "      <td>employee</td>\n",
              "      <td>0</td>\n",
              "      <td>42820.568</td>\n",
              "      <td>supplementary education</td>\n",
              "    </tr>\n",
              "    <tr>\n",
              "      <th>4</th>\n",
              "      <td>0</td>\n",
              "      <td>340266.072047</td>\n",
              "      <td>53</td>\n",
              "      <td>secondary education</td>\n",
              "      <td>1</td>\n",
              "      <td>civil partnership</td>\n",
              "      <td>1</td>\n",
              "      <td>F</td>\n",
              "      <td>retiree</td>\n",
              "      <td>0</td>\n",
              "      <td>25378.572</td>\n",
              "      <td>to have a wedding</td>\n",
              "    </tr>\n",
              "  </tbody>\n",
              "</table>\n",
              "</div>\n",
              "      <button class=\"colab-df-convert\" onclick=\"convertToInteractive('df-43c795d1-e1ca-4e73-aa1a-754ede46ec7e')\"\n",
              "              title=\"Convert this dataframe to an interactive table.\"\n",
              "              style=\"display:none;\">\n",
              "        \n",
              "  <svg xmlns=\"http://www.w3.org/2000/svg\" height=\"24px\"viewBox=\"0 0 24 24\"\n",
              "       width=\"24px\">\n",
              "    <path d=\"M0 0h24v24H0V0z\" fill=\"none\"/>\n",
              "    <path d=\"M18.56 5.44l.94 2.06.94-2.06 2.06-.94-2.06-.94-.94-2.06-.94 2.06-2.06.94zm-11 1L8.5 8.5l.94-2.06 2.06-.94-2.06-.94L8.5 2.5l-.94 2.06-2.06.94zm10 10l.94 2.06.94-2.06 2.06-.94-2.06-.94-.94-2.06-.94 2.06-2.06.94z\"/><path d=\"M17.41 7.96l-1.37-1.37c-.4-.4-.92-.59-1.43-.59-.52 0-1.04.2-1.43.59L10.3 9.45l-7.72 7.72c-.78.78-.78 2.05 0 2.83L4 21.41c.39.39.9.59 1.41.59.51 0 1.02-.2 1.41-.59l7.78-7.78 2.81-2.81c.8-.78.8-2.07 0-2.86zM5.41 20L4 18.59l7.72-7.72 1.47 1.35L5.41 20z\"/>\n",
              "  </svg>\n",
              "      </button>\n",
              "      \n",
              "  <style>\n",
              "    .colab-df-container {\n",
              "      display:flex;\n",
              "      flex-wrap:wrap;\n",
              "      gap: 12px;\n",
              "    }\n",
              "\n",
              "    .colab-df-convert {\n",
              "      background-color: #E8F0FE;\n",
              "      border: none;\n",
              "      border-radius: 50%;\n",
              "      cursor: pointer;\n",
              "      display: none;\n",
              "      fill: #1967D2;\n",
              "      height: 32px;\n",
              "      padding: 0 0 0 0;\n",
              "      width: 32px;\n",
              "    }\n",
              "\n",
              "    .colab-df-convert:hover {\n",
              "      background-color: #E2EBFA;\n",
              "      box-shadow: 0px 1px 2px rgba(60, 64, 67, 0.3), 0px 1px 3px 1px rgba(60, 64, 67, 0.15);\n",
              "      fill: #174EA6;\n",
              "    }\n",
              "\n",
              "    [theme=dark] .colab-df-convert {\n",
              "      background-color: #3B4455;\n",
              "      fill: #D2E3FC;\n",
              "    }\n",
              "\n",
              "    [theme=dark] .colab-df-convert:hover {\n",
              "      background-color: #434B5C;\n",
              "      box-shadow: 0px 1px 3px 1px rgba(0, 0, 0, 0.15);\n",
              "      filter: drop-shadow(0px 1px 2px rgba(0, 0, 0, 0.3));\n",
              "      fill: #FFFFFF;\n",
              "    }\n",
              "  </style>\n",
              "\n",
              "      <script>\n",
              "        const buttonEl =\n",
              "          document.querySelector('#df-43c795d1-e1ca-4e73-aa1a-754ede46ec7e button.colab-df-convert');\n",
              "        buttonEl.style.display =\n",
              "          google.colab.kernel.accessAllowed ? 'block' : 'none';\n",
              "\n",
              "        async function convertToInteractive(key) {\n",
              "          const element = document.querySelector('#df-43c795d1-e1ca-4e73-aa1a-754ede46ec7e');\n",
              "          const dataTable =\n",
              "            await google.colab.kernel.invokeFunction('convertToInteractive',\n",
              "                                                     [key], {});\n",
              "          if (!dataTable) return;\n",
              "\n",
              "          const docLinkHtml = 'Like what you see? Visit the ' +\n",
              "            '<a target=\"_blank\" href=https://colab.research.google.com/notebooks/data_table.ipynb>data table notebook</a>'\n",
              "            + ' to learn more about interactive tables.';\n",
              "          element.innerHTML = '';\n",
              "          dataTable['output_type'] = 'display_data';\n",
              "          await google.colab.output.renderOutput(dataTable, element);\n",
              "          const docLink = document.createElement('div');\n",
              "          docLink.innerHTML = docLinkHtml;\n",
              "          element.appendChild(docLink);\n",
              "        }\n",
              "      </script>\n",
              "    </div>\n",
              "  </div>\n",
              "  "
            ],
            "text/plain": [
              "   children  days_employed  dob_years            education  education_id  \\\n",
              "0         1   -8437.673028         42    bachelor's degree             0   \n",
              "1         1   -4024.803754         36  secondary education             1   \n",
              "2         0   -5623.422610         33  Secondary Education             1   \n",
              "3         3   -4124.747207         32  secondary education             1   \n",
              "4         0  340266.072047         53  secondary education             1   \n",
              "\n",
              "       family_status  family_status_id gender income_type  debt  total_income  \\\n",
              "0            married                 0      F    employee     0     40620.102   \n",
              "1            married                 0      F    employee     0     17932.802   \n",
              "2            married                 0      M    employee     0     23341.752   \n",
              "3            married                 0      M    employee     0     42820.568   \n",
              "4  civil partnership                 1      F     retiree     0     25378.572   \n",
              "\n",
              "                   purpose  \n",
              "0    purchase of the house  \n",
              "1             car purchase  \n",
              "2    purchase of the house  \n",
              "3  supplementary education  \n",
              "4        to have a wedding  "
            ]
          },
          "metadata": {},
          "execution_count": 5
        }
      ],
      "source": [
        "# let's print the first 5 rows\n",
        "df.head(5)"
      ]
    },
    {
      "cell_type": "markdown",
      "metadata": {
        "id": "RutqOtyO0v4g"
      },
      "source": [
        "There are typos in the 'education' column, some names are uppercase, some are lowercase.  The 'days employed' should be 'int' type and not 'float'. The 'purpose' column items should be shortened."
      ]
    },
    {
      "cell_type": "code",
      "execution_count": 6,
      "metadata": {
        "scrolled": false,
        "colab": {
          "base_uri": "https://localhost:8080/"
        },
        "id": "ic0xCjoS0v4h",
        "outputId": "ec4386c5-7f0e-4f7b-8d52-9028c602aca8"
      },
      "outputs": [
        {
          "output_type": "stream",
          "name": "stdout",
          "text": [
            "<class 'pandas.core.frame.DataFrame'>\n",
            "RangeIndex: 21525 entries, 0 to 21524\n",
            "Data columns (total 12 columns):\n",
            " #   Column            Non-Null Count  Dtype  \n",
            "---  ------            --------------  -----  \n",
            " 0   children          21525 non-null  int64  \n",
            " 1   days_employed     19351 non-null  float64\n",
            " 2   dob_years         21525 non-null  int64  \n",
            " 3   education         21525 non-null  object \n",
            " 4   education_id      21525 non-null  int64  \n",
            " 5   family_status     21525 non-null  object \n",
            " 6   family_status_id  21525 non-null  int64  \n",
            " 7   gender            21525 non-null  object \n",
            " 8   income_type       21525 non-null  object \n",
            " 9   debt              21525 non-null  int64  \n",
            " 10  total_income      19351 non-null  float64\n",
            " 11  purpose           21525 non-null  object \n",
            "dtypes: float64(2), int64(5), object(5)\n",
            "memory usage: 2.0+ MB\n"
          ]
        }
      ],
      "source": [
        "# Get info on data\n",
        "df.info()"
      ]
    },
    {
      "cell_type": "markdown",
      "metadata": {
        "id": "INRFvTQM0v4h"
      },
      "source": [
        "We can see that there are missing values in the 'days_employed' and 'total_income' columns."
      ]
    },
    {
      "cell_type": "code",
      "execution_count": 7,
      "metadata": {
        "scrolled": false,
        "colab": {
          "base_uri": "https://localhost:8080/",
          "height": 1281
        },
        "id": "hONlxe9z0v4h",
        "outputId": "9f9e9255-edd0-4ed1-db0d-d0f056403b0c"
      },
      "outputs": [
        {
          "output_type": "execute_result",
          "data": {
            "text/html": [
              "\n",
              "  <div id=\"df-1a4db85b-d00a-42bc-9fe4-c53a64fbc711\">\n",
              "    <div class=\"colab-df-container\">\n",
              "      <div>\n",
              "<style scoped>\n",
              "    .dataframe tbody tr th:only-of-type {\n",
              "        vertical-align: middle;\n",
              "    }\n",
              "\n",
              "    .dataframe tbody tr th {\n",
              "        vertical-align: top;\n",
              "    }\n",
              "\n",
              "    .dataframe thead th {\n",
              "        text-align: right;\n",
              "    }\n",
              "</style>\n",
              "<table border=\"1\" class=\"dataframe\">\n",
              "  <thead>\n",
              "    <tr style=\"text-align: right;\">\n",
              "      <th></th>\n",
              "      <th>children</th>\n",
              "      <th>days_employed</th>\n",
              "      <th>dob_years</th>\n",
              "      <th>education</th>\n",
              "      <th>education_id</th>\n",
              "      <th>family_status</th>\n",
              "      <th>family_status_id</th>\n",
              "      <th>gender</th>\n",
              "      <th>income_type</th>\n",
              "      <th>debt</th>\n",
              "      <th>total_income</th>\n",
              "      <th>purpose</th>\n",
              "    </tr>\n",
              "  </thead>\n",
              "  <tbody>\n",
              "    <tr>\n",
              "      <th>12</th>\n",
              "      <td>0</td>\n",
              "      <td>NaN</td>\n",
              "      <td>65</td>\n",
              "      <td>secondary education</td>\n",
              "      <td>1</td>\n",
              "      <td>civil partnership</td>\n",
              "      <td>1</td>\n",
              "      <td>M</td>\n",
              "      <td>retiree</td>\n",
              "      <td>0</td>\n",
              "      <td>NaN</td>\n",
              "      <td>to have a wedding</td>\n",
              "    </tr>\n",
              "    <tr>\n",
              "      <th>26</th>\n",
              "      <td>0</td>\n",
              "      <td>NaN</td>\n",
              "      <td>41</td>\n",
              "      <td>secondary education</td>\n",
              "      <td>1</td>\n",
              "      <td>married</td>\n",
              "      <td>0</td>\n",
              "      <td>M</td>\n",
              "      <td>civil servant</td>\n",
              "      <td>0</td>\n",
              "      <td>NaN</td>\n",
              "      <td>education</td>\n",
              "    </tr>\n",
              "    <tr>\n",
              "      <th>29</th>\n",
              "      <td>0</td>\n",
              "      <td>NaN</td>\n",
              "      <td>63</td>\n",
              "      <td>secondary education</td>\n",
              "      <td>1</td>\n",
              "      <td>unmarried</td>\n",
              "      <td>4</td>\n",
              "      <td>F</td>\n",
              "      <td>retiree</td>\n",
              "      <td>0</td>\n",
              "      <td>NaN</td>\n",
              "      <td>building a real estate</td>\n",
              "    </tr>\n",
              "    <tr>\n",
              "      <th>41</th>\n",
              "      <td>0</td>\n",
              "      <td>NaN</td>\n",
              "      <td>50</td>\n",
              "      <td>secondary education</td>\n",
              "      <td>1</td>\n",
              "      <td>married</td>\n",
              "      <td>0</td>\n",
              "      <td>F</td>\n",
              "      <td>civil servant</td>\n",
              "      <td>0</td>\n",
              "      <td>NaN</td>\n",
              "      <td>second-hand car purchase</td>\n",
              "    </tr>\n",
              "    <tr>\n",
              "      <th>55</th>\n",
              "      <td>0</td>\n",
              "      <td>NaN</td>\n",
              "      <td>54</td>\n",
              "      <td>secondary education</td>\n",
              "      <td>1</td>\n",
              "      <td>civil partnership</td>\n",
              "      <td>1</td>\n",
              "      <td>F</td>\n",
              "      <td>retiree</td>\n",
              "      <td>1</td>\n",
              "      <td>NaN</td>\n",
              "      <td>to have a wedding</td>\n",
              "    </tr>\n",
              "    <tr>\n",
              "      <th>...</th>\n",
              "      <td>...</td>\n",
              "      <td>...</td>\n",
              "      <td>...</td>\n",
              "      <td>...</td>\n",
              "      <td>...</td>\n",
              "      <td>...</td>\n",
              "      <td>...</td>\n",
              "      <td>...</td>\n",
              "      <td>...</td>\n",
              "      <td>...</td>\n",
              "      <td>...</td>\n",
              "      <td>...</td>\n",
              "    </tr>\n",
              "    <tr>\n",
              "      <th>21489</th>\n",
              "      <td>2</td>\n",
              "      <td>NaN</td>\n",
              "      <td>47</td>\n",
              "      <td>Secondary Education</td>\n",
              "      <td>1</td>\n",
              "      <td>married</td>\n",
              "      <td>0</td>\n",
              "      <td>M</td>\n",
              "      <td>business</td>\n",
              "      <td>0</td>\n",
              "      <td>NaN</td>\n",
              "      <td>purchase of a car</td>\n",
              "    </tr>\n",
              "    <tr>\n",
              "      <th>21495</th>\n",
              "      <td>1</td>\n",
              "      <td>NaN</td>\n",
              "      <td>50</td>\n",
              "      <td>secondary education</td>\n",
              "      <td>1</td>\n",
              "      <td>civil partnership</td>\n",
              "      <td>1</td>\n",
              "      <td>F</td>\n",
              "      <td>employee</td>\n",
              "      <td>0</td>\n",
              "      <td>NaN</td>\n",
              "      <td>wedding ceremony</td>\n",
              "    </tr>\n",
              "    <tr>\n",
              "      <th>21497</th>\n",
              "      <td>0</td>\n",
              "      <td>NaN</td>\n",
              "      <td>48</td>\n",
              "      <td>BACHELOR'S DEGREE</td>\n",
              "      <td>0</td>\n",
              "      <td>married</td>\n",
              "      <td>0</td>\n",
              "      <td>F</td>\n",
              "      <td>business</td>\n",
              "      <td>0</td>\n",
              "      <td>NaN</td>\n",
              "      <td>building a property</td>\n",
              "    </tr>\n",
              "    <tr>\n",
              "      <th>21502</th>\n",
              "      <td>1</td>\n",
              "      <td>NaN</td>\n",
              "      <td>42</td>\n",
              "      <td>secondary education</td>\n",
              "      <td>1</td>\n",
              "      <td>married</td>\n",
              "      <td>0</td>\n",
              "      <td>F</td>\n",
              "      <td>employee</td>\n",
              "      <td>0</td>\n",
              "      <td>NaN</td>\n",
              "      <td>building a real estate</td>\n",
              "    </tr>\n",
              "    <tr>\n",
              "      <th>21510</th>\n",
              "      <td>2</td>\n",
              "      <td>NaN</td>\n",
              "      <td>28</td>\n",
              "      <td>secondary education</td>\n",
              "      <td>1</td>\n",
              "      <td>married</td>\n",
              "      <td>0</td>\n",
              "      <td>F</td>\n",
              "      <td>employee</td>\n",
              "      <td>0</td>\n",
              "      <td>NaN</td>\n",
              "      <td>car purchase</td>\n",
              "    </tr>\n",
              "  </tbody>\n",
              "</table>\n",
              "<p>2174 rows × 12 columns</p>\n",
              "</div>\n",
              "      <button class=\"colab-df-convert\" onclick=\"convertToInteractive('df-1a4db85b-d00a-42bc-9fe4-c53a64fbc711')\"\n",
              "              title=\"Convert this dataframe to an interactive table.\"\n",
              "              style=\"display:none;\">\n",
              "        \n",
              "  <svg xmlns=\"http://www.w3.org/2000/svg\" height=\"24px\"viewBox=\"0 0 24 24\"\n",
              "       width=\"24px\">\n",
              "    <path d=\"M0 0h24v24H0V0z\" fill=\"none\"/>\n",
              "    <path d=\"M18.56 5.44l.94 2.06.94-2.06 2.06-.94-2.06-.94-.94-2.06-.94 2.06-2.06.94zm-11 1L8.5 8.5l.94-2.06 2.06-.94-2.06-.94L8.5 2.5l-.94 2.06-2.06.94zm10 10l.94 2.06.94-2.06 2.06-.94-2.06-.94-.94-2.06-.94 2.06-2.06.94z\"/><path d=\"M17.41 7.96l-1.37-1.37c-.4-.4-.92-.59-1.43-.59-.52 0-1.04.2-1.43.59L10.3 9.45l-7.72 7.72c-.78.78-.78 2.05 0 2.83L4 21.41c.39.39.9.59 1.41.59.51 0 1.02-.2 1.41-.59l7.78-7.78 2.81-2.81c.8-.78.8-2.07 0-2.86zM5.41 20L4 18.59l7.72-7.72 1.47 1.35L5.41 20z\"/>\n",
              "  </svg>\n",
              "      </button>\n",
              "      \n",
              "  <style>\n",
              "    .colab-df-container {\n",
              "      display:flex;\n",
              "      flex-wrap:wrap;\n",
              "      gap: 12px;\n",
              "    }\n",
              "\n",
              "    .colab-df-convert {\n",
              "      background-color: #E8F0FE;\n",
              "      border: none;\n",
              "      border-radius: 50%;\n",
              "      cursor: pointer;\n",
              "      display: none;\n",
              "      fill: #1967D2;\n",
              "      height: 32px;\n",
              "      padding: 0 0 0 0;\n",
              "      width: 32px;\n",
              "    }\n",
              "\n",
              "    .colab-df-convert:hover {\n",
              "      background-color: #E2EBFA;\n",
              "      box-shadow: 0px 1px 2px rgba(60, 64, 67, 0.3), 0px 1px 3px 1px rgba(60, 64, 67, 0.15);\n",
              "      fill: #174EA6;\n",
              "    }\n",
              "\n",
              "    [theme=dark] .colab-df-convert {\n",
              "      background-color: #3B4455;\n",
              "      fill: #D2E3FC;\n",
              "    }\n",
              "\n",
              "    [theme=dark] .colab-df-convert:hover {\n",
              "      background-color: #434B5C;\n",
              "      box-shadow: 0px 1px 3px 1px rgba(0, 0, 0, 0.15);\n",
              "      filter: drop-shadow(0px 1px 2px rgba(0, 0, 0, 0.3));\n",
              "      fill: #FFFFFF;\n",
              "    }\n",
              "  </style>\n",
              "\n",
              "      <script>\n",
              "        const buttonEl =\n",
              "          document.querySelector('#df-1a4db85b-d00a-42bc-9fe4-c53a64fbc711 button.colab-df-convert');\n",
              "        buttonEl.style.display =\n",
              "          google.colab.kernel.accessAllowed ? 'block' : 'none';\n",
              "\n",
              "        async function convertToInteractive(key) {\n",
              "          const element = document.querySelector('#df-1a4db85b-d00a-42bc-9fe4-c53a64fbc711');\n",
              "          const dataTable =\n",
              "            await google.colab.kernel.invokeFunction('convertToInteractive',\n",
              "                                                     [key], {});\n",
              "          if (!dataTable) return;\n",
              "\n",
              "          const docLinkHtml = 'Like what you see? Visit the ' +\n",
              "            '<a target=\"_blank\" href=https://colab.research.google.com/notebooks/data_table.ipynb>data table notebook</a>'\n",
              "            + ' to learn more about interactive tables.';\n",
              "          element.innerHTML = '';\n",
              "          dataTable['output_type'] = 'display_data';\n",
              "          await google.colab.output.renderOutput(dataTable, element);\n",
              "          const docLink = document.createElement('div');\n",
              "          docLink.innerHTML = docLinkHtml;\n",
              "          element.appendChild(docLink);\n",
              "        }\n",
              "      </script>\n",
              "    </div>\n",
              "  </div>\n",
              "  "
            ],
            "text/plain": [
              "       children  days_employed  dob_years            education  education_id  \\\n",
              "12            0            NaN         65  secondary education             1   \n",
              "26            0            NaN         41  secondary education             1   \n",
              "29            0            NaN         63  secondary education             1   \n",
              "41            0            NaN         50  secondary education             1   \n",
              "55            0            NaN         54  secondary education             1   \n",
              "...         ...            ...        ...                  ...           ...   \n",
              "21489         2            NaN         47  Secondary Education             1   \n",
              "21495         1            NaN         50  secondary education             1   \n",
              "21497         0            NaN         48    BACHELOR'S DEGREE             0   \n",
              "21502         1            NaN         42  secondary education             1   \n",
              "21510         2            NaN         28  secondary education             1   \n",
              "\n",
              "           family_status  family_status_id gender    income_type  debt  \\\n",
              "12     civil partnership                 1      M        retiree     0   \n",
              "26               married                 0      M  civil servant     0   \n",
              "29             unmarried                 4      F        retiree     0   \n",
              "41               married                 0      F  civil servant     0   \n",
              "55     civil partnership                 1      F        retiree     1   \n",
              "...                  ...               ...    ...            ...   ...   \n",
              "21489            married                 0      M       business     0   \n",
              "21495  civil partnership                 1      F       employee     0   \n",
              "21497            married                 0      F       business     0   \n",
              "21502            married                 0      F       employee     0   \n",
              "21510            married                 0      F       employee     0   \n",
              "\n",
              "       total_income                   purpose  \n",
              "12              NaN         to have a wedding  \n",
              "26              NaN                 education  \n",
              "29              NaN    building a real estate  \n",
              "41              NaN  second-hand car purchase  \n",
              "55              NaN         to have a wedding  \n",
              "...             ...                       ...  \n",
              "21489           NaN         purchase of a car  \n",
              "21495           NaN          wedding ceremony  \n",
              "21497           NaN       building a property  \n",
              "21502           NaN    building a real estate  \n",
              "21510           NaN              car purchase  \n",
              "\n",
              "[2174 rows x 12 columns]"
            ]
          },
          "metadata": {},
          "execution_count": 7
        }
      ],
      "source": [
        "# Let's look at the filtered table with missing values in the the first column with missing data\n",
        "df[df['days_employed'].isna()]"
      ]
    },
    {
      "cell_type": "markdown",
      "metadata": {
        "id": "L3g8znxz0v4i"
      },
      "source": [
        "From the data sample above, one can learn that clients who did not fill in the days_employed also did not fill in the total_income column. This conclusion should be further invistigated by counting if the number of missing values in the days_employed column equals to the number of missing values in the data frame filtered for 'NaN' in both columns (the number of missing values in both the days_employed & total_income columns)."
      ]
    },
    {
      "cell_type": "code",
      "execution_count": 8,
      "metadata": {
        "colab": {
          "base_uri": "https://localhost:8080/"
        },
        "id": "pRsgmS560v4j",
        "outputId": "e9443c29-8aed-4bad-ab71-052b736b5d5e"
      },
      "outputs": [
        {
          "output_type": "execute_result",
          "data": {
            "text/plain": [
              "2174"
            ]
          },
          "metadata": {},
          "execution_count": 8
        }
      ],
      "source": [
        "# Let's apply multiple conditions for filtering data and look at the number of rows in the filtered table.\n",
        "len(df[df['days_employed' and 'total_income'].isna()])"
      ]
    },
    {
      "cell_type": "code",
      "execution_count": 9,
      "metadata": {
        "colab": {
          "base_uri": "https://localhost:8080/",
          "height": 713
        },
        "id": "FW82AyL70v4j",
        "outputId": "45026f83-f27e-4566-d0ba-15bdb172412b"
      },
      "outputs": [
        {
          "output_type": "execute_result",
          "data": {
            "text/html": [
              "\n",
              "  <div id=\"df-70fb64c1-707e-4bb1-94dc-4ea670974e0e\">\n",
              "    <div class=\"colab-df-container\">\n",
              "      <div>\n",
              "<style scoped>\n",
              "    .dataframe tbody tr th:only-of-type {\n",
              "        vertical-align: middle;\n",
              "    }\n",
              "\n",
              "    .dataframe tbody tr th {\n",
              "        vertical-align: top;\n",
              "    }\n",
              "\n",
              "    .dataframe thead th {\n",
              "        text-align: right;\n",
              "    }\n",
              "</style>\n",
              "<table border=\"1\" class=\"dataframe\">\n",
              "  <thead>\n",
              "    <tr style=\"text-align: right;\">\n",
              "      <th></th>\n",
              "      <th>children</th>\n",
              "      <th>days_employed</th>\n",
              "      <th>dob_years</th>\n",
              "      <th>education</th>\n",
              "      <th>education_id</th>\n",
              "      <th>family_status</th>\n",
              "      <th>family_status_id</th>\n",
              "      <th>gender</th>\n",
              "      <th>income_type</th>\n",
              "      <th>debt</th>\n",
              "      <th>total_income</th>\n",
              "      <th>purpose</th>\n",
              "    </tr>\n",
              "  </thead>\n",
              "  <tbody>\n",
              "    <tr>\n",
              "      <th>12</th>\n",
              "      <td>0</td>\n",
              "      <td>NaN</td>\n",
              "      <td>65</td>\n",
              "      <td>secondary education</td>\n",
              "      <td>1</td>\n",
              "      <td>civil partnership</td>\n",
              "      <td>1</td>\n",
              "      <td>M</td>\n",
              "      <td>retiree</td>\n",
              "      <td>0</td>\n",
              "      <td>NaN</td>\n",
              "      <td>to have a wedding</td>\n",
              "    </tr>\n",
              "    <tr>\n",
              "      <th>26</th>\n",
              "      <td>0</td>\n",
              "      <td>NaN</td>\n",
              "      <td>41</td>\n",
              "      <td>secondary education</td>\n",
              "      <td>1</td>\n",
              "      <td>married</td>\n",
              "      <td>0</td>\n",
              "      <td>M</td>\n",
              "      <td>civil servant</td>\n",
              "      <td>0</td>\n",
              "      <td>NaN</td>\n",
              "      <td>education</td>\n",
              "    </tr>\n",
              "    <tr>\n",
              "      <th>29</th>\n",
              "      <td>0</td>\n",
              "      <td>NaN</td>\n",
              "      <td>63</td>\n",
              "      <td>secondary education</td>\n",
              "      <td>1</td>\n",
              "      <td>unmarried</td>\n",
              "      <td>4</td>\n",
              "      <td>F</td>\n",
              "      <td>retiree</td>\n",
              "      <td>0</td>\n",
              "      <td>NaN</td>\n",
              "      <td>building a real estate</td>\n",
              "    </tr>\n",
              "    <tr>\n",
              "      <th>41</th>\n",
              "      <td>0</td>\n",
              "      <td>NaN</td>\n",
              "      <td>50</td>\n",
              "      <td>secondary education</td>\n",
              "      <td>1</td>\n",
              "      <td>married</td>\n",
              "      <td>0</td>\n",
              "      <td>F</td>\n",
              "      <td>civil servant</td>\n",
              "      <td>0</td>\n",
              "      <td>NaN</td>\n",
              "      <td>second-hand car purchase</td>\n",
              "    </tr>\n",
              "    <tr>\n",
              "      <th>55</th>\n",
              "      <td>0</td>\n",
              "      <td>NaN</td>\n",
              "      <td>54</td>\n",
              "      <td>secondary education</td>\n",
              "      <td>1</td>\n",
              "      <td>civil partnership</td>\n",
              "      <td>1</td>\n",
              "      <td>F</td>\n",
              "      <td>retiree</td>\n",
              "      <td>1</td>\n",
              "      <td>NaN</td>\n",
              "      <td>to have a wedding</td>\n",
              "    </tr>\n",
              "    <tr>\n",
              "      <th>...</th>\n",
              "      <td>...</td>\n",
              "      <td>...</td>\n",
              "      <td>...</td>\n",
              "      <td>...</td>\n",
              "      <td>...</td>\n",
              "      <td>...</td>\n",
              "      <td>...</td>\n",
              "      <td>...</td>\n",
              "      <td>...</td>\n",
              "      <td>...</td>\n",
              "      <td>...</td>\n",
              "      <td>...</td>\n",
              "    </tr>\n",
              "    <tr>\n",
              "      <th>21489</th>\n",
              "      <td>2</td>\n",
              "      <td>NaN</td>\n",
              "      <td>47</td>\n",
              "      <td>Secondary Education</td>\n",
              "      <td>1</td>\n",
              "      <td>married</td>\n",
              "      <td>0</td>\n",
              "      <td>M</td>\n",
              "      <td>business</td>\n",
              "      <td>0</td>\n",
              "      <td>NaN</td>\n",
              "      <td>purchase of a car</td>\n",
              "    </tr>\n",
              "    <tr>\n",
              "      <th>21495</th>\n",
              "      <td>1</td>\n",
              "      <td>NaN</td>\n",
              "      <td>50</td>\n",
              "      <td>secondary education</td>\n",
              "      <td>1</td>\n",
              "      <td>civil partnership</td>\n",
              "      <td>1</td>\n",
              "      <td>F</td>\n",
              "      <td>employee</td>\n",
              "      <td>0</td>\n",
              "      <td>NaN</td>\n",
              "      <td>wedding ceremony</td>\n",
              "    </tr>\n",
              "    <tr>\n",
              "      <th>21497</th>\n",
              "      <td>0</td>\n",
              "      <td>NaN</td>\n",
              "      <td>48</td>\n",
              "      <td>BACHELOR'S DEGREE</td>\n",
              "      <td>0</td>\n",
              "      <td>married</td>\n",
              "      <td>0</td>\n",
              "      <td>F</td>\n",
              "      <td>business</td>\n",
              "      <td>0</td>\n",
              "      <td>NaN</td>\n",
              "      <td>building a property</td>\n",
              "    </tr>\n",
              "    <tr>\n",
              "      <th>21502</th>\n",
              "      <td>1</td>\n",
              "      <td>NaN</td>\n",
              "      <td>42</td>\n",
              "      <td>secondary education</td>\n",
              "      <td>1</td>\n",
              "      <td>married</td>\n",
              "      <td>0</td>\n",
              "      <td>F</td>\n",
              "      <td>employee</td>\n",
              "      <td>0</td>\n",
              "      <td>NaN</td>\n",
              "      <td>building a real estate</td>\n",
              "    </tr>\n",
              "    <tr>\n",
              "      <th>21510</th>\n",
              "      <td>2</td>\n",
              "      <td>NaN</td>\n",
              "      <td>28</td>\n",
              "      <td>secondary education</td>\n",
              "      <td>1</td>\n",
              "      <td>married</td>\n",
              "      <td>0</td>\n",
              "      <td>F</td>\n",
              "      <td>employee</td>\n",
              "      <td>0</td>\n",
              "      <td>NaN</td>\n",
              "      <td>car purchase</td>\n",
              "    </tr>\n",
              "  </tbody>\n",
              "</table>\n",
              "<p>2174 rows × 12 columns</p>\n",
              "</div>\n",
              "      <button class=\"colab-df-convert\" onclick=\"convertToInteractive('df-70fb64c1-707e-4bb1-94dc-4ea670974e0e')\"\n",
              "              title=\"Convert this dataframe to an interactive table.\"\n",
              "              style=\"display:none;\">\n",
              "        \n",
              "  <svg xmlns=\"http://www.w3.org/2000/svg\" height=\"24px\"viewBox=\"0 0 24 24\"\n",
              "       width=\"24px\">\n",
              "    <path d=\"M0 0h24v24H0V0z\" fill=\"none\"/>\n",
              "    <path d=\"M18.56 5.44l.94 2.06.94-2.06 2.06-.94-2.06-.94-.94-2.06-.94 2.06-2.06.94zm-11 1L8.5 8.5l.94-2.06 2.06-.94-2.06-.94L8.5 2.5l-.94 2.06-2.06.94zm10 10l.94 2.06.94-2.06 2.06-.94-2.06-.94-.94-2.06-.94 2.06-2.06.94z\"/><path d=\"M17.41 7.96l-1.37-1.37c-.4-.4-.92-.59-1.43-.59-.52 0-1.04.2-1.43.59L10.3 9.45l-7.72 7.72c-.78.78-.78 2.05 0 2.83L4 21.41c.39.39.9.59 1.41.59.51 0 1.02-.2 1.41-.59l7.78-7.78 2.81-2.81c.8-.78.8-2.07 0-2.86zM5.41 20L4 18.59l7.72-7.72 1.47 1.35L5.41 20z\"/>\n",
              "  </svg>\n",
              "      </button>\n",
              "      \n",
              "  <style>\n",
              "    .colab-df-container {\n",
              "      display:flex;\n",
              "      flex-wrap:wrap;\n",
              "      gap: 12px;\n",
              "    }\n",
              "\n",
              "    .colab-df-convert {\n",
              "      background-color: #E8F0FE;\n",
              "      border: none;\n",
              "      border-radius: 50%;\n",
              "      cursor: pointer;\n",
              "      display: none;\n",
              "      fill: #1967D2;\n",
              "      height: 32px;\n",
              "      padding: 0 0 0 0;\n",
              "      width: 32px;\n",
              "    }\n",
              "\n",
              "    .colab-df-convert:hover {\n",
              "      background-color: #E2EBFA;\n",
              "      box-shadow: 0px 1px 2px rgba(60, 64, 67, 0.3), 0px 1px 3px 1px rgba(60, 64, 67, 0.15);\n",
              "      fill: #174EA6;\n",
              "    }\n",
              "\n",
              "    [theme=dark] .colab-df-convert {\n",
              "      background-color: #3B4455;\n",
              "      fill: #D2E3FC;\n",
              "    }\n",
              "\n",
              "    [theme=dark] .colab-df-convert:hover {\n",
              "      background-color: #434B5C;\n",
              "      box-shadow: 0px 1px 3px 1px rgba(0, 0, 0, 0.15);\n",
              "      filter: drop-shadow(0px 1px 2px rgba(0, 0, 0, 0.3));\n",
              "      fill: #FFFFFF;\n",
              "    }\n",
              "  </style>\n",
              "\n",
              "      <script>\n",
              "        const buttonEl =\n",
              "          document.querySelector('#df-70fb64c1-707e-4bb1-94dc-4ea670974e0e button.colab-df-convert');\n",
              "        buttonEl.style.display =\n",
              "          google.colab.kernel.accessAllowed ? 'block' : 'none';\n",
              "\n",
              "        async function convertToInteractive(key) {\n",
              "          const element = document.querySelector('#df-70fb64c1-707e-4bb1-94dc-4ea670974e0e');\n",
              "          const dataTable =\n",
              "            await google.colab.kernel.invokeFunction('convertToInteractive',\n",
              "                                                     [key], {});\n",
              "          if (!dataTable) return;\n",
              "\n",
              "          const docLinkHtml = 'Like what you see? Visit the ' +\n",
              "            '<a target=\"_blank\" href=https://colab.research.google.com/notebooks/data_table.ipynb>data table notebook</a>'\n",
              "            + ' to learn more about interactive tables.';\n",
              "          element.innerHTML = '';\n",
              "          dataTable['output_type'] = 'display_data';\n",
              "          await google.colab.output.renderOutput(dataTable, element);\n",
              "          const docLink = document.createElement('div');\n",
              "          docLink.innerHTML = docLinkHtml;\n",
              "          element.appendChild(docLink);\n",
              "        }\n",
              "      </script>\n",
              "    </div>\n",
              "  </div>\n",
              "  "
            ],
            "text/plain": [
              "       children  days_employed  dob_years            education  education_id  \\\n",
              "12            0            NaN         65  secondary education             1   \n",
              "26            0            NaN         41  secondary education             1   \n",
              "29            0            NaN         63  secondary education             1   \n",
              "41            0            NaN         50  secondary education             1   \n",
              "55            0            NaN         54  secondary education             1   \n",
              "...         ...            ...        ...                  ...           ...   \n",
              "21489         2            NaN         47  Secondary Education             1   \n",
              "21495         1            NaN         50  secondary education             1   \n",
              "21497         0            NaN         48    BACHELOR'S DEGREE             0   \n",
              "21502         1            NaN         42  secondary education             1   \n",
              "21510         2            NaN         28  secondary education             1   \n",
              "\n",
              "           family_status  family_status_id gender    income_type  debt  \\\n",
              "12     civil partnership                 1      M        retiree     0   \n",
              "26               married                 0      M  civil servant     0   \n",
              "29             unmarried                 4      F        retiree     0   \n",
              "41               married                 0      F  civil servant     0   \n",
              "55     civil partnership                 1      F        retiree     1   \n",
              "...                  ...               ...    ...            ...   ...   \n",
              "21489            married                 0      M       business     0   \n",
              "21495  civil partnership                 1      F       employee     0   \n",
              "21497            married                 0      F       business     0   \n",
              "21502            married                 0      F       employee     0   \n",
              "21510            married                 0      F       employee     0   \n",
              "\n",
              "       total_income                   purpose  \n",
              "12              NaN         to have a wedding  \n",
              "26              NaN                 education  \n",
              "29              NaN    building a real estate  \n",
              "41              NaN  second-hand car purchase  \n",
              "55              NaN         to have a wedding  \n",
              "...             ...                       ...  \n",
              "21489           NaN         purchase of a car  \n",
              "21495           NaN          wedding ceremony  \n",
              "21497           NaN       building a property  \n",
              "21502           NaN    building a real estate  \n",
              "21510           NaN              car purchase  \n",
              "\n",
              "[2174 rows x 12 columns]"
            ]
          },
          "metadata": {},
          "execution_count": 9
        }
      ],
      "source": [
        "df[df['days_employed' and 'total_income'].isna()]"
      ]
    },
    {
      "cell_type": "markdown",
      "metadata": {
        "id": "IVXjV-j-0v4j"
      },
      "source": [
        "**Intermediate conclusion**\n",
        "\n",
        "The number of rows in the filtered table (missing values in both the days_employed & total_income columns) matches the number of missing values in days_employed column.\n",
        "\n",
        "Ten Percent of the whole data set is missing values. This is a considerably large piece of data and therefore we would want to fill in the missing values. \n",
        "\n",
        "There might be a correlation beween the income_type and missing values in the columns we have checked above. A few reasons for that could be as following:\n",
        "1. Retirees who do not have income from employment, but through pension fund. Hence, dependant on how the question was phrased, they did not mention income which is not based on labour. \n",
        "2. Students who do not work, and therefore skip the employement questions.\n",
        "3. Civil Servants who are not allowed to disclose information on their employment such as income and years of experience.\n",
        "4. Businessmen have variable income and the years of expertise is not relevant in their field since they work on different income streams.\n",
        "\n",
        "Secondly, we should check whether there's any dependence missing values have on the level of education. There might be a connection between \"lower\" education level (secondary education) and not revealing their income or years of experience. Causes for that can include:\n",
        "1. Lower level of education can lead to lower-paying jobs.\n",
        "2. Lower level of education can lead to less stable employment.\n",
        "3. Lower level of education as the client is in obtaining further education at the moment and does not have a job.\n",
        "\n",
        "My first analysis would be to check if there is a correlation between education and missing values."
      ]
    },
    {
      "cell_type": "code",
      "execution_count": 10,
      "metadata": {
        "scrolled": true,
        "colab": {
          "base_uri": "https://localhost:8080/"
        },
        "id": "jHJ0RXtm0v4k",
        "outputId": "138614e2-99af-4f38-b753-3f6cbb8f3969"
      },
      "outputs": [
        {
          "output_type": "execute_result",
          "data": {
            "text/plain": [
              "secondary education    1408\n",
              "bachelor's degree       496\n",
              "SECONDARY EDUCATION      67\n",
              "Secondary Education      65\n",
              "some college             55\n",
              "Bachelor's Degree        25\n",
              "BACHELOR'S DEGREE        23\n",
              "primary education        19\n",
              "Some College              7\n",
              "SOME COLLEGE              7\n",
              "Primary Education         1\n",
              "PRIMARY EDUCATION         1\n",
              "Name: education, dtype: int64"
            ]
          },
          "metadata": {},
          "execution_count": 10
        }
      ],
      "source": [
        "# Let's investigate clients who do not have data on identified characteristic and the column with the missing values\n",
        "df_miss=df[df['days_employed'].isna()]\n",
        "df_miss['education'].value_counts()"
      ]
    },
    {
      "cell_type": "code",
      "execution_count": 11,
      "metadata": {
        "colab": {
          "base_uri": "https://localhost:8080/"
        },
        "id": "cYPNSqss0v4l",
        "outputId": "7d1c0276-ce38-42be-82bc-39879c4a1cb0"
      },
      "outputs": [
        {
          "output_type": "stream",
          "name": "stdout",
          "text": [
            "secondary education    64.765409\n",
            "bachelor's degree      22.815087\n",
            "SECONDARY EDUCATION     3.081877\n",
            "Secondary Education     2.989880\n",
            "some college            2.529899\n",
            "Bachelor's Degree       1.149954\n",
            "BACHELOR'S DEGREE       1.057958\n",
            "primary education       0.873965\n",
            "Some College            0.321987\n",
            "SOME COLLEGE            0.321987\n",
            "Primary Education       0.045998\n",
            "PRIMARY EDUCATION       0.045998\n",
            "Name: education, dtype: float64\n"
          ]
        }
      ],
      "source": [
        "#Distribution of missing values by education\n",
        "perc = df_miss['education'].value_counts()/df_miss['education'].count()*100\n",
        "print(perc)"
      ]
    },
    {
      "cell_type": "markdown",
      "metadata": {
        "id": "GTjBb5zU0v4m"
      },
      "source": [
        "**Possible reasons for missing values in data**\n",
        "\n",
        "Secondary education (in all different spellings) constitues 70% of education in clients with missing data. We can conclude that missing values probably have a pattern and in order to examine this hypothesis, we should look at the distribution of education in the whole dataset."
      ]
    },
    {
      "cell_type": "code",
      "execution_count": 12,
      "metadata": {
        "colab": {
          "base_uri": "https://localhost:8080/"
        },
        "id": "qoAAFU_T0v4m",
        "outputId": "c321d7f4-7009-4072-d32b-c220391305dd"
      },
      "outputs": [
        {
          "output_type": "execute_result",
          "data": {
            "text/plain": [
              "secondary education    63.879210\n",
              "bachelor's degree      21.918699\n",
              "SECONDARY EDUCATION     3.586527\n",
              "Secondary Education     3.303136\n",
              "some college            3.103368\n",
              "BACHELOR'S DEGREE       1.272938\n",
              "Bachelor's Degree       1.245064\n",
              "primary education       1.161440\n",
              "Some College            0.218351\n",
              "SOME COLLEGE            0.134727\n",
              "PRIMARY EDUCATION       0.078978\n",
              "Primary Education       0.069686\n",
              "graduate degree         0.018583\n",
              "Graduate Degree         0.004646\n",
              "GRADUATE DEGREE         0.004646\n",
              "Name: education, dtype: float64"
            ]
          },
          "metadata": {},
          "execution_count": 12
        }
      ],
      "source": [
        "# Checking the distribution in the whole dataset\n",
        "df['education'].value_counts()/df['education'].count()*100"
      ]
    },
    {
      "cell_type": "markdown",
      "metadata": {
        "id": "dt6vuuFb0v4m"
      },
      "source": [
        "**Intermediate conclusion**\n",
        "\n",
        "The disribution of education in the original dataset is similar to the filtered table. Hence we cannot conclude that there is a correlarion between level of education and missing values in the dataset.\n",
        "\n",
        "Next, I would like to review if there is a connection between income type and missing information."
      ]
    },
    {
      "cell_type": "code",
      "execution_count": 13,
      "metadata": {
        "colab": {
          "base_uri": "https://localhost:8080/"
        },
        "id": "krtJaMPZ0v4n",
        "outputId": "b3d1e59a-a33c-4639-c99c-c5d2283a8405"
      },
      "outputs": [
        {
          "output_type": "execute_result",
          "data": {
            "text/plain": [
              "employee         50.827967\n",
              "business         23.367065\n",
              "retiree          18.997240\n",
              "civil servant     6.761730\n",
              "entrepreneur      0.045998\n",
              "Name: income_type, dtype: float64"
            ]
          },
          "metadata": {},
          "execution_count": 13
        }
      ],
      "source": [
        "# Check for income type and missing values distribution\n",
        "df_miss['income_type'].value_counts()/df_miss['income_type'].count()*100"
      ]
    },
    {
      "cell_type": "code",
      "execution_count": 14,
      "metadata": {
        "colab": {
          "base_uri": "https://localhost:8080/"
        },
        "id": "3IRkz5Uc0v4n",
        "outputId": "c7a0094a-8731-4ed6-ab6f-f2d03a55b6a2"
      },
      "outputs": [
        {
          "output_type": "execute_result",
          "data": {
            "text/plain": [
              "employee                       51.656214\n",
              "business                       23.623693\n",
              "retiree                        17.914053\n",
              "civil servant                   6.778165\n",
              "unemployed                      0.009292\n",
              "entrepreneur                    0.009292\n",
              "student                         0.004646\n",
              "paternity / maternity leave     0.004646\n",
              "Name: income_type, dtype: float64"
            ]
          },
          "metadata": {},
          "execution_count": 14
        }
      ],
      "source": [
        "# distribution of income type in the dataset\n",
        "df['income_type'].value_counts()/df['income_type'].count()*100"
      ]
    },
    {
      "cell_type": "markdown",
      "metadata": {
        "id": "YHSBJrLg0v4o"
      },
      "source": [
        "**Intermediate conclusion**\n",
        "\n",
        "Looking at the distribution - No correlation beetween income types and missing values.\n",
        "Last, we are going to review descriptive statistics to see if there is a connection to age."
      ]
    },
    {
      "cell_type": "code",
      "execution_count": 15,
      "metadata": {
        "scrolled": true,
        "colab": {
          "base_uri": "https://localhost:8080/"
        },
        "id": "1OgTTAzn0v4o",
        "outputId": "c6f055dd-e82a-49c3-da45-842584a4ade3"
      },
      "outputs": [
        {
          "output_type": "execute_result",
          "data": {
            "text/plain": [
              "count    2174.000000\n",
              "mean       43.632015\n",
              "std        12.531481\n",
              "min         0.000000\n",
              "25%        34.000000\n",
              "50%        43.000000\n",
              "75%        54.000000\n",
              "max        73.000000\n",
              "Name: dob_years, dtype: float64"
            ]
          },
          "metadata": {},
          "execution_count": 15
        }
      ],
      "source": [
        "df_miss['dob_years'].describe()"
      ]
    },
    {
      "cell_type": "code",
      "execution_count": 16,
      "metadata": {
        "colab": {
          "base_uri": "https://localhost:8080/"
        },
        "id": "FJPuVuNe0v4o",
        "outputId": "2d371fe6-ad4e-4440-80a6-813daf6b4ace"
      },
      "outputs": [
        {
          "output_type": "execute_result",
          "data": {
            "text/plain": [
              "count    21525.000000\n",
              "mean        43.293380\n",
              "std         12.574584\n",
              "min          0.000000\n",
              "25%         33.000000\n",
              "50%         42.000000\n",
              "75%         53.000000\n",
              "max         75.000000\n",
              "Name: dob_years, dtype: float64"
            ]
          },
          "metadata": {},
          "execution_count": 16
        }
      ],
      "source": [
        "df['dob_years'].describe()"
      ]
    },
    {
      "cell_type": "markdown",
      "metadata": {
        "id": "3Nl2foIW0v4o"
      },
      "source": [
        "**Conclusions**\n",
        "\n",
        "Finally, after investigating education level, income type and age, we found no relationship to missing values.\n",
        "\n",
        "I would like to fill in the missed values later in my analysis with mean (or median) of the relevant categories. \n",
        "\n",
        "In our next chapter, I am going to transform data as it follows:\n",
        "1. Remove duplicates\n",
        "2. Fix typos\n",
        "3. Fill in missing values"
      ]
    },
    {
      "cell_type": "markdown",
      "metadata": {
        "id": "HQoYDs3l0v4p"
      },
      "source": [
        "## Data transformation"
      ]
    },
    {
      "cell_type": "code",
      "execution_count": 17,
      "metadata": {
        "colab": {
          "base_uri": "https://localhost:8080/"
        },
        "id": "VUa28C8u0v4p",
        "outputId": "cdd90df9-9375-4690-c2ad-b7b35ce2ba31"
      },
      "outputs": [
        {
          "output_type": "execute_result",
          "data": {
            "text/plain": [
              "array([\"bachelor's degree\", 'secondary education', 'Secondary Education',\n",
              "       'SECONDARY EDUCATION', \"BACHELOR'S DEGREE\", 'some college',\n",
              "       'primary education', \"Bachelor's Degree\", 'SOME COLLEGE',\n",
              "       'Some College', 'PRIMARY EDUCATION', 'Primary Education',\n",
              "       'Graduate Degree', 'GRADUATE DEGREE', 'graduate degree'],\n",
              "      dtype=object)"
            ]
          },
          "metadata": {},
          "execution_count": 17
        }
      ],
      "source": [
        "# Let's see all values in education column to check if and what spellings will need to be fixed\n",
        "df['education'].unique()"
      ]
    },
    {
      "cell_type": "code",
      "execution_count": 18,
      "metadata": {
        "scrolled": true,
        "id": "EF2es2zE0v4p"
      },
      "outputs": [],
      "source": [
        "df['education'] = df['education'].replace(\"BACHELOR'S DEGREE\",'bachelor\\'s degree')\n",
        "df['education'] = df['education'].replace('Secondary Education','secondary education')\n",
        "df['education'] = df['education'].replace('SECONDARY EDUCATION','secondary education')\n",
        "df['education'] = df['education'].replace(\"Bachelor's Degree\",'bachelor\\'s degree')\n",
        "df['education'] = df['education'].replace('SOME COLLEGE', 'Some College')\n",
        "df['education'] = df['education'].replace('PRIMARY EDUCATION','primary education')\n",
        "df['education'] = df['education'].replace('Primary Education','primary education') \n",
        "df['education'] = df['education'].replace('Some College','some college') \n",
        "df['education'] = df['education'].replace('GRADUATE DEGREE','graduate degree') \n",
        "df['education'] = df['education'].replace('Graduate Degree','graduate degree') "
      ]
    },
    {
      "cell_type": "code",
      "execution_count": 99,
      "metadata": {
        "id": "lTNodj4Y0v4q"
      },
      "outputs": [],
      "source": [
        "# Fix the registers \n",
        "df['education'] = df['education'].str.lower()"
      ]
    },
    {
      "cell_type": "code",
      "execution_count": 100,
      "metadata": {
        "colab": {
          "base_uri": "https://localhost:8080/"
        },
        "id": "NeQXXRvX0v4q",
        "outputId": "3e1c4732-2f06-4124-86c5-f417d13d5e30"
      },
      "outputs": [
        {
          "output_type": "execute_result",
          "data": {
            "text/plain": [
              "array([\"bachelor's degree\", 'secondary education', 'some college',\n",
              "       'primary education', 'graduate degree'], dtype=object)"
            ]
          },
          "metadata": {},
          "execution_count": 100
        }
      ],
      "source": [
        "# Checking all the values in the column to make sure we fixed them\n",
        "df['education'].unique()"
      ]
    },
    {
      "cell_type": "code",
      "execution_count": 21,
      "metadata": {
        "colab": {
          "base_uri": "https://localhost:8080/"
        },
        "id": "flm5b6Ap0v4r",
        "outputId": "574eb842-58b3-4cd4-afb6-a1aee0194807"
      },
      "outputs": [
        {
          "output_type": "execute_result",
          "data": {
            "text/plain": [
              " 0     14149\n",
              " 1      4818\n",
              " 2      2055\n",
              " 3       330\n",
              " 20       76\n",
              "-1        47\n",
              " 4        41\n",
              " 5         9\n",
              "Name: children, dtype: int64"
            ]
          },
          "metadata": {},
          "execution_count": 21
        }
      ],
      "source": [
        "# Let's see the distribution of values in the `children` column\n",
        "df['children'].value_counts()"
      ]
    },
    {
      "cell_type": "markdown",
      "metadata": {
        "id": "5XWCpcZ-0v4r"
      },
      "source": [
        "There are two concerns in this column:\n",
        "1. Negative number of children (unfeasible)\n",
        "2. Customers with twenty kids (feasible but unlikely)\n",
        "\n",
        "Since the percentage of troublesome data is around half percent, and the column is not the main variable of interest. We will drop these rows."
      ]
    },
    {
      "cell_type": "code",
      "execution_count": 22,
      "metadata": {
        "id": "h4dkKSl00v4s"
      },
      "outputs": [],
      "source": [
        "# [fix the data based on your decision]\n",
        "df = df.drop(df[df['children']==20].index)\n",
        "df = df.drop(df[df['children']==-1].index)"
      ]
    },
    {
      "cell_type": "code",
      "execution_count": 23,
      "metadata": {
        "scrolled": true,
        "colab": {
          "base_uri": "https://localhost:8080/"
        },
        "id": "aV-PFWAb0v4s",
        "outputId": "a63b61e9-5204-4c9c-da2e-e31799e6fd4e"
      },
      "outputs": [
        {
          "output_type": "execute_result",
          "data": {
            "text/plain": [
              "0    14149\n",
              "1     4818\n",
              "2     2055\n",
              "3      330\n",
              "4       41\n",
              "5        9\n",
              "Name: children, dtype: int64"
            ]
          },
          "metadata": {},
          "execution_count": 23
        }
      ],
      "source": [
        "# Checking the `children` column again to make sure it's all fixed\n",
        "df['children'].value_counts()"
      ]
    },
    {
      "cell_type": "code",
      "execution_count": 24,
      "metadata": {
        "colab": {
          "base_uri": "https://localhost:8080/"
        },
        "id": "V6fgeOpB0v4s",
        "outputId": "9dcfa651-2148-4411-a001-863b44a03019"
      },
      "outputs": [
        {
          "output_type": "execute_result",
          "data": {
            "text/plain": [
              "count     19240.000000\n",
              "mean      63159.820777\n",
              "std      140928.943329\n",
              "min      -18388.949901\n",
              "25%       -2747.235601\n",
              "50%       -1203.934202\n",
              "75%        -289.740178\n",
              "max      401755.400475\n",
              "Name: days_employed, dtype: float64"
            ]
          },
          "metadata": {},
          "execution_count": 24
        }
      ],
      "source": [
        "# Find problematic data in `days_employed`, if they exist, and calculate the percentage\n",
        "df['days_employed'].describe()"
      ]
    },
    {
      "cell_type": "markdown",
      "metadata": {
        "id": "jFpF7MnN0v4s"
      },
      "source": [
        "We have many negative values which probably got a minus sign due to a technical mistake. I propose to transform the values to a positive sign (+)."
      ]
    },
    {
      "cell_type": "code",
      "execution_count": 25,
      "metadata": {
        "id": "iA5vLu8D0v4t"
      },
      "outputs": [],
      "source": [
        "# Address the problematic values, if they exist\n",
        "df.loc[df['days_employed']<0, 'days_employed'] = df.loc[df['days_employed']<0, 'days_employed']*(-1)"
      ]
    },
    {
      "cell_type": "code",
      "execution_count": 26,
      "metadata": {
        "colab": {
          "base_uri": "https://localhost:8080/"
        },
        "id": "dMGUVXsj0v4t",
        "outputId": "bd56974e-379e-4c2b-83a0-b8604496f848"
      },
      "outputs": [
        {
          "output_type": "execute_result",
          "data": {
            "text/plain": [
              "count     19240.000000\n",
              "mean      67027.691459\n",
              "std      139130.846446\n",
              "min          24.141633\n",
              "25%         927.984311\n",
              "50%        2195.251592\n",
              "75%        5556.372075\n",
              "max      401755.400475\n",
              "Name: days_employed, dtype: float64"
            ]
          },
          "metadata": {},
          "execution_count": 26
        }
      ],
      "source": [
        "# Check the result - make sure it's fixed\n",
        "df['days_employed'].describe()"
      ]
    },
    {
      "cell_type": "markdown",
      "metadata": {
        "id": "TgpqTw2Y0v4t"
      },
      "source": [
        "Let's now look at the client's age and whether there are any issues there. I am planning on cheking how many clients are below the legal age."
      ]
    },
    {
      "cell_type": "code",
      "execution_count": 27,
      "metadata": {
        "scrolled": false,
        "colab": {
          "base_uri": "https://localhost:8080/",
          "height": 696
        },
        "id": "_VMpDX-u0v4t",
        "outputId": "d573d606-f741-4593-b407-d258c36436c5"
      },
      "outputs": [
        {
          "output_type": "execute_result",
          "data": {
            "text/html": [
              "\n",
              "  <div id=\"df-66c6c245-7a5a-4db2-a699-fdf98a130d38\">\n",
              "    <div class=\"colab-df-container\">\n",
              "      <div>\n",
              "<style scoped>\n",
              "    .dataframe tbody tr th:only-of-type {\n",
              "        vertical-align: middle;\n",
              "    }\n",
              "\n",
              "    .dataframe tbody tr th {\n",
              "        vertical-align: top;\n",
              "    }\n",
              "\n",
              "    .dataframe thead th {\n",
              "        text-align: right;\n",
              "    }\n",
              "</style>\n",
              "<table border=\"1\" class=\"dataframe\">\n",
              "  <thead>\n",
              "    <tr style=\"text-align: right;\">\n",
              "      <th></th>\n",
              "      <th>children</th>\n",
              "      <th>days_employed</th>\n",
              "      <th>dob_years</th>\n",
              "      <th>education</th>\n",
              "      <th>education_id</th>\n",
              "      <th>family_status</th>\n",
              "      <th>family_status_id</th>\n",
              "      <th>gender</th>\n",
              "      <th>income_type</th>\n",
              "      <th>debt</th>\n",
              "      <th>total_income</th>\n",
              "      <th>purpose</th>\n",
              "    </tr>\n",
              "  </thead>\n",
              "  <tbody>\n",
              "    <tr>\n",
              "      <th>99</th>\n",
              "      <td>0</td>\n",
              "      <td>346541.618895</td>\n",
              "      <td>0</td>\n",
              "      <td>secondary education</td>\n",
              "      <td>1</td>\n",
              "      <td>married</td>\n",
              "      <td>0</td>\n",
              "      <td>F</td>\n",
              "      <td>retiree</td>\n",
              "      <td>0</td>\n",
              "      <td>11406.644</td>\n",
              "      <td>car</td>\n",
              "    </tr>\n",
              "    <tr>\n",
              "      <th>149</th>\n",
              "      <td>0</td>\n",
              "      <td>2664.273168</td>\n",
              "      <td>0</td>\n",
              "      <td>secondary education</td>\n",
              "      <td>1</td>\n",
              "      <td>divorced</td>\n",
              "      <td>3</td>\n",
              "      <td>F</td>\n",
              "      <td>employee</td>\n",
              "      <td>0</td>\n",
              "      <td>11228.230</td>\n",
              "      <td>housing transactions</td>\n",
              "    </tr>\n",
              "    <tr>\n",
              "      <th>270</th>\n",
              "      <td>3</td>\n",
              "      <td>1872.663186</td>\n",
              "      <td>0</td>\n",
              "      <td>secondary education</td>\n",
              "      <td>1</td>\n",
              "      <td>married</td>\n",
              "      <td>0</td>\n",
              "      <td>F</td>\n",
              "      <td>employee</td>\n",
              "      <td>0</td>\n",
              "      <td>16346.633</td>\n",
              "      <td>housing renovation</td>\n",
              "    </tr>\n",
              "    <tr>\n",
              "      <th>578</th>\n",
              "      <td>0</td>\n",
              "      <td>397856.565013</td>\n",
              "      <td>0</td>\n",
              "      <td>secondary education</td>\n",
              "      <td>1</td>\n",
              "      <td>married</td>\n",
              "      <td>0</td>\n",
              "      <td>F</td>\n",
              "      <td>retiree</td>\n",
              "      <td>0</td>\n",
              "      <td>15619.310</td>\n",
              "      <td>construction of own property</td>\n",
              "    </tr>\n",
              "    <tr>\n",
              "      <th>1040</th>\n",
              "      <td>0</td>\n",
              "      <td>1158.029561</td>\n",
              "      <td>0</td>\n",
              "      <td>bachelor's degree</td>\n",
              "      <td>0</td>\n",
              "      <td>divorced</td>\n",
              "      <td>3</td>\n",
              "      <td>F</td>\n",
              "      <td>business</td>\n",
              "      <td>0</td>\n",
              "      <td>48639.062</td>\n",
              "      <td>to own a car</td>\n",
              "    </tr>\n",
              "    <tr>\n",
              "      <th>...</th>\n",
              "      <td>...</td>\n",
              "      <td>...</td>\n",
              "      <td>...</td>\n",
              "      <td>...</td>\n",
              "      <td>...</td>\n",
              "      <td>...</td>\n",
              "      <td>...</td>\n",
              "      <td>...</td>\n",
              "      <td>...</td>\n",
              "      <td>...</td>\n",
              "      <td>...</td>\n",
              "      <td>...</td>\n",
              "    </tr>\n",
              "    <tr>\n",
              "      <th>19829</th>\n",
              "      <td>0</td>\n",
              "      <td>NaN</td>\n",
              "      <td>0</td>\n",
              "      <td>secondary education</td>\n",
              "      <td>1</td>\n",
              "      <td>married</td>\n",
              "      <td>0</td>\n",
              "      <td>F</td>\n",
              "      <td>employee</td>\n",
              "      <td>0</td>\n",
              "      <td>NaN</td>\n",
              "      <td>housing</td>\n",
              "    </tr>\n",
              "    <tr>\n",
              "      <th>20462</th>\n",
              "      <td>0</td>\n",
              "      <td>338734.868540</td>\n",
              "      <td>0</td>\n",
              "      <td>secondary education</td>\n",
              "      <td>1</td>\n",
              "      <td>married</td>\n",
              "      <td>0</td>\n",
              "      <td>F</td>\n",
              "      <td>retiree</td>\n",
              "      <td>0</td>\n",
              "      <td>41471.027</td>\n",
              "      <td>purchase of my own house</td>\n",
              "    </tr>\n",
              "    <tr>\n",
              "      <th>20577</th>\n",
              "      <td>0</td>\n",
              "      <td>331741.271455</td>\n",
              "      <td>0</td>\n",
              "      <td>secondary education</td>\n",
              "      <td>1</td>\n",
              "      <td>unmarried</td>\n",
              "      <td>4</td>\n",
              "      <td>F</td>\n",
              "      <td>retiree</td>\n",
              "      <td>0</td>\n",
              "      <td>20766.202</td>\n",
              "      <td>property</td>\n",
              "    </tr>\n",
              "    <tr>\n",
              "      <th>21179</th>\n",
              "      <td>2</td>\n",
              "      <td>108.967042</td>\n",
              "      <td>0</td>\n",
              "      <td>bachelor's degree</td>\n",
              "      <td>0</td>\n",
              "      <td>married</td>\n",
              "      <td>0</td>\n",
              "      <td>M</td>\n",
              "      <td>business</td>\n",
              "      <td>0</td>\n",
              "      <td>38512.321</td>\n",
              "      <td>building a real estate</td>\n",
              "    </tr>\n",
              "    <tr>\n",
              "      <th>21313</th>\n",
              "      <td>0</td>\n",
              "      <td>1268.487728</td>\n",
              "      <td>0</td>\n",
              "      <td>secondary education</td>\n",
              "      <td>1</td>\n",
              "      <td>unmarried</td>\n",
              "      <td>4</td>\n",
              "      <td>M</td>\n",
              "      <td>employee</td>\n",
              "      <td>0</td>\n",
              "      <td>24387.070</td>\n",
              "      <td>housing transactions</td>\n",
              "    </tr>\n",
              "  </tbody>\n",
              "</table>\n",
              "<p>100 rows × 12 columns</p>\n",
              "</div>\n",
              "      <button class=\"colab-df-convert\" onclick=\"convertToInteractive('df-66c6c245-7a5a-4db2-a699-fdf98a130d38')\"\n",
              "              title=\"Convert this dataframe to an interactive table.\"\n",
              "              style=\"display:none;\">\n",
              "        \n",
              "  <svg xmlns=\"http://www.w3.org/2000/svg\" height=\"24px\"viewBox=\"0 0 24 24\"\n",
              "       width=\"24px\">\n",
              "    <path d=\"M0 0h24v24H0V0z\" fill=\"none\"/>\n",
              "    <path d=\"M18.56 5.44l.94 2.06.94-2.06 2.06-.94-2.06-.94-.94-2.06-.94 2.06-2.06.94zm-11 1L8.5 8.5l.94-2.06 2.06-.94-2.06-.94L8.5 2.5l-.94 2.06-2.06.94zm10 10l.94 2.06.94-2.06 2.06-.94-2.06-.94-.94-2.06-.94 2.06-2.06.94z\"/><path d=\"M17.41 7.96l-1.37-1.37c-.4-.4-.92-.59-1.43-.59-.52 0-1.04.2-1.43.59L10.3 9.45l-7.72 7.72c-.78.78-.78 2.05 0 2.83L4 21.41c.39.39.9.59 1.41.59.51 0 1.02-.2 1.41-.59l7.78-7.78 2.81-2.81c.8-.78.8-2.07 0-2.86zM5.41 20L4 18.59l7.72-7.72 1.47 1.35L5.41 20z\"/>\n",
              "  </svg>\n",
              "      </button>\n",
              "      \n",
              "  <style>\n",
              "    .colab-df-container {\n",
              "      display:flex;\n",
              "      flex-wrap:wrap;\n",
              "      gap: 12px;\n",
              "    }\n",
              "\n",
              "    .colab-df-convert {\n",
              "      background-color: #E8F0FE;\n",
              "      border: none;\n",
              "      border-radius: 50%;\n",
              "      cursor: pointer;\n",
              "      display: none;\n",
              "      fill: #1967D2;\n",
              "      height: 32px;\n",
              "      padding: 0 0 0 0;\n",
              "      width: 32px;\n",
              "    }\n",
              "\n",
              "    .colab-df-convert:hover {\n",
              "      background-color: #E2EBFA;\n",
              "      box-shadow: 0px 1px 2px rgba(60, 64, 67, 0.3), 0px 1px 3px 1px rgba(60, 64, 67, 0.15);\n",
              "      fill: #174EA6;\n",
              "    }\n",
              "\n",
              "    [theme=dark] .colab-df-convert {\n",
              "      background-color: #3B4455;\n",
              "      fill: #D2E3FC;\n",
              "    }\n",
              "\n",
              "    [theme=dark] .colab-df-convert:hover {\n",
              "      background-color: #434B5C;\n",
              "      box-shadow: 0px 1px 3px 1px rgba(0, 0, 0, 0.15);\n",
              "      filter: drop-shadow(0px 1px 2px rgba(0, 0, 0, 0.3));\n",
              "      fill: #FFFFFF;\n",
              "    }\n",
              "  </style>\n",
              "\n",
              "      <script>\n",
              "        const buttonEl =\n",
              "          document.querySelector('#df-66c6c245-7a5a-4db2-a699-fdf98a130d38 button.colab-df-convert');\n",
              "        buttonEl.style.display =\n",
              "          google.colab.kernel.accessAllowed ? 'block' : 'none';\n",
              "\n",
              "        async function convertToInteractive(key) {\n",
              "          const element = document.querySelector('#df-66c6c245-7a5a-4db2-a699-fdf98a130d38');\n",
              "          const dataTable =\n",
              "            await google.colab.kernel.invokeFunction('convertToInteractive',\n",
              "                                                     [key], {});\n",
              "          if (!dataTable) return;\n",
              "\n",
              "          const docLinkHtml = 'Like what you see? Visit the ' +\n",
              "            '<a target=\"_blank\" href=https://colab.research.google.com/notebooks/data_table.ipynb>data table notebook</a>'\n",
              "            + ' to learn more about interactive tables.';\n",
              "          element.innerHTML = '';\n",
              "          dataTable['output_type'] = 'display_data';\n",
              "          await google.colab.output.renderOutput(dataTable, element);\n",
              "          const docLink = document.createElement('div');\n",
              "          docLink.innerHTML = docLinkHtml;\n",
              "          element.appendChild(docLink);\n",
              "        }\n",
              "      </script>\n",
              "    </div>\n",
              "  </div>\n",
              "  "
            ],
            "text/plain": [
              "       children  days_employed  dob_years            education  education_id  \\\n",
              "99            0  346541.618895          0  secondary education             1   \n",
              "149           0    2664.273168          0  secondary education             1   \n",
              "270           3    1872.663186          0  secondary education             1   \n",
              "578           0  397856.565013          0  secondary education             1   \n",
              "1040          0    1158.029561          0    bachelor's degree             0   \n",
              "...         ...            ...        ...                  ...           ...   \n",
              "19829         0            NaN          0  secondary education             1   \n",
              "20462         0  338734.868540          0  secondary education             1   \n",
              "20577         0  331741.271455          0  secondary education             1   \n",
              "21179         2     108.967042          0    bachelor's degree             0   \n",
              "21313         0    1268.487728          0  secondary education             1   \n",
              "\n",
              "      family_status  family_status_id gender income_type  debt  total_income  \\\n",
              "99          married                 0      F     retiree     0     11406.644   \n",
              "149        divorced                 3      F    employee     0     11228.230   \n",
              "270         married                 0      F    employee     0     16346.633   \n",
              "578         married                 0      F     retiree     0     15619.310   \n",
              "1040       divorced                 3      F    business     0     48639.062   \n",
              "...             ...               ...    ...         ...   ...           ...   \n",
              "19829       married                 0      F    employee     0           NaN   \n",
              "20462       married                 0      F     retiree     0     41471.027   \n",
              "20577     unmarried                 4      F     retiree     0     20766.202   \n",
              "21179       married                 0      M    business     0     38512.321   \n",
              "21313     unmarried                 4      M    employee     0     24387.070   \n",
              "\n",
              "                            purpose  \n",
              "99                              car  \n",
              "149            housing transactions  \n",
              "270              housing renovation  \n",
              "578    construction of own property  \n",
              "1040                   to own a car  \n",
              "...                             ...  \n",
              "19829                       housing  \n",
              "20462      purchase of my own house  \n",
              "20577                      property  \n",
              "21179        building a real estate  \n",
              "21313          housing transactions  \n",
              "\n",
              "[100 rows x 12 columns]"
            ]
          },
          "metadata": {},
          "execution_count": 27
        }
      ],
      "source": [
        "# Check the `dob_years` for suspicious values and count the percentage\n",
        "df[df['dob_years']<18]"
      ]
    },
    {
      "cell_type": "code",
      "execution_count": 28,
      "metadata": {
        "colab": {
          "base_uri": "https://localhost:8080/"
        },
        "id": "aPHsg5F_0v4u",
        "outputId": "61328569-6098-453d-dbb0-ff6ad4eb0a27"
      },
      "outputs": [
        {
          "output_type": "execute_result",
          "data": {
            "text/plain": [
              "count    21402.000000\n",
              "mean        43.300206\n",
              "std         12.579055\n",
              "min          0.000000\n",
              "25%         33.000000\n",
              "50%         42.000000\n",
              "75%         53.000000\n",
              "max         75.000000\n",
              "Name: dob_years, dtype: float64"
            ]
          },
          "metadata": {},
          "execution_count": 28
        }
      ],
      "source": [
        "df['dob_years'].describe()"
      ]
    },
    {
      "cell_type": "markdown",
      "metadata": {
        "id": "oFa2pjRW0v4u"
      },
      "source": [
        "The problem in this column are the rows with dob_years equals to 0. There are 100 problematic items, which are sround 0.5% of the whole dataset. "
      ]
    },
    {
      "cell_type": "code",
      "execution_count": 29,
      "metadata": {
        "id": "n-rrRrrj0v4u"
      },
      "outputs": [],
      "source": [
        "# Address the issues in the `dob_years` column, if they exist\n",
        "df.loc[df['dob_years']==0, 'dob_years'] = df['dob_years'].mean()"
      ]
    },
    {
      "cell_type": "code",
      "execution_count": 30,
      "metadata": {
        "colab": {
          "base_uri": "https://localhost:8080/",
          "height": 113
        },
        "id": "EZXooAd50v4u",
        "outputId": "a8f77246-5169-4530-81c6-58547a14a7cd"
      },
      "outputs": [
        {
          "output_type": "execute_result",
          "data": {
            "text/html": [
              "\n",
              "  <div id=\"df-3edfa0a8-606b-45d1-ae64-8b1327278011\">\n",
              "    <div class=\"colab-df-container\">\n",
              "      <div>\n",
              "<style scoped>\n",
              "    .dataframe tbody tr th:only-of-type {\n",
              "        vertical-align: middle;\n",
              "    }\n",
              "\n",
              "    .dataframe tbody tr th {\n",
              "        vertical-align: top;\n",
              "    }\n",
              "\n",
              "    .dataframe thead th {\n",
              "        text-align: right;\n",
              "    }\n",
              "</style>\n",
              "<table border=\"1\" class=\"dataframe\">\n",
              "  <thead>\n",
              "    <tr style=\"text-align: right;\">\n",
              "      <th></th>\n",
              "      <th>children</th>\n",
              "      <th>days_employed</th>\n",
              "      <th>dob_years</th>\n",
              "      <th>education</th>\n",
              "      <th>education_id</th>\n",
              "      <th>family_status</th>\n",
              "      <th>family_status_id</th>\n",
              "      <th>gender</th>\n",
              "      <th>income_type</th>\n",
              "      <th>debt</th>\n",
              "      <th>total_income</th>\n",
              "      <th>purpose</th>\n",
              "    </tr>\n",
              "  </thead>\n",
              "  <tbody>\n",
              "  </tbody>\n",
              "</table>\n",
              "</div>\n",
              "      <button class=\"colab-df-convert\" onclick=\"convertToInteractive('df-3edfa0a8-606b-45d1-ae64-8b1327278011')\"\n",
              "              title=\"Convert this dataframe to an interactive table.\"\n",
              "              style=\"display:none;\">\n",
              "        \n",
              "  <svg xmlns=\"http://www.w3.org/2000/svg\" height=\"24px\"viewBox=\"0 0 24 24\"\n",
              "       width=\"24px\">\n",
              "    <path d=\"M0 0h24v24H0V0z\" fill=\"none\"/>\n",
              "    <path d=\"M18.56 5.44l.94 2.06.94-2.06 2.06-.94-2.06-.94-.94-2.06-.94 2.06-2.06.94zm-11 1L8.5 8.5l.94-2.06 2.06-.94-2.06-.94L8.5 2.5l-.94 2.06-2.06.94zm10 10l.94 2.06.94-2.06 2.06-.94-2.06-.94-.94-2.06-.94 2.06-2.06.94z\"/><path d=\"M17.41 7.96l-1.37-1.37c-.4-.4-.92-.59-1.43-.59-.52 0-1.04.2-1.43.59L10.3 9.45l-7.72 7.72c-.78.78-.78 2.05 0 2.83L4 21.41c.39.39.9.59 1.41.59.51 0 1.02-.2 1.41-.59l7.78-7.78 2.81-2.81c.8-.78.8-2.07 0-2.86zM5.41 20L4 18.59l7.72-7.72 1.47 1.35L5.41 20z\"/>\n",
              "  </svg>\n",
              "      </button>\n",
              "      \n",
              "  <style>\n",
              "    .colab-df-container {\n",
              "      display:flex;\n",
              "      flex-wrap:wrap;\n",
              "      gap: 12px;\n",
              "    }\n",
              "\n",
              "    .colab-df-convert {\n",
              "      background-color: #E8F0FE;\n",
              "      border: none;\n",
              "      border-radius: 50%;\n",
              "      cursor: pointer;\n",
              "      display: none;\n",
              "      fill: #1967D2;\n",
              "      height: 32px;\n",
              "      padding: 0 0 0 0;\n",
              "      width: 32px;\n",
              "    }\n",
              "\n",
              "    .colab-df-convert:hover {\n",
              "      background-color: #E2EBFA;\n",
              "      box-shadow: 0px 1px 2px rgba(60, 64, 67, 0.3), 0px 1px 3px 1px rgba(60, 64, 67, 0.15);\n",
              "      fill: #174EA6;\n",
              "    }\n",
              "\n",
              "    [theme=dark] .colab-df-convert {\n",
              "      background-color: #3B4455;\n",
              "      fill: #D2E3FC;\n",
              "    }\n",
              "\n",
              "    [theme=dark] .colab-df-convert:hover {\n",
              "      background-color: #434B5C;\n",
              "      box-shadow: 0px 1px 3px 1px rgba(0, 0, 0, 0.15);\n",
              "      filter: drop-shadow(0px 1px 2px rgba(0, 0, 0, 0.3));\n",
              "      fill: #FFFFFF;\n",
              "    }\n",
              "  </style>\n",
              "\n",
              "      <script>\n",
              "        const buttonEl =\n",
              "          document.querySelector('#df-3edfa0a8-606b-45d1-ae64-8b1327278011 button.colab-df-convert');\n",
              "        buttonEl.style.display =\n",
              "          google.colab.kernel.accessAllowed ? 'block' : 'none';\n",
              "\n",
              "        async function convertToInteractive(key) {\n",
              "          const element = document.querySelector('#df-3edfa0a8-606b-45d1-ae64-8b1327278011');\n",
              "          const dataTable =\n",
              "            await google.colab.kernel.invokeFunction('convertToInteractive',\n",
              "                                                     [key], {});\n",
              "          if (!dataTable) return;\n",
              "\n",
              "          const docLinkHtml = 'Like what you see? Visit the ' +\n",
              "            '<a target=\"_blank\" href=https://colab.research.google.com/notebooks/data_table.ipynb>data table notebook</a>'\n",
              "            + ' to learn more about interactive tables.';\n",
              "          element.innerHTML = '';\n",
              "          dataTable['output_type'] = 'display_data';\n",
              "          await google.colab.output.renderOutput(dataTable, element);\n",
              "          const docLink = document.createElement('div');\n",
              "          docLink.innerHTML = docLinkHtml;\n",
              "          element.appendChild(docLink);\n",
              "        }\n",
              "      </script>\n",
              "    </div>\n",
              "  </div>\n",
              "  "
            ],
            "text/plain": [
              "Empty DataFrame\n",
              "Columns: [children, days_employed, dob_years, education, education_id, family_status, family_status_id, gender, income_type, debt, total_income, purpose]\n",
              "Index: []"
            ]
          },
          "metadata": {},
          "execution_count": 30
        }
      ],
      "source": [
        "# Check the result - make sure it's fixed\n",
        "df[df['dob_years']<18]"
      ]
    },
    {
      "cell_type": "markdown",
      "metadata": {
        "id": "85ypsb8Z0v4v"
      },
      "source": [
        "Now let's check the `family_status` column."
      ]
    },
    {
      "cell_type": "code",
      "execution_count": 31,
      "metadata": {
        "colab": {
          "base_uri": "https://localhost:8080/"
        },
        "id": "jik8J3wa0v4v",
        "outputId": "64410fe6-2be8-4450-d130-023508e60738"
      },
      "outputs": [
        {
          "output_type": "execute_result",
          "data": {
            "text/plain": [
              "array(['married', 'civil partnership', 'widow / widower', 'divorced',\n",
              "       'unmarried'], dtype=object)"
            ]
          },
          "metadata": {},
          "execution_count": 31
        }
      ],
      "source": [
        "# Let's see the values for the column\n",
        "df['family_status'].unique()"
      ]
    },
    {
      "cell_type": "code",
      "execution_count": 32,
      "metadata": {
        "colab": {
          "base_uri": "https://localhost:8080/"
        },
        "id": "6kiA1JHs0v4v",
        "outputId": "65fa50b6-cf79-4002-e9bd-50b844cc6ffe"
      },
      "outputs": [
        {
          "output_type": "execute_result",
          "data": {
            "text/plain": [
              "married              12302\n",
              "civil partnership     4160\n",
              "unmarried             2799\n",
              "divorced              1189\n",
              "widow / widower        952\n",
              "Name: family_status, dtype: int64"
            ]
          },
          "metadata": {},
          "execution_count": 32
        }
      ],
      "source": [
        "df['family_status'].value_counts()"
      ]
    },
    {
      "cell_type": "markdown",
      "metadata": {
        "id": "X695Dunu0v4v"
      },
      "source": [
        "No issues with family status."
      ]
    },
    {
      "cell_type": "markdown",
      "metadata": {
        "id": "9wKn6qki0v4v"
      },
      "source": [
        "Now let's check the `gender` column:"
      ]
    },
    {
      "cell_type": "code",
      "execution_count": 33,
      "metadata": {
        "scrolled": true,
        "colab": {
          "base_uri": "https://localhost:8080/"
        },
        "id": "LcKZoLSC0v4w",
        "outputId": "e0b46cb3-9e5a-42ea-dc03-8a55ffacd446"
      },
      "outputs": [
        {
          "output_type": "execute_result",
          "data": {
            "text/plain": [
              "array(['F', 'M', 'XNA'], dtype=object)"
            ]
          },
          "metadata": {},
          "execution_count": 33
        }
      ],
      "source": [
        "df['gender'].unique()"
      ]
    },
    {
      "cell_type": "code",
      "execution_count": 34,
      "metadata": {
        "colab": {
          "base_uri": "https://localhost:8080/"
        },
        "id": "dBoAUSjt0v4w",
        "outputId": "c3be71bd-babb-4849-e4aa-6525a0c6014c"
      },
      "outputs": [
        {
          "output_type": "execute_result",
          "data": {
            "text/plain": [
              "F      14154\n",
              "M       7247\n",
              "XNA        1\n",
              "Name: gender, dtype: int64"
            ]
          },
          "metadata": {},
          "execution_count": 34
        }
      ],
      "source": [
        "df['gender'].value_counts()"
      ]
    },
    {
      "cell_type": "markdown",
      "metadata": {
        "id": "RbH57Q-w0v4w"
      },
      "source": [
        "Three genders as expected in forms, no issues."
      ]
    },
    {
      "cell_type": "markdown",
      "metadata": {
        "id": "nzmoYAXC0v4w"
      },
      "source": [
        "Now let's check the `income_type` column:"
      ]
    },
    {
      "cell_type": "code",
      "execution_count": 35,
      "metadata": {
        "colab": {
          "base_uri": "https://localhost:8080/"
        },
        "id": "VHRAxvCE0v4w",
        "outputId": "733b54d2-ddd8-47f1-81fd-5b43a0f73024"
      },
      "outputs": [
        {
          "output_type": "execute_result",
          "data": {
            "text/plain": [
              "employee                       11050\n",
              "business                        5054\n",
              "retiree                         3839\n",
              "civil servant                   1453\n",
              "unemployed                         2\n",
              "entrepreneur                       2\n",
              "student                            1\n",
              "paternity / maternity leave        1\n",
              "Name: income_type, dtype: int64"
            ]
          },
          "metadata": {},
          "execution_count": 35
        }
      ],
      "source": [
        "df['income_type'].value_counts()"
      ]
    },
    {
      "cell_type": "code",
      "execution_count": 36,
      "metadata": {
        "colab": {
          "base_uri": "https://localhost:8080/"
        },
        "id": "550tSHcK0v4x",
        "outputId": "bb642d4e-50e1-46c6-a534-813062635b2b"
      },
      "outputs": [
        {
          "output_type": "execute_result",
          "data": {
            "text/plain": [
              "array(['employee', 'retiree', 'business', 'civil servant', 'unemployed',\n",
              "       'entrepreneur', 'student', 'paternity / maternity leave'],\n",
              "      dtype=object)"
            ]
          },
          "metadata": {},
          "execution_count": 36
        }
      ],
      "source": [
        "df['income_type'].unique()"
      ]
    },
    {
      "cell_type": "markdown",
      "metadata": {
        "id": "tqR-rSiu0v4x"
      },
      "source": [
        "No problems in the income_type column."
      ]
    },
    {
      "cell_type": "markdown",
      "metadata": {
        "id": "VCaWyNbp0v4x"
      },
      "source": [
        "Now let's see if we have any duplicates in our data."
      ]
    },
    {
      "cell_type": "code",
      "execution_count": 37,
      "metadata": {
        "colab": {
          "base_uri": "https://localhost:8080/",
          "height": 696
        },
        "id": "6RuyaIqi0v4x",
        "outputId": "4a4eee9c-0ca7-481b-fc74-86e08f0f701b"
      },
      "outputs": [
        {
          "output_type": "execute_result",
          "data": {
            "text/html": [
              "\n",
              "  <div id=\"df-25043489-686b-48fb-800b-c47ab00bddfd\">\n",
              "    <div class=\"colab-df-container\">\n",
              "      <div>\n",
              "<style scoped>\n",
              "    .dataframe tbody tr th:only-of-type {\n",
              "        vertical-align: middle;\n",
              "    }\n",
              "\n",
              "    .dataframe tbody tr th {\n",
              "        vertical-align: top;\n",
              "    }\n",
              "\n",
              "    .dataframe thead th {\n",
              "        text-align: right;\n",
              "    }\n",
              "</style>\n",
              "<table border=\"1\" class=\"dataframe\">\n",
              "  <thead>\n",
              "    <tr style=\"text-align: right;\">\n",
              "      <th></th>\n",
              "      <th>children</th>\n",
              "      <th>days_employed</th>\n",
              "      <th>dob_years</th>\n",
              "      <th>education</th>\n",
              "      <th>education_id</th>\n",
              "      <th>family_status</th>\n",
              "      <th>family_status_id</th>\n",
              "      <th>gender</th>\n",
              "      <th>income_type</th>\n",
              "      <th>debt</th>\n",
              "      <th>total_income</th>\n",
              "      <th>purpose</th>\n",
              "    </tr>\n",
              "  </thead>\n",
              "  <tbody>\n",
              "    <tr>\n",
              "      <th>2849</th>\n",
              "      <td>0</td>\n",
              "      <td>NaN</td>\n",
              "      <td>41.0</td>\n",
              "      <td>secondary education</td>\n",
              "      <td>1</td>\n",
              "      <td>married</td>\n",
              "      <td>0</td>\n",
              "      <td>F</td>\n",
              "      <td>employee</td>\n",
              "      <td>0</td>\n",
              "      <td>NaN</td>\n",
              "      <td>purchase of the house for my family</td>\n",
              "    </tr>\n",
              "    <tr>\n",
              "      <th>3290</th>\n",
              "      <td>0</td>\n",
              "      <td>NaN</td>\n",
              "      <td>58.0</td>\n",
              "      <td>secondary education</td>\n",
              "      <td>1</td>\n",
              "      <td>civil partnership</td>\n",
              "      <td>1</td>\n",
              "      <td>F</td>\n",
              "      <td>retiree</td>\n",
              "      <td>0</td>\n",
              "      <td>NaN</td>\n",
              "      <td>to have a wedding</td>\n",
              "    </tr>\n",
              "    <tr>\n",
              "      <th>4182</th>\n",
              "      <td>1</td>\n",
              "      <td>NaN</td>\n",
              "      <td>34.0</td>\n",
              "      <td>bachelor's degree</td>\n",
              "      <td>0</td>\n",
              "      <td>civil partnership</td>\n",
              "      <td>1</td>\n",
              "      <td>F</td>\n",
              "      <td>employee</td>\n",
              "      <td>0</td>\n",
              "      <td>NaN</td>\n",
              "      <td>wedding ceremony</td>\n",
              "    </tr>\n",
              "    <tr>\n",
              "      <th>4851</th>\n",
              "      <td>0</td>\n",
              "      <td>NaN</td>\n",
              "      <td>60.0</td>\n",
              "      <td>secondary education</td>\n",
              "      <td>1</td>\n",
              "      <td>civil partnership</td>\n",
              "      <td>1</td>\n",
              "      <td>F</td>\n",
              "      <td>retiree</td>\n",
              "      <td>0</td>\n",
              "      <td>NaN</td>\n",
              "      <td>wedding ceremony</td>\n",
              "    </tr>\n",
              "    <tr>\n",
              "      <th>5557</th>\n",
              "      <td>0</td>\n",
              "      <td>NaN</td>\n",
              "      <td>58.0</td>\n",
              "      <td>secondary education</td>\n",
              "      <td>1</td>\n",
              "      <td>civil partnership</td>\n",
              "      <td>1</td>\n",
              "      <td>F</td>\n",
              "      <td>retiree</td>\n",
              "      <td>0</td>\n",
              "      <td>NaN</td>\n",
              "      <td>to have a wedding</td>\n",
              "    </tr>\n",
              "    <tr>\n",
              "      <th>...</th>\n",
              "      <td>...</td>\n",
              "      <td>...</td>\n",
              "      <td>...</td>\n",
              "      <td>...</td>\n",
              "      <td>...</td>\n",
              "      <td>...</td>\n",
              "      <td>...</td>\n",
              "      <td>...</td>\n",
              "      <td>...</td>\n",
              "      <td>...</td>\n",
              "      <td>...</td>\n",
              "      <td>...</td>\n",
              "    </tr>\n",
              "    <tr>\n",
              "      <th>20702</th>\n",
              "      <td>0</td>\n",
              "      <td>NaN</td>\n",
              "      <td>64.0</td>\n",
              "      <td>secondary education</td>\n",
              "      <td>1</td>\n",
              "      <td>married</td>\n",
              "      <td>0</td>\n",
              "      <td>F</td>\n",
              "      <td>retiree</td>\n",
              "      <td>0</td>\n",
              "      <td>NaN</td>\n",
              "      <td>supplementary education</td>\n",
              "    </tr>\n",
              "    <tr>\n",
              "      <th>21032</th>\n",
              "      <td>0</td>\n",
              "      <td>NaN</td>\n",
              "      <td>60.0</td>\n",
              "      <td>secondary education</td>\n",
              "      <td>1</td>\n",
              "      <td>married</td>\n",
              "      <td>0</td>\n",
              "      <td>F</td>\n",
              "      <td>retiree</td>\n",
              "      <td>0</td>\n",
              "      <td>NaN</td>\n",
              "      <td>to become educated</td>\n",
              "    </tr>\n",
              "    <tr>\n",
              "      <th>21132</th>\n",
              "      <td>0</td>\n",
              "      <td>NaN</td>\n",
              "      <td>47.0</td>\n",
              "      <td>secondary education</td>\n",
              "      <td>1</td>\n",
              "      <td>married</td>\n",
              "      <td>0</td>\n",
              "      <td>F</td>\n",
              "      <td>employee</td>\n",
              "      <td>0</td>\n",
              "      <td>NaN</td>\n",
              "      <td>housing renovation</td>\n",
              "    </tr>\n",
              "    <tr>\n",
              "      <th>21281</th>\n",
              "      <td>1</td>\n",
              "      <td>NaN</td>\n",
              "      <td>30.0</td>\n",
              "      <td>bachelor's degree</td>\n",
              "      <td>0</td>\n",
              "      <td>married</td>\n",
              "      <td>0</td>\n",
              "      <td>F</td>\n",
              "      <td>employee</td>\n",
              "      <td>0</td>\n",
              "      <td>NaN</td>\n",
              "      <td>buy commercial real estate</td>\n",
              "    </tr>\n",
              "    <tr>\n",
              "      <th>21415</th>\n",
              "      <td>0</td>\n",
              "      <td>NaN</td>\n",
              "      <td>54.0</td>\n",
              "      <td>secondary education</td>\n",
              "      <td>1</td>\n",
              "      <td>married</td>\n",
              "      <td>0</td>\n",
              "      <td>F</td>\n",
              "      <td>retiree</td>\n",
              "      <td>0</td>\n",
              "      <td>NaN</td>\n",
              "      <td>housing transactions</td>\n",
              "    </tr>\n",
              "  </tbody>\n",
              "</table>\n",
              "<p>71 rows × 12 columns</p>\n",
              "</div>\n",
              "      <button class=\"colab-df-convert\" onclick=\"convertToInteractive('df-25043489-686b-48fb-800b-c47ab00bddfd')\"\n",
              "              title=\"Convert this dataframe to an interactive table.\"\n",
              "              style=\"display:none;\">\n",
              "        \n",
              "  <svg xmlns=\"http://www.w3.org/2000/svg\" height=\"24px\"viewBox=\"0 0 24 24\"\n",
              "       width=\"24px\">\n",
              "    <path d=\"M0 0h24v24H0V0z\" fill=\"none\"/>\n",
              "    <path d=\"M18.56 5.44l.94 2.06.94-2.06 2.06-.94-2.06-.94-.94-2.06-.94 2.06-2.06.94zm-11 1L8.5 8.5l.94-2.06 2.06-.94-2.06-.94L8.5 2.5l-.94 2.06-2.06.94zm10 10l.94 2.06.94-2.06 2.06-.94-2.06-.94-.94-2.06-.94 2.06-2.06.94z\"/><path d=\"M17.41 7.96l-1.37-1.37c-.4-.4-.92-.59-1.43-.59-.52 0-1.04.2-1.43.59L10.3 9.45l-7.72 7.72c-.78.78-.78 2.05 0 2.83L4 21.41c.39.39.9.59 1.41.59.51 0 1.02-.2 1.41-.59l7.78-7.78 2.81-2.81c.8-.78.8-2.07 0-2.86zM5.41 20L4 18.59l7.72-7.72 1.47 1.35L5.41 20z\"/>\n",
              "  </svg>\n",
              "      </button>\n",
              "      \n",
              "  <style>\n",
              "    .colab-df-container {\n",
              "      display:flex;\n",
              "      flex-wrap:wrap;\n",
              "      gap: 12px;\n",
              "    }\n",
              "\n",
              "    .colab-df-convert {\n",
              "      background-color: #E8F0FE;\n",
              "      border: none;\n",
              "      border-radius: 50%;\n",
              "      cursor: pointer;\n",
              "      display: none;\n",
              "      fill: #1967D2;\n",
              "      height: 32px;\n",
              "      padding: 0 0 0 0;\n",
              "      width: 32px;\n",
              "    }\n",
              "\n",
              "    .colab-df-convert:hover {\n",
              "      background-color: #E2EBFA;\n",
              "      box-shadow: 0px 1px 2px rgba(60, 64, 67, 0.3), 0px 1px 3px 1px rgba(60, 64, 67, 0.15);\n",
              "      fill: #174EA6;\n",
              "    }\n",
              "\n",
              "    [theme=dark] .colab-df-convert {\n",
              "      background-color: #3B4455;\n",
              "      fill: #D2E3FC;\n",
              "    }\n",
              "\n",
              "    [theme=dark] .colab-df-convert:hover {\n",
              "      background-color: #434B5C;\n",
              "      box-shadow: 0px 1px 3px 1px rgba(0, 0, 0, 0.15);\n",
              "      filter: drop-shadow(0px 1px 2px rgba(0, 0, 0, 0.3));\n",
              "      fill: #FFFFFF;\n",
              "    }\n",
              "  </style>\n",
              "\n",
              "      <script>\n",
              "        const buttonEl =\n",
              "          document.querySelector('#df-25043489-686b-48fb-800b-c47ab00bddfd button.colab-df-convert');\n",
              "        buttonEl.style.display =\n",
              "          google.colab.kernel.accessAllowed ? 'block' : 'none';\n",
              "\n",
              "        async function convertToInteractive(key) {\n",
              "          const element = document.querySelector('#df-25043489-686b-48fb-800b-c47ab00bddfd');\n",
              "          const dataTable =\n",
              "            await google.colab.kernel.invokeFunction('convertToInteractive',\n",
              "                                                     [key], {});\n",
              "          if (!dataTable) return;\n",
              "\n",
              "          const docLinkHtml = 'Like what you see? Visit the ' +\n",
              "            '<a target=\"_blank\" href=https://colab.research.google.com/notebooks/data_table.ipynb>data table notebook</a>'\n",
              "            + ' to learn more about interactive tables.';\n",
              "          element.innerHTML = '';\n",
              "          dataTable['output_type'] = 'display_data';\n",
              "          await google.colab.output.renderOutput(dataTable, element);\n",
              "          const docLink = document.createElement('div');\n",
              "          docLink.innerHTML = docLinkHtml;\n",
              "          element.appendChild(docLink);\n",
              "        }\n",
              "      </script>\n",
              "    </div>\n",
              "  </div>\n",
              "  "
            ],
            "text/plain": [
              "       children  days_employed  dob_years            education  education_id  \\\n",
              "2849          0            NaN       41.0  secondary education             1   \n",
              "3290          0            NaN       58.0  secondary education             1   \n",
              "4182          1            NaN       34.0    bachelor's degree             0   \n",
              "4851          0            NaN       60.0  secondary education             1   \n",
              "5557          0            NaN       58.0  secondary education             1   \n",
              "...         ...            ...        ...                  ...           ...   \n",
              "20702         0            NaN       64.0  secondary education             1   \n",
              "21032         0            NaN       60.0  secondary education             1   \n",
              "21132         0            NaN       47.0  secondary education             1   \n",
              "21281         1            NaN       30.0    bachelor's degree             0   \n",
              "21415         0            NaN       54.0  secondary education             1   \n",
              "\n",
              "           family_status  family_status_id gender income_type  debt  \\\n",
              "2849             married                 0      F    employee     0   \n",
              "3290   civil partnership                 1      F     retiree     0   \n",
              "4182   civil partnership                 1      F    employee     0   \n",
              "4851   civil partnership                 1      F     retiree     0   \n",
              "5557   civil partnership                 1      F     retiree     0   \n",
              "...                  ...               ...    ...         ...   ...   \n",
              "20702            married                 0      F     retiree     0   \n",
              "21032            married                 0      F     retiree     0   \n",
              "21132            married                 0      F    employee     0   \n",
              "21281            married                 0      F    employee     0   \n",
              "21415            married                 0      F     retiree     0   \n",
              "\n",
              "       total_income                              purpose  \n",
              "2849            NaN  purchase of the house for my family  \n",
              "3290            NaN                    to have a wedding  \n",
              "4182            NaN                     wedding ceremony  \n",
              "4851            NaN                     wedding ceremony  \n",
              "5557            NaN                    to have a wedding  \n",
              "...             ...                                  ...  \n",
              "20702           NaN              supplementary education  \n",
              "21032           NaN                   to become educated  \n",
              "21132           NaN                   housing renovation  \n",
              "21281           NaN           buy commercial real estate  \n",
              "21415           NaN                 housing transactions  \n",
              "\n",
              "[71 rows x 12 columns]"
            ]
          },
          "metadata": {},
          "execution_count": 37
        }
      ],
      "source": [
        "# Checking duplicates\n",
        "df[df.duplicated()] "
      ]
    },
    {
      "cell_type": "code",
      "execution_count": 38,
      "metadata": {
        "id": "AR8TZGMS0v4x"
      },
      "outputs": [],
      "source": [
        "# remove duplicates\n",
        "df = df.drop_duplicates().reset_index(drop=True)"
      ]
    },
    {
      "cell_type": "code",
      "execution_count": 39,
      "metadata": {
        "colab": {
          "base_uri": "https://localhost:8080/",
          "height": 113
        },
        "id": "UbW6ufbP0v4x",
        "outputId": "c7094666-a9b3-45f0-f6d9-39005b0276d9"
      },
      "outputs": [
        {
          "output_type": "execute_result",
          "data": {
            "text/html": [
              "\n",
              "  <div id=\"df-792cdb1f-b71d-4589-a428-6a1743c49a3d\">\n",
              "    <div class=\"colab-df-container\">\n",
              "      <div>\n",
              "<style scoped>\n",
              "    .dataframe tbody tr th:only-of-type {\n",
              "        vertical-align: middle;\n",
              "    }\n",
              "\n",
              "    .dataframe tbody tr th {\n",
              "        vertical-align: top;\n",
              "    }\n",
              "\n",
              "    .dataframe thead th {\n",
              "        text-align: right;\n",
              "    }\n",
              "</style>\n",
              "<table border=\"1\" class=\"dataframe\">\n",
              "  <thead>\n",
              "    <tr style=\"text-align: right;\">\n",
              "      <th></th>\n",
              "      <th>children</th>\n",
              "      <th>days_employed</th>\n",
              "      <th>dob_years</th>\n",
              "      <th>education</th>\n",
              "      <th>education_id</th>\n",
              "      <th>family_status</th>\n",
              "      <th>family_status_id</th>\n",
              "      <th>gender</th>\n",
              "      <th>income_type</th>\n",
              "      <th>debt</th>\n",
              "      <th>total_income</th>\n",
              "      <th>purpose</th>\n",
              "    </tr>\n",
              "  </thead>\n",
              "  <tbody>\n",
              "  </tbody>\n",
              "</table>\n",
              "</div>\n",
              "      <button class=\"colab-df-convert\" onclick=\"convertToInteractive('df-792cdb1f-b71d-4589-a428-6a1743c49a3d')\"\n",
              "              title=\"Convert this dataframe to an interactive table.\"\n",
              "              style=\"display:none;\">\n",
              "        \n",
              "  <svg xmlns=\"http://www.w3.org/2000/svg\" height=\"24px\"viewBox=\"0 0 24 24\"\n",
              "       width=\"24px\">\n",
              "    <path d=\"M0 0h24v24H0V0z\" fill=\"none\"/>\n",
              "    <path d=\"M18.56 5.44l.94 2.06.94-2.06 2.06-.94-2.06-.94-.94-2.06-.94 2.06-2.06.94zm-11 1L8.5 8.5l.94-2.06 2.06-.94-2.06-.94L8.5 2.5l-.94 2.06-2.06.94zm10 10l.94 2.06.94-2.06 2.06-.94-2.06-.94-.94-2.06-.94 2.06-2.06.94z\"/><path d=\"M17.41 7.96l-1.37-1.37c-.4-.4-.92-.59-1.43-.59-.52 0-1.04.2-1.43.59L10.3 9.45l-7.72 7.72c-.78.78-.78 2.05 0 2.83L4 21.41c.39.39.9.59 1.41.59.51 0 1.02-.2 1.41-.59l7.78-7.78 2.81-2.81c.8-.78.8-2.07 0-2.86zM5.41 20L4 18.59l7.72-7.72 1.47 1.35L5.41 20z\"/>\n",
              "  </svg>\n",
              "      </button>\n",
              "      \n",
              "  <style>\n",
              "    .colab-df-container {\n",
              "      display:flex;\n",
              "      flex-wrap:wrap;\n",
              "      gap: 12px;\n",
              "    }\n",
              "\n",
              "    .colab-df-convert {\n",
              "      background-color: #E8F0FE;\n",
              "      border: none;\n",
              "      border-radius: 50%;\n",
              "      cursor: pointer;\n",
              "      display: none;\n",
              "      fill: #1967D2;\n",
              "      height: 32px;\n",
              "      padding: 0 0 0 0;\n",
              "      width: 32px;\n",
              "    }\n",
              "\n",
              "    .colab-df-convert:hover {\n",
              "      background-color: #E2EBFA;\n",
              "      box-shadow: 0px 1px 2px rgba(60, 64, 67, 0.3), 0px 1px 3px 1px rgba(60, 64, 67, 0.15);\n",
              "      fill: #174EA6;\n",
              "    }\n",
              "\n",
              "    [theme=dark] .colab-df-convert {\n",
              "      background-color: #3B4455;\n",
              "      fill: #D2E3FC;\n",
              "    }\n",
              "\n",
              "    [theme=dark] .colab-df-convert:hover {\n",
              "      background-color: #434B5C;\n",
              "      box-shadow: 0px 1px 3px 1px rgba(0, 0, 0, 0.15);\n",
              "      filter: drop-shadow(0px 1px 2px rgba(0, 0, 0, 0.3));\n",
              "      fill: #FFFFFF;\n",
              "    }\n",
              "  </style>\n",
              "\n",
              "      <script>\n",
              "        const buttonEl =\n",
              "          document.querySelector('#df-792cdb1f-b71d-4589-a428-6a1743c49a3d button.colab-df-convert');\n",
              "        buttonEl.style.display =\n",
              "          google.colab.kernel.accessAllowed ? 'block' : 'none';\n",
              "\n",
              "        async function convertToInteractive(key) {\n",
              "          const element = document.querySelector('#df-792cdb1f-b71d-4589-a428-6a1743c49a3d');\n",
              "          const dataTable =\n",
              "            await google.colab.kernel.invokeFunction('convertToInteractive',\n",
              "                                                     [key], {});\n",
              "          if (!dataTable) return;\n",
              "\n",
              "          const docLinkHtml = 'Like what you see? Visit the ' +\n",
              "            '<a target=\"_blank\" href=https://colab.research.google.com/notebooks/data_table.ipynb>data table notebook</a>'\n",
              "            + ' to learn more about interactive tables.';\n",
              "          element.innerHTML = '';\n",
              "          dataTable['output_type'] = 'display_data';\n",
              "          await google.colab.output.renderOutput(dataTable, element);\n",
              "          const docLink = document.createElement('div');\n",
              "          docLink.innerHTML = docLinkHtml;\n",
              "          element.appendChild(docLink);\n",
              "        }\n",
              "      </script>\n",
              "    </div>\n",
              "  </div>\n",
              "  "
            ],
            "text/plain": [
              "Empty DataFrame\n",
              "Columns: [children, days_employed, dob_years, education, education_id, family_status, family_status_id, gender, income_type, debt, total_income, purpose]\n",
              "Index: []"
            ]
          },
          "metadata": {},
          "execution_count": 39
        }
      ],
      "source": [
        "# Last check whether we have any duplicates\n",
        "df[df.duplicated()]"
      ]
    },
    {
      "cell_type": "code",
      "execution_count": 40,
      "metadata": {
        "colab": {
          "base_uri": "https://localhost:8080/"
        },
        "id": "IT1Uffd70v4y",
        "outputId": "4958c46b-792f-4fa2-cccc-dea88d70d6a1"
      },
      "outputs": [
        {
          "output_type": "stream",
          "name": "stdout",
          "text": [
            "(21331, 12)\n"
          ]
        }
      ],
      "source": [
        "# Check the size of the dataset that you now have after your first manipulations with it\n",
        "print(df.shape)"
      ]
    },
    {
      "cell_type": "markdown",
      "metadata": {
        "id": "Qr1dHfr-0v4y"
      },
      "source": [
        "New dataset, the changes done:\n",
        "1. Education - typos fixed\n",
        "2. Children - dropped 0.5% of the data due to unfeasible values\n",
        "3. Days employed - problematic values were corrected\n",
        "4. DOB years - fill in average age for age = 0 (0.5%)\n",
        "5. Duplicate values - dropped 0.3% of data due to duplicates\n",
        "\n",
        "Overall, 194 rows were dropped which is less than 1%."
      ]
    },
    {
      "cell_type": "markdown",
      "metadata": {
        "id": "E0dKeoFM0v4y"
      },
      "source": [
        "## Working with missing values"
      ]
    },
    {
      "cell_type": "markdown",
      "metadata": {
        "id": "CB0ibh-20v4y"
      },
      "source": [
        "Find the dictionaries\n",
        "The dictionaries with ID are education and family status."
      ]
    },
    {
      "cell_type": "code",
      "execution_count": 41,
      "metadata": {
        "colab": {
          "base_uri": "https://localhost:8080/"
        },
        "id": "N04MBZX30v4y",
        "outputId": "6dea0598-a33c-40d0-8551-72118aaa701e"
      },
      "outputs": [
        {
          "output_type": "execute_result",
          "data": {
            "text/plain": [
              "secondary education    15075\n",
              "bachelor's degree       5227\n",
              "some college             741\n",
              "primary education        282\n",
              "graduate degree            6\n",
              "Name: education, dtype: int64"
            ]
          },
          "metadata": {},
          "execution_count": 41
        }
      ],
      "source": [
        "df['education'].value_counts()"
      ]
    },
    {
      "cell_type": "code",
      "execution_count": 42,
      "metadata": {
        "colab": {
          "base_uri": "https://localhost:8080/"
        },
        "id": "tjvyvkNK0v4z",
        "outputId": "8c77721e-7326-4d05-85e5-4e457a972a05"
      },
      "outputs": [
        {
          "output_type": "execute_result",
          "data": {
            "text/plain": [
              "1    15075\n",
              "0     5227\n",
              "2      741\n",
              "3      282\n",
              "4        6\n",
              "Name: education_id, dtype: int64"
            ]
          },
          "metadata": {},
          "execution_count": 42
        }
      ],
      "source": [
        "df['education_id'].value_counts()"
      ]
    },
    {
      "cell_type": "markdown",
      "metadata": {
        "id": "ShAOQjuY0v4z"
      },
      "source": [
        "# Education\n",
        "    1: secondary education\n",
        "    2: bachalor's degree\n",
        "    3: some college\n",
        "    4: primary education\n",
        "    5: graduate degree"
      ]
    },
    {
      "cell_type": "code",
      "execution_count": 43,
      "metadata": {
        "colab": {
          "base_uri": "https://localhost:8080/"
        },
        "id": "iRH6RB6S0v4z",
        "outputId": "e02f636a-f068-4bde-82a5-97b06ae35617"
      },
      "outputs": [
        {
          "output_type": "execute_result",
          "data": {
            "text/plain": [
              "married              12261\n",
              "civil partnership     4134\n",
              "unmarried             2796\n",
              "divorced              1189\n",
              "widow / widower        951\n",
              "Name: family_status, dtype: int64"
            ]
          },
          "metadata": {},
          "execution_count": 43
        }
      ],
      "source": [
        "df['family_status'].value_counts()"
      ]
    },
    {
      "cell_type": "code",
      "execution_count": 44,
      "metadata": {
        "colab": {
          "base_uri": "https://localhost:8080/"
        },
        "id": "CYwtdocq0v4z",
        "outputId": "75b58694-c953-4656-9f69-9d1804adb5a0"
      },
      "outputs": [
        {
          "output_type": "execute_result",
          "data": {
            "text/plain": [
              "0    12261\n",
              "1     4134\n",
              "4     2796\n",
              "3     1189\n",
              "2      951\n",
              "Name: family_status_id, dtype: int64"
            ]
          },
          "metadata": {},
          "execution_count": 44
        }
      ],
      "source": [
        "df['family_status_id'].value_counts()"
      ]
    },
    {
      "cell_type": "markdown",
      "metadata": {
        "id": "QpLjBb_Q0v4z"
      },
      "source": [
        "# Family Status\n",
        "    1: married\n",
        "    2: civil partenership\n",
        "    3: unmarried\n",
        "    4: divorced\n",
        "    5: widow/widower"
      ]
    },
    {
      "cell_type": "markdown",
      "metadata": {
        "id": "_2q75VvP0v40"
      },
      "source": [
        "### Restoring missing values in `total_income`"
      ]
    },
    {
      "cell_type": "markdown",
      "metadata": {
        "id": "ymnVqz2M0v40"
      },
      "source": [
        "There are two columns with missing values: days_employed & total_income. I will substitute the values with median/average of the column for the category the row fits in.  \n",
        "\n",
        "I will begin with addressing total income missing values by creating a function that calculates the age category of the client.\n"
      ]
    },
    {
      "cell_type": "code",
      "execution_count": 125,
      "metadata": {
        "id": "QvmRiOTp0v41"
      },
      "outputs": [],
      "source": [
        "# categorizing age \n",
        "def age_category_2(age):\n",
        "        if age < 20:\n",
        "            return ('teenager')\n",
        "        else:\n",
        "            first_digit = age // 10\n",
        "            return f'{first_digit}0s'\n"
      ]
    },
    {
      "cell_type": "code",
      "execution_count": 126,
      "metadata": {
        "colab": {
          "base_uri": "https://localhost:8080/"
        },
        "id": "xtsLPEI_0v41",
        "outputId": "6737a149-53ed-4959-8705-f6fc2dc456af"
      },
      "outputs": [
        {
          "output_type": "execute_result",
          "data": {
            "text/plain": [
              "('20s', '70s', '30s')"
            ]
          },
          "metadata": {},
          "execution_count": 126
        }
      ],
      "source": [
        "# Test if the function works\n",
        "age_category(29), age_category(72), age_category(36)"
      ]
    },
    {
      "cell_type": "code",
      "execution_count": 104,
      "metadata": {
        "id": "qTjnroLL0v41"
      },
      "outputs": [],
      "source": [
        "# Creating new column based on function\n",
        "df['age_group'] = df['dob_years'].apply(age_category)"
      ]
    },
    {
      "cell_type": "code",
      "execution_count": 127,
      "metadata": {
        "colab": {
          "base_uri": "https://localhost:8080/"
        },
        "id": "tL3YLAsI0v42",
        "outputId": "3f5063d9-7e0f-4922-c014-dc12342d8151"
      },
      "outputs": [
        {
          "output_type": "execute_result",
          "data": {
            "text/plain": [
              "0        40s\n",
              "1        30s\n",
              "2        30s\n",
              "3        30s\n",
              "4        50s\n",
              "        ... \n",
              "21326    40s\n",
              "21327    60s\n",
              "21328    30s\n",
              "21329    30s\n",
              "21330    40s\n",
              "Name: age_group, Length: 21331, dtype: object"
            ]
          },
          "metadata": {},
          "execution_count": 127
        }
      ],
      "source": [
        "# Checking how values in the new column\n",
        "df['age_group']"
      ]
    },
    {
      "cell_type": "markdown",
      "metadata": {
        "id": "qlkb5nQh0v42"
      },
      "source": [
        "Income depends on type, gender, education and age. We will use the average or the median value of these categorys' income based on the distribution."
      ]
    },
    {
      "cell_type": "code",
      "execution_count": 106,
      "metadata": {
        "scrolled": true,
        "colab": {
          "base_uri": "https://localhost:8080/"
        },
        "id": "ng773atI0v42",
        "outputId": "e328ae14-b5b7-4135-829d-f06d83e67a36"
      },
      "outputs": [
        {
          "output_type": "execute_result",
          "data": {
            "text/plain": [
              "children            0\n",
              "days_employed       0\n",
              "dob_years           0\n",
              "education           0\n",
              "education_id        0\n",
              "family_status       0\n",
              "family_status_id    0\n",
              "gender              0\n",
              "income_type         0\n",
              "debt                0\n",
              "total_income        0\n",
              "purpose             0\n",
              "age_group           0\n",
              "purpose_categroy    0\n",
              "income_group        0\n",
              "dtype: int64"
            ]
          },
          "metadata": {},
          "execution_count": 106
        }
      ],
      "source": [
        "# Create a table without missing values and print a few of its rows to make sure it looks fine\n",
        "df_no_mv = df[df['total_income'].notna()]\n",
        "df_no_mv = df_no_mv[df_no_mv['days_employed'].notna()]\n",
        "df_no_mv.isna().sum()"
      ]
    },
    {
      "cell_type": "markdown",
      "metadata": {
        "id": "MrI600v70v42"
      },
      "source": [
        "I will be reviewing the income type differences based on the following factors (mean+median):\n",
        "1. Age group\n",
        "2. Education\n",
        "3. Gender\n",
        "4. Income type"
      ]
    },
    {
      "cell_type": "code",
      "execution_count": 107,
      "metadata": {
        "colab": {
          "base_uri": "https://localhost:8080/"
        },
        "id": "Qx6Cw6Yo0v43",
        "outputId": "e30f5371-b58b-4c11-9e05-751df9a199bc"
      },
      "outputs": [
        {
          "output_type": "execute_result",
          "data": {
            "text/plain": [
              "age_group\n",
              "20s         25330.072153\n",
              "30s         27987.804690\n",
              "40s         28138.685481\n",
              "50s         25477.925650\n",
              "60s         22902.052468\n",
              "70s         20097.386929\n",
              "teenager    16821.212071\n",
              "Name: total_income, dtype: float64"
            ]
          },
          "metadata": {},
          "execution_count": 107
        }
      ],
      "source": [
        "# Look at the mean values for income based on your identified factors\n",
        "df_no_mv.groupby('age_group')['total_income'].mean()"
      ]
    },
    {
      "cell_type": "code",
      "execution_count": 108,
      "metadata": {
        "scrolled": true,
        "colab": {
          "base_uri": "https://localhost:8080/"
        },
        "id": "SN42sjwA0v43",
        "outputId": "20e19a93-8d21-4da8-9223-fe180628614e"
      },
      "outputs": [
        {
          "output_type": "execute_result",
          "data": {
            "text/plain": [
              "age_group\n",
              "20s         22444.2565\n",
              "30s         24208.4100\n",
              "40s         24226.0485\n",
              "50s         22504.9395\n",
              "60s         19260.4345\n",
              "70s         18358.5970\n",
              "teenager    14817.5910\n",
              "Name: total_income, dtype: float64"
            ]
          },
          "metadata": {},
          "execution_count": 108
        }
      ],
      "source": [
        "# Look at the median values for income based on your identified factors\n",
        "df_no_mv.groupby('age_group')['total_income'].median()"
      ]
    },
    {
      "cell_type": "code",
      "execution_count": 109,
      "metadata": {
        "colab": {
          "base_uri": "https://localhost:8080/"
        },
        "id": "Z8BHKkMm0v43",
        "outputId": "90dc6c0d-a93e-42bc-ee2d-bc8f790d07c5"
      },
      "outputs": [
        {
          "output_type": "execute_result",
          "data": {
            "text/plain": [
              "education\n",
              "bachelor's degree      32282.144751\n",
              "graduate degree        27960.024667\n",
              "primary education      21232.990957\n",
              "secondary education    24443.129423\n",
              "some college           28544.630711\n",
              "Name: total_income, dtype: float64"
            ]
          },
          "metadata": {},
          "execution_count": 109
        }
      ],
      "source": [
        "df_no_mv.groupby('education')['total_income'].mean()"
      ]
    },
    {
      "cell_type": "code",
      "execution_count": 110,
      "metadata": {
        "colab": {
          "base_uri": "https://localhost:8080/"
        },
        "id": "HCASfn-Q0v43",
        "outputId": "5ef8254d-1bc0-4d4e-cf75-30e385c52605"
      },
      "outputs": [
        {
          "output_type": "execute_result",
          "data": {
            "text/plain": [
              "education\n",
              "bachelor's degree      27184.2910\n",
              "graduate degree        25161.5835\n",
              "primary education      19516.6845\n",
              "secondary education    22331.6300\n",
              "some college           24964.0520\n",
              "Name: total_income, dtype: float64"
            ]
          },
          "metadata": {},
          "execution_count": 110
        }
      ],
      "source": [
        "df_no_mv.groupby('education')['total_income'].median()"
      ]
    },
    {
      "cell_type": "code",
      "execution_count": 111,
      "metadata": {
        "colab": {
          "base_uri": "https://localhost:8080/"
        },
        "id": "Zf41hSni0v44",
        "outputId": "8c9c376f-9f96-44d8-d752-8373b7a3ed91"
      },
      "outputs": [
        {
          "output_type": "execute_result",
          "data": {
            "text/plain": [
              "gender\n",
              "F      24515.186440\n",
              "M      30260.479342\n",
              "XNA    32624.825000\n",
              "Name: total_income, dtype: float64"
            ]
          },
          "metadata": {},
          "execution_count": 111
        }
      ],
      "source": [
        "df_no_mv.groupby('gender')['total_income'].mean()"
      ]
    },
    {
      "cell_type": "code",
      "execution_count": 112,
      "metadata": {
        "colab": {
          "base_uri": "https://localhost:8080/"
        },
        "id": "EB2w0dLH0v44",
        "outputId": "f5d52d69-363b-4fd6-ab50-350aba3d3dba"
      },
      "outputs": [
        {
          "output_type": "execute_result",
          "data": {
            "text/plain": [
              "gender\n",
              "F      22087.1710\n",
              "M      26008.6225\n",
              "XNA    32624.8250\n",
              "Name: total_income, dtype: float64"
            ]
          },
          "metadata": {},
          "execution_count": 112
        }
      ],
      "source": [
        "df_no_mv.groupby('gender')['total_income'].median()"
      ]
    },
    {
      "cell_type": "code",
      "execution_count": 113,
      "metadata": {
        "colab": {
          "base_uri": "https://localhost:8080/"
        },
        "id": "tX23MXJv0v44",
        "outputId": "5c9c915d-53d1-4a2b-853c-17620fe4f9a5"
      },
      "outputs": [
        {
          "output_type": "execute_result",
          "data": {
            "text/plain": [
              "income_type\n",
              "business                       31974.506511\n",
              "civil servant                  27005.266945\n",
              "employee                       25524.762200\n",
              "entrepreneur                   79866.051500\n",
              "paternity / maternity leave     8612.661000\n",
              "retiree                        21664.392323\n",
              "student                        15712.260000\n",
              "unemployed                     21014.360500\n",
              "Name: total_income, dtype: float64"
            ]
          },
          "metadata": {},
          "execution_count": 113
        }
      ],
      "source": [
        "df_no_mv.groupby('income_type')['total_income'].mean()"
      ]
    },
    {
      "cell_type": "code",
      "execution_count": 114,
      "metadata": {
        "scrolled": true,
        "colab": {
          "base_uri": "https://localhost:8080/"
        },
        "id": "J9emwkUM0v45",
        "outputId": "d82edb29-1f45-4fe5-9ece-3cc348dca0dc"
      },
      "outputs": [
        {
          "output_type": "execute_result",
          "data": {
            "text/plain": [
              "income_type\n",
              "business                       28138.8950\n",
              "civil servant                  24387.3330\n",
              "employee                       23126.2980\n",
              "entrepreneur                   79866.0515\n",
              "paternity / maternity leave     8612.6610\n",
              "retiree                        19024.2765\n",
              "student                        15712.2600\n",
              "unemployed                     21014.3605\n",
              "Name: total_income, dtype: float64"
            ]
          },
          "metadata": {},
          "execution_count": 114
        }
      ],
      "source": [
        "df_no_mv.groupby('income_type')['total_income'].median()"
      ]
    },
    {
      "cell_type": "code",
      "execution_count": 115,
      "metadata": {
        "colab": {
          "base_uri": "https://localhost:8080/"
        },
        "id": "KYehSibS0v45",
        "outputId": "b605ad3b-1738-4edd-e71b-2879a0cfb241"
      },
      "outputs": [
        {
          "output_type": "execute_result",
          "data": {
            "text/plain": [
              "count     21331.000000\n",
              "mean      26465.050003\n",
              "std       15732.435115\n",
              "min        3306.762000\n",
              "25%       17199.350500\n",
              "50%       23158.689000\n",
              "75%       31334.809500\n",
              "max      362496.645000\n",
              "Name: total_income, dtype: float64"
            ]
          },
          "metadata": {},
          "execution_count": 115
        }
      ],
      "source": [
        "df_no_mv['total_income'].describe()"
      ]
    },
    {
      "cell_type": "markdown",
      "metadata": {
        "id": "i71uVaeP0v45"
      },
      "source": [
        "The biggest differences in income were found in the income type and age categories columns. I am going to use median since there are outliers in the dataset."
      ]
    },
    {
      "cell_type": "code",
      "execution_count": 116,
      "metadata": {
        "id": "N-CgQrm_0v4_"
      },
      "outputs": [],
      "source": [
        "def fill_missing_values(fill_col, fill_value, cat_1, cat_2):\n",
        "    df[fill_col] = df[fill_col].fillna(df.groupby([cat_1 , cat_2])[fill_col].transform(fill_value))\n",
        "\n",
        "\n",
        "fill_missing_values(fill_col='total_income', fill_value='median', cat_1='income_type', cat_2='age_group')"
      ]
    },
    {
      "cell_type": "code",
      "execution_count": 117,
      "metadata": {
        "colab": {
          "base_uri": "https://localhost:8080/"
        },
        "id": "NdTZ4B3b0v4_",
        "outputId": "ada1d00f-7410-41da-f0e2-3d5c554f2858"
      },
      "outputs": [
        {
          "output_type": "execute_result",
          "data": {
            "text/plain": [
              "0"
            ]
          },
          "metadata": {},
          "execution_count": 117
        }
      ],
      "source": [
        "# Check if we got any errors\n",
        "fill_col='total_income'\n",
        "df[fill_col].isna().sum()"
      ]
    },
    {
      "cell_type": "code",
      "execution_count": 118,
      "metadata": {
        "colab": {
          "base_uri": "https://localhost:8080/",
          "height": 113
        },
        "id": "pgVsGbH60v4_",
        "outputId": "a8571ca3-97c8-4231-919b-795986a478d5"
      },
      "outputs": [
        {
          "output_type": "execute_result",
          "data": {
            "text/html": [
              "\n",
              "  <div id=\"df-8f1e0476-b6c4-464c-82ae-864e359f3801\">\n",
              "    <div class=\"colab-df-container\">\n",
              "      <div>\n",
              "<style scoped>\n",
              "    .dataframe tbody tr th:only-of-type {\n",
              "        vertical-align: middle;\n",
              "    }\n",
              "\n",
              "    .dataframe tbody tr th {\n",
              "        vertical-align: top;\n",
              "    }\n",
              "\n",
              "    .dataframe thead th {\n",
              "        text-align: right;\n",
              "    }\n",
              "</style>\n",
              "<table border=\"1\" class=\"dataframe\">\n",
              "  <thead>\n",
              "    <tr style=\"text-align: right;\">\n",
              "      <th></th>\n",
              "      <th>children</th>\n",
              "      <th>days_employed</th>\n",
              "      <th>dob_years</th>\n",
              "      <th>education</th>\n",
              "      <th>education_id</th>\n",
              "      <th>family_status</th>\n",
              "      <th>family_status_id</th>\n",
              "      <th>gender</th>\n",
              "      <th>income_type</th>\n",
              "      <th>debt</th>\n",
              "      <th>total_income</th>\n",
              "      <th>purpose</th>\n",
              "      <th>age_group</th>\n",
              "      <th>purpose_categroy</th>\n",
              "      <th>income_group</th>\n",
              "    </tr>\n",
              "  </thead>\n",
              "  <tbody>\n",
              "  </tbody>\n",
              "</table>\n",
              "</div>\n",
              "      <button class=\"colab-df-convert\" onclick=\"convertToInteractive('df-8f1e0476-b6c4-464c-82ae-864e359f3801')\"\n",
              "              title=\"Convert this dataframe to an interactive table.\"\n",
              "              style=\"display:none;\">\n",
              "        \n",
              "  <svg xmlns=\"http://www.w3.org/2000/svg\" height=\"24px\"viewBox=\"0 0 24 24\"\n",
              "       width=\"24px\">\n",
              "    <path d=\"M0 0h24v24H0V0z\" fill=\"none\"/>\n",
              "    <path d=\"M18.56 5.44l.94 2.06.94-2.06 2.06-.94-2.06-.94-.94-2.06-.94 2.06-2.06.94zm-11 1L8.5 8.5l.94-2.06 2.06-.94-2.06-.94L8.5 2.5l-.94 2.06-2.06.94zm10 10l.94 2.06.94-2.06 2.06-.94-2.06-.94-.94-2.06-.94 2.06-2.06.94z\"/><path d=\"M17.41 7.96l-1.37-1.37c-.4-.4-.92-.59-1.43-.59-.52 0-1.04.2-1.43.59L10.3 9.45l-7.72 7.72c-.78.78-.78 2.05 0 2.83L4 21.41c.39.39.9.59 1.41.59.51 0 1.02-.2 1.41-.59l7.78-7.78 2.81-2.81c.8-.78.8-2.07 0-2.86zM5.41 20L4 18.59l7.72-7.72 1.47 1.35L5.41 20z\"/>\n",
              "  </svg>\n",
              "      </button>\n",
              "      \n",
              "  <style>\n",
              "    .colab-df-container {\n",
              "      display:flex;\n",
              "      flex-wrap:wrap;\n",
              "      gap: 12px;\n",
              "    }\n",
              "\n",
              "    .colab-df-convert {\n",
              "      background-color: #E8F0FE;\n",
              "      border: none;\n",
              "      border-radius: 50%;\n",
              "      cursor: pointer;\n",
              "      display: none;\n",
              "      fill: #1967D2;\n",
              "      height: 32px;\n",
              "      padding: 0 0 0 0;\n",
              "      width: 32px;\n",
              "    }\n",
              "\n",
              "    .colab-df-convert:hover {\n",
              "      background-color: #E2EBFA;\n",
              "      box-shadow: 0px 1px 2px rgba(60, 64, 67, 0.3), 0px 1px 3px 1px rgba(60, 64, 67, 0.15);\n",
              "      fill: #174EA6;\n",
              "    }\n",
              "\n",
              "    [theme=dark] .colab-df-convert {\n",
              "      background-color: #3B4455;\n",
              "      fill: #D2E3FC;\n",
              "    }\n",
              "\n",
              "    [theme=dark] .colab-df-convert:hover {\n",
              "      background-color: #434B5C;\n",
              "      box-shadow: 0px 1px 3px 1px rgba(0, 0, 0, 0.15);\n",
              "      filter: drop-shadow(0px 1px 2px rgba(0, 0, 0, 0.3));\n",
              "      fill: #FFFFFF;\n",
              "    }\n",
              "  </style>\n",
              "\n",
              "      <script>\n",
              "        const buttonEl =\n",
              "          document.querySelector('#df-8f1e0476-b6c4-464c-82ae-864e359f3801 button.colab-df-convert');\n",
              "        buttonEl.style.display =\n",
              "          google.colab.kernel.accessAllowed ? 'block' : 'none';\n",
              "\n",
              "        async function convertToInteractive(key) {\n",
              "          const element = document.querySelector('#df-8f1e0476-b6c4-464c-82ae-864e359f3801');\n",
              "          const dataTable =\n",
              "            await google.colab.kernel.invokeFunction('convertToInteractive',\n",
              "                                                     [key], {});\n",
              "          if (!dataTable) return;\n",
              "\n",
              "          const docLinkHtml = 'Like what you see? Visit the ' +\n",
              "            '<a target=\"_blank\" href=https://colab.research.google.com/notebooks/data_table.ipynb>data table notebook</a>'\n",
              "            + ' to learn more about interactive tables.';\n",
              "          element.innerHTML = '';\n",
              "          dataTable['output_type'] = 'display_data';\n",
              "          await google.colab.output.renderOutput(dataTable, element);\n",
              "          const docLink = document.createElement('div');\n",
              "          docLink.innerHTML = docLinkHtml;\n",
              "          element.appendChild(docLink);\n",
              "        }\n",
              "      </script>\n",
              "    </div>\n",
              "  </div>\n",
              "  "
            ],
            "text/plain": [
              "Empty DataFrame\n",
              "Columns: [children, days_employed, dob_years, education, education_id, family_status, family_status_id, gender, income_type, debt, total_income, purpose, age_group, purpose_categroy, income_group]\n",
              "Index: []"
            ]
          },
          "metadata": {},
          "execution_count": 118
        }
      ],
      "source": [
        "df[df[fill_col].isna()]"
      ]
    },
    {
      "cell_type": "markdown",
      "metadata": {
        "id": "8tapAqur0v5A"
      },
      "source": [
        "This row is sill NaN in total income column. The reason for that is the function could not find other entries with the same age group and income type to calculate median income.\n",
        "For this case, we will fill in the value manually with only the income type median and without reference to age group of the client."
      ]
    },
    {
      "cell_type": "code",
      "execution_count": 119,
      "metadata": {
        "colab": {
          "base_uri": "https://localhost:8080/"
        },
        "id": "Ww71CrOI0v5A",
        "outputId": "58785206-9911-4c98-897c-824004dc3c5f"
      },
      "outputs": [
        {
          "output_type": "execute_result",
          "data": {
            "text/plain": [
              "income_type\n",
              "business                       28138.8950\n",
              "civil servant                  24387.3330\n",
              "employee                       23126.2980\n",
              "entrepreneur                   79866.0515\n",
              "paternity / maternity leave     8612.6610\n",
              "retiree                        19024.2765\n",
              "student                        15712.2600\n",
              "unemployed                     21014.3605\n",
              "Name: total_income, dtype: float64"
            ]
          },
          "metadata": {},
          "execution_count": 119
        }
      ],
      "source": [
        "df_no_mv.groupby('income_type')['total_income'].median()"
      ]
    },
    {
      "cell_type": "code",
      "execution_count": 120,
      "metadata": {
        "id": "A0kTI0W_0v5A"
      },
      "outputs": [],
      "source": [
        "df['total_income'] = df['total_income'].fillna(value=79866)"
      ]
    },
    {
      "cell_type": "code",
      "execution_count": 121,
      "metadata": {
        "colab": {
          "base_uri": "https://localhost:8080/"
        },
        "id": "sKo1eCHO0v5A",
        "outputId": "938d8b13-14dd-41b0-8dee-ee0a05b85cee"
      },
      "outputs": [
        {
          "output_type": "execute_result",
          "data": {
            "text/plain": [
              "0"
            ]
          },
          "metadata": {},
          "execution_count": 121
        }
      ],
      "source": [
        "#check that there are no missing values in the income column\n",
        "df[fill_col].isna().sum()"
      ]
    },
    {
      "cell_type": "markdown",
      "metadata": {
        "id": "VA4nIX1I0v5B"
      },
      "source": [
        "Let's check that the total number of values in this column matches the number of values in other ones."
      ]
    },
    {
      "cell_type": "code",
      "execution_count": 122,
      "metadata": {
        "colab": {
          "base_uri": "https://localhost:8080/"
        },
        "id": "SeP1Y82u0v5B",
        "outputId": "80e2dcb7-0f09-4efe-b43f-dfc71cb8f66e"
      },
      "outputs": [
        {
          "output_type": "execute_result",
          "data": {
            "text/plain": [
              "21331"
            ]
          },
          "metadata": {},
          "execution_count": 122
        }
      ],
      "source": [
        "# Checking the number of entries in the columns\n",
        "df['total_income'].count()"
      ]
    },
    {
      "cell_type": "code",
      "execution_count": 123,
      "metadata": {
        "colab": {
          "base_uri": "https://localhost:8080/"
        },
        "id": "5Z3V30Rs0v5B",
        "outputId": "74ddeee5-2549-4eb7-ce56-a4ce1d6dc427"
      },
      "outputs": [
        {
          "output_type": "execute_result",
          "data": {
            "text/plain": [
              "21331"
            ]
          },
          "metadata": {},
          "execution_count": 123
        }
      ],
      "source": [
        "df['age_group'].count()"
      ]
    },
    {
      "cell_type": "markdown",
      "metadata": {
        "id": "1F_JqSmI0v5B"
      },
      "source": [
        "###  Restoring values in `days_employed`"
      ]
    },
    {
      "cell_type": "code",
      "execution_count": 68,
      "metadata": {
        "pycharm": {
          "name": "#%%\n"
        },
        "colab": {
          "base_uri": "https://localhost:8080/"
        },
        "id": "4IEvqKpb0v5C",
        "outputId": "99cdc18c-4ff9-4f3a-b93d-3ba6a9a7bd00"
      },
      "outputs": [
        {
          "output_type": "execute_result",
          "data": {
            "text/plain": [
              "income_type\n",
              "business                         1555.947387\n",
              "civil servant                    2689.137274\n",
              "employee                         1572.328285\n",
              "entrepreneur                      520.848083\n",
              "paternity / maternity leave      3296.759962\n",
              "retiree                        365286.622650\n",
              "student                           578.751554\n",
              "unemployed                     366413.652744\n",
              "Name: days_employed, dtype: float64"
            ]
          },
          "metadata": {},
          "execution_count": 68
        }
      ],
      "source": [
        "# Distribution of `days_employed` medians based on your identified parameters\n",
        "df_no_mv.groupby('income_type')['days_employed'].median()"
      ]
    },
    {
      "cell_type": "code",
      "execution_count": 69,
      "metadata": {
        "colab": {
          "base_uri": "https://localhost:8080/"
        },
        "id": "CvLIbZ550v5C",
        "outputId": "fdf383e9-634a-4f72-f584-0f70f97082e0"
      },
      "outputs": [
        {
          "output_type": "execute_result",
          "data": {
            "text/plain": [
              "age_group\n",
              "20s           1007.207074\n",
              "30s           1601.919871\n",
              "40s           2109.314691\n",
              "50s           4823.464469\n",
              "60s         354932.869424\n",
              "70s         361336.993449\n",
              "teenager       724.492610\n",
              "Name: days_employed, dtype: float64"
            ]
          },
          "metadata": {},
          "execution_count": 69
        }
      ],
      "source": [
        "df_no_mv.groupby('age_group')['days_employed'].median()"
      ]
    },
    {
      "cell_type": "code",
      "execution_count": 70,
      "metadata": {
        "colab": {
          "base_uri": "https://localhost:8080/"
        },
        "id": "7hglY10M0v5C",
        "outputId": "d6bd8d93-fdf9-4d8b-be16-38244daa588d"
      },
      "outputs": [
        {
          "output_type": "execute_result",
          "data": {
            "text/plain": [
              "education\n",
              "bachelor's degree      1896.569279\n",
              "graduate degree        5660.057032\n",
              "primary education      3043.933615\n",
              "secondary education    2392.941678\n",
              "some college           1209.179228\n",
              "Name: days_employed, dtype: float64"
            ]
          },
          "metadata": {},
          "execution_count": 70
        }
      ],
      "source": [
        "df_no_mv.groupby('education')['days_employed'].median()"
      ]
    },
    {
      "cell_type": "code",
      "execution_count": 71,
      "metadata": {
        "colab": {
          "base_uri": "https://localhost:8080/"
        },
        "id": "YN861JGo0v5C",
        "outputId": "9d742cb2-5485-492f-c1ba-3d5c9594e98d"
      },
      "outputs": [
        {
          "output_type": "execute_result",
          "data": {
            "text/plain": [
              "income_type\n",
              "business                         2118.257358\n",
              "civil servant                    3403.534603\n",
              "employee                         2323.653522\n",
              "entrepreneur                      520.848083\n",
              "paternity / maternity leave      3296.759962\n",
              "retiree                        365025.091981\n",
              "student                           578.751554\n",
              "unemployed                     366413.652744\n",
              "Name: days_employed, dtype: float64"
            ]
          },
          "metadata": {},
          "execution_count": 71
        }
      ],
      "source": [
        "df_no_mv.groupby('income_type')['days_employed'].mean()"
      ]
    },
    {
      "cell_type": "code",
      "execution_count": 72,
      "metadata": {
        "scrolled": true,
        "colab": {
          "base_uri": "https://localhost:8080/"
        },
        "id": "qSQNRYih0v5C",
        "outputId": "373bbbd3-35d4-4c66-e5d5-f5fdec378bc9"
      },
      "outputs": [
        {
          "output_type": "execute_result",
          "data": {
            "text/plain": [
              "age_group\n",
              "20s           1970.099128\n",
              "30s           4168.767451\n",
              "40s          13375.461164\n",
              "50s         133225.884547\n",
              "60s         283789.958296\n",
              "70s         320819.151927\n",
              "teenager       633.678086\n",
              "Name: days_employed, dtype: float64"
            ]
          },
          "metadata": {},
          "execution_count": 72
        }
      ],
      "source": [
        "df_no_mv.groupby('age_group')['days_employed'].mean()"
      ]
    },
    {
      "cell_type": "code",
      "execution_count": 73,
      "metadata": {
        "scrolled": true,
        "colab": {
          "base_uri": "https://localhost:8080/"
        },
        "id": "p7gm3BAQ0v5D",
        "outputId": "31489d2b-2623-400f-bb9d-3514da9e286b"
      },
      "outputs": [
        {
          "output_type": "execute_result",
          "data": {
            "text/plain": [
              "count     19240.000000\n",
              "mean      67027.691459\n",
              "std      139130.846446\n",
              "min          24.141633\n",
              "25%         927.984311\n",
              "50%        2195.251592\n",
              "75%        5556.372075\n",
              "max      401755.400475\n",
              "Name: days_employed, dtype: float64"
            ]
          },
          "metadata": {},
          "execution_count": 73
        }
      ],
      "source": [
        "df_no_mv['days_employed'].describe()"
      ]
    },
    {
      "cell_type": "markdown",
      "metadata": {
        "id": "tDTxSNbK0v5D"
      },
      "source": [
        "The factors which impacted the days employed the most were income type and age group."
      ]
    },
    {
      "cell_type": "markdown",
      "metadata": {
        "id": "pgNYKJun0v5D"
      },
      "source": [
        "I will use median in this analysis since there are outliers in the dataset - the distribution of days employed is right skewed."
      ]
    },
    {
      "cell_type": "code",
      "execution_count": 74,
      "metadata": {
        "id": "5XMQxLPK0v5D"
      },
      "outputs": [],
      "source": [
        "# Let's write a function that calculates means or medians (depending on your decision) based on your identified parameter\n",
        "def fill_missing_values(fill_col, fill_value, cat_1, cat_2):\n",
        "    df[fill_col] = df[fill_col].fillna(df.groupby([cat_1 , cat_2])[fill_col].transform(fill_value))\n",
        "\n",
        "\n",
        "fill_missing_values(fill_col='days_employed', fill_value='median', cat_1='income_type', cat_2='age_group')"
      ]
    },
    {
      "cell_type": "code",
      "execution_count": 75,
      "metadata": {
        "colab": {
          "base_uri": "https://localhost:8080/"
        },
        "id": "gpg6jlYS0v5D",
        "outputId": "1ddea467-57b6-4980-bd9f-70022c1c3bf3"
      },
      "outputs": [
        {
          "output_type": "execute_result",
          "data": {
            "text/plain": [
              "1"
            ]
          },
          "metadata": {},
          "execution_count": 75
        }
      ],
      "source": [
        "# Check that the function works\n",
        "fill_col = 'days_employed'\n",
        "df[fill_col].isna().sum()"
      ]
    },
    {
      "cell_type": "code",
      "execution_count": 76,
      "metadata": {
        "colab": {
          "base_uri": "https://localhost:8080/",
          "height": 197
        },
        "id": "_PhgABnj0v5E",
        "outputId": "a699f1e4-57e0-4c30-ee59-14fbab83e038"
      },
      "outputs": [
        {
          "output_type": "execute_result",
          "data": {
            "text/html": [
              "\n",
              "  <div id=\"df-536c56f4-1ea8-4230-80b7-093d83da74a8\">\n",
              "    <div class=\"colab-df-container\">\n",
              "      <div>\n",
              "<style scoped>\n",
              "    .dataframe tbody tr th:only-of-type {\n",
              "        vertical-align: middle;\n",
              "    }\n",
              "\n",
              "    .dataframe tbody tr th {\n",
              "        vertical-align: top;\n",
              "    }\n",
              "\n",
              "    .dataframe thead th {\n",
              "        text-align: right;\n",
              "    }\n",
              "</style>\n",
              "<table border=\"1\" class=\"dataframe\">\n",
              "  <thead>\n",
              "    <tr style=\"text-align: right;\">\n",
              "      <th></th>\n",
              "      <th>children</th>\n",
              "      <th>days_employed</th>\n",
              "      <th>dob_years</th>\n",
              "      <th>education</th>\n",
              "      <th>education_id</th>\n",
              "      <th>family_status</th>\n",
              "      <th>family_status_id</th>\n",
              "      <th>gender</th>\n",
              "      <th>income_type</th>\n",
              "      <th>debt</th>\n",
              "      <th>total_income</th>\n",
              "      <th>purpose</th>\n",
              "      <th>age_group</th>\n",
              "    </tr>\n",
              "  </thead>\n",
              "  <tbody>\n",
              "    <tr>\n",
              "      <th>5903</th>\n",
              "      <td>0</td>\n",
              "      <td>NaN</td>\n",
              "      <td>58.0</td>\n",
              "      <td>bachelor's degree</td>\n",
              "      <td>0</td>\n",
              "      <td>married</td>\n",
              "      <td>0</td>\n",
              "      <td>M</td>\n",
              "      <td>entrepreneur</td>\n",
              "      <td>0</td>\n",
              "      <td>79866.0</td>\n",
              "      <td>buy residential real estate</td>\n",
              "      <td>50s</td>\n",
              "    </tr>\n",
              "  </tbody>\n",
              "</table>\n",
              "</div>\n",
              "      <button class=\"colab-df-convert\" onclick=\"convertToInteractive('df-536c56f4-1ea8-4230-80b7-093d83da74a8')\"\n",
              "              title=\"Convert this dataframe to an interactive table.\"\n",
              "              style=\"display:none;\">\n",
              "        \n",
              "  <svg xmlns=\"http://www.w3.org/2000/svg\" height=\"24px\"viewBox=\"0 0 24 24\"\n",
              "       width=\"24px\">\n",
              "    <path d=\"M0 0h24v24H0V0z\" fill=\"none\"/>\n",
              "    <path d=\"M18.56 5.44l.94 2.06.94-2.06 2.06-.94-2.06-.94-.94-2.06-.94 2.06-2.06.94zm-11 1L8.5 8.5l.94-2.06 2.06-.94-2.06-.94L8.5 2.5l-.94 2.06-2.06.94zm10 10l.94 2.06.94-2.06 2.06-.94-2.06-.94-.94-2.06-.94 2.06-2.06.94z\"/><path d=\"M17.41 7.96l-1.37-1.37c-.4-.4-.92-.59-1.43-.59-.52 0-1.04.2-1.43.59L10.3 9.45l-7.72 7.72c-.78.78-.78 2.05 0 2.83L4 21.41c.39.39.9.59 1.41.59.51 0 1.02-.2 1.41-.59l7.78-7.78 2.81-2.81c.8-.78.8-2.07 0-2.86zM5.41 20L4 18.59l7.72-7.72 1.47 1.35L5.41 20z\"/>\n",
              "  </svg>\n",
              "      </button>\n",
              "      \n",
              "  <style>\n",
              "    .colab-df-container {\n",
              "      display:flex;\n",
              "      flex-wrap:wrap;\n",
              "      gap: 12px;\n",
              "    }\n",
              "\n",
              "    .colab-df-convert {\n",
              "      background-color: #E8F0FE;\n",
              "      border: none;\n",
              "      border-radius: 50%;\n",
              "      cursor: pointer;\n",
              "      display: none;\n",
              "      fill: #1967D2;\n",
              "      height: 32px;\n",
              "      padding: 0 0 0 0;\n",
              "      width: 32px;\n",
              "    }\n",
              "\n",
              "    .colab-df-convert:hover {\n",
              "      background-color: #E2EBFA;\n",
              "      box-shadow: 0px 1px 2px rgba(60, 64, 67, 0.3), 0px 1px 3px 1px rgba(60, 64, 67, 0.15);\n",
              "      fill: #174EA6;\n",
              "    }\n",
              "\n",
              "    [theme=dark] .colab-df-convert {\n",
              "      background-color: #3B4455;\n",
              "      fill: #D2E3FC;\n",
              "    }\n",
              "\n",
              "    [theme=dark] .colab-df-convert:hover {\n",
              "      background-color: #434B5C;\n",
              "      box-shadow: 0px 1px 3px 1px rgba(0, 0, 0, 0.15);\n",
              "      filter: drop-shadow(0px 1px 2px rgba(0, 0, 0, 0.3));\n",
              "      fill: #FFFFFF;\n",
              "    }\n",
              "  </style>\n",
              "\n",
              "      <script>\n",
              "        const buttonEl =\n",
              "          document.querySelector('#df-536c56f4-1ea8-4230-80b7-093d83da74a8 button.colab-df-convert');\n",
              "        buttonEl.style.display =\n",
              "          google.colab.kernel.accessAllowed ? 'block' : 'none';\n",
              "\n",
              "        async function convertToInteractive(key) {\n",
              "          const element = document.querySelector('#df-536c56f4-1ea8-4230-80b7-093d83da74a8');\n",
              "          const dataTable =\n",
              "            await google.colab.kernel.invokeFunction('convertToInteractive',\n",
              "                                                     [key], {});\n",
              "          if (!dataTable) return;\n",
              "\n",
              "          const docLinkHtml = 'Like what you see? Visit the ' +\n",
              "            '<a target=\"_blank\" href=https://colab.research.google.com/notebooks/data_table.ipynb>data table notebook</a>'\n",
              "            + ' to learn more about interactive tables.';\n",
              "          element.innerHTML = '';\n",
              "          dataTable['output_type'] = 'display_data';\n",
              "          await google.colab.output.renderOutput(dataTable, element);\n",
              "          const docLink = document.createElement('div');\n",
              "          docLink.innerHTML = docLinkHtml;\n",
              "          element.appendChild(docLink);\n",
              "        }\n",
              "      </script>\n",
              "    </div>\n",
              "  </div>\n",
              "  "
            ],
            "text/plain": [
              "      children  days_employed  dob_years          education  education_id  \\\n",
              "5903         0            NaN       58.0  bachelor's degree             0   \n",
              "\n",
              "     family_status  family_status_id gender   income_type  debt  total_income  \\\n",
              "5903       married                 0      M  entrepreneur     0       79866.0   \n",
              "\n",
              "                          purpose age_group  \n",
              "5903  buy residential real estate       50s  "
            ]
          },
          "metadata": {},
          "execution_count": 76
        }
      ],
      "source": [
        "df[df[fill_col].isna()]"
      ]
    },
    {
      "cell_type": "markdown",
      "metadata": {
        "id": "FtzXA3m90v5E"
      },
      "source": [
        "Same client as before - we will fill in the value by looking only at the income type median."
      ]
    },
    {
      "cell_type": "code",
      "execution_count": 77,
      "metadata": {
        "colab": {
          "base_uri": "https://localhost:8080/"
        },
        "id": "dHeLd7Yl0v5E",
        "outputId": "f3aeec8d-7f66-411a-f658-eaa7c05eb8f0"
      },
      "outputs": [
        {
          "output_type": "execute_result",
          "data": {
            "text/plain": [
              "income_type\n",
              "business                         1555.947387\n",
              "civil servant                    2689.137274\n",
              "employee                         1572.328285\n",
              "entrepreneur                      520.848083\n",
              "paternity / maternity leave      3296.759962\n",
              "retiree                        365286.622650\n",
              "student                           578.751554\n",
              "unemployed                     366413.652744\n",
              "Name: days_employed, dtype: float64"
            ]
          },
          "metadata": {},
          "execution_count": 77
        }
      ],
      "source": [
        "df_no_mv.groupby('income_type')['days_employed'].median()"
      ]
    },
    {
      "cell_type": "code",
      "execution_count": 78,
      "metadata": {
        "id": "A8hq80I_0v5E"
      },
      "outputs": [],
      "source": [
        "df['days_employed'] = df['days_employed'].fillna(value=520.85)"
      ]
    },
    {
      "cell_type": "code",
      "execution_count": 79,
      "metadata": {
        "colab": {
          "base_uri": "https://localhost:8080/"
        },
        "id": "BGzTdnzY0v5E",
        "outputId": "c6b3f783-6439-4bf7-d430-0467755d2672"
      },
      "outputs": [
        {
          "output_type": "execute_result",
          "data": {
            "text/plain": [
              "0"
            ]
          },
          "metadata": {},
          "execution_count": 79
        }
      ],
      "source": [
        "df[fill_col].isna().sum()"
      ]
    },
    {
      "cell_type": "code",
      "execution_count": 80,
      "metadata": {
        "colab": {
          "base_uri": "https://localhost:8080/"
        },
        "id": "CfniWvek0v5E",
        "outputId": "949c03ef-a64d-4a2c-ddf9-fbaf9478398c"
      },
      "outputs": [
        {
          "output_type": "execute_result",
          "data": {
            "text/plain": [
              "21331"
            ]
          },
          "metadata": {},
          "execution_count": 80
        }
      ],
      "source": [
        "# Checking the number of entries in the columns\n",
        "df['days_employed'].count()"
      ]
    },
    {
      "cell_type": "code",
      "execution_count": 81,
      "metadata": {
        "colab": {
          "base_uri": "https://localhost:8080/"
        },
        "id": "4v9ECY0n0v5F",
        "outputId": "9bc028bc-6f8d-4339-ef62-94fa91186585"
      },
      "outputs": [
        {
          "output_type": "execute_result",
          "data": {
            "text/plain": [
              "21331"
            ]
          },
          "metadata": {},
          "execution_count": 81
        }
      ],
      "source": [
        "df['age_group'].count()"
      ]
    },
    {
      "cell_type": "markdown",
      "metadata": {
        "id": "PuRDDVjN0v5F"
      },
      "source": [
        "## Categorization of data\n",
        "\n",
        "To answer the questions and test the hypotheses, you will want to work with categorized data. \n",
        "\n",
        "Since education and status have an identifier column, let's try to see if we can categorize the loan purpose column."
      ]
    },
    {
      "cell_type": "code",
      "execution_count": 82,
      "metadata": {
        "scrolled": true,
        "colab": {
          "base_uri": "https://localhost:8080/"
        },
        "id": "ACl1aWWo0v5F",
        "outputId": "a9db0f17-e044-495f-9168-c8d64bccd15a"
      },
      "outputs": [
        {
          "output_type": "execute_result",
          "data": {
            "text/plain": [
              "0          purchase of the house\n",
              "1                   car purchase\n",
              "2          purchase of the house\n",
              "3        supplementary education\n",
              "4              to have a wedding\n",
              "                  ...           \n",
              "21326       housing transactions\n",
              "21327          purchase of a car\n",
              "21328                   property\n",
              "21329          buying my own car\n",
              "21330               to buy a car\n",
              "Name: purpose, Length: 21331, dtype: object"
            ]
          },
          "metadata": {},
          "execution_count": 82
        }
      ],
      "source": [
        "# Print the values for your selected data for categorization\n",
        "df['purpose']"
      ]
    },
    {
      "cell_type": "markdown",
      "metadata": {
        "id": "MXmdmmcn0v5G"
      },
      "source": [
        "Let's check for unique values"
      ]
    },
    {
      "cell_type": "code",
      "execution_count": 83,
      "metadata": {
        "colab": {
          "base_uri": "https://localhost:8080/"
        },
        "id": "Si9AdOrf0v5G",
        "outputId": "17cce801-f0e2-42b0-eec3-010f604a5a13"
      },
      "outputs": [
        {
          "output_type": "execute_result",
          "data": {
            "text/plain": [
              "array(['purchase of the house', 'car purchase', 'supplementary education',\n",
              "       'to have a wedding', 'housing transactions', 'education',\n",
              "       'having a wedding', 'purchase of the house for my family',\n",
              "       'buy real estate', 'buy commercial real estate',\n",
              "       'buy residential real estate', 'construction of own property',\n",
              "       'property', 'building a property', 'buying a second-hand car',\n",
              "       'buying my own car', 'transactions with commercial real estate',\n",
              "       'building a real estate', 'housing',\n",
              "       'transactions with my real estate', 'cars', 'to become educated',\n",
              "       'second-hand car purchase', 'getting an education', 'car',\n",
              "       'wedding ceremony', 'to get a supplementary education',\n",
              "       'purchase of my own house', 'real estate transactions',\n",
              "       'getting higher education', 'to own a car', 'purchase of a car',\n",
              "       'profile education', 'university education',\n",
              "       'buying property for renting out', 'to buy a car',\n",
              "       'housing renovation', 'going to university'], dtype=object)"
            ]
          },
          "metadata": {},
          "execution_count": 83
        }
      ],
      "source": [
        "df['purpose'].unique()"
      ]
    },
    {
      "cell_type": "markdown",
      "metadata": {
        "id": "DpBvttMP0v5G"
      },
      "source": [
        "The main groups which we can identify are:\n",
        "1. House purchase\n",
        "2. Car purchase\n",
        "3. Education\n",
        "4. wedding\n",
        "\n",
        "Based on these themes, we will categorize our data."
      ]
    },
    {
      "cell_type": "code",
      "execution_count": 84,
      "metadata": {
        "id": "LCLkFUq30v5G"
      },
      "outputs": [],
      "source": [
        "# Let's write a function to categorize the data based on common topics\n",
        "def purpose_categor(pur):\n",
        "    if ('education' or 'educated' or 'university') in pur:\n",
        "        return('Education')\n",
        "    elif ('wedding') in pur:\n",
        "        return ('wedding')\n",
        "    elif ('car') in pur:\n",
        "        return ('Car')   \n",
        "    elif 'house' or 'housing' or 'real estate' or 'construction' or 'property' in pur:\n",
        "        return ('Real estate')\n",
        "    elif ('education' or 'educated' or 'university') in pur:\n",
        "        return('Education')"
      ]
    },
    {
      "cell_type": "code",
      "execution_count": 85,
      "metadata": {
        "colab": {
          "base_uri": "https://localhost:8080/"
        },
        "id": "rxKa6-0X0v5G",
        "outputId": "8cc6e9ca-eb6f-4bb3-e048-5fb3d8c5685c"
      },
      "outputs": [
        {
          "output_type": "execute_result",
          "data": {
            "text/plain": [
              "Real estate    11655\n",
              "Car             4279\n",
              "Education       3084\n",
              "wedding         2313\n",
              "Name: purpose_categroy, dtype: int64"
            ]
          },
          "metadata": {},
          "execution_count": 85
        }
      ],
      "source": [
        "# Create a column with the categories and count the values for them\n",
        "df['purpose_categroy'] = df['purpose'].apply(purpose_categor)\n",
        "df['purpose_categroy'].value_counts()"
      ]
    },
    {
      "cell_type": "markdown",
      "metadata": {
        "id": "WYANDXwH0v5H"
      },
      "source": [
        "Now, I would like to categorize the total_income by ranges."
      ]
    },
    {
      "cell_type": "code",
      "execution_count": 86,
      "metadata": {
        "colab": {
          "base_uri": "https://localhost:8080/"
        },
        "id": "dXYIfNm30v5H",
        "outputId": "c25fa384-a10c-4f23-eb14-90f23cfa004f"
      },
      "outputs": [
        {
          "output_type": "execute_result",
          "data": {
            "text/plain": [
              "0        40620.102\n",
              "1        17932.802\n",
              "2        23341.752\n",
              "3        42820.568\n",
              "4        25378.572\n",
              "           ...    \n",
              "21326    35966.698\n",
              "21327    24959.969\n",
              "21328    14347.610\n",
              "21329    39054.888\n",
              "21330    13127.587\n",
              "Name: total_income, Length: 21331, dtype: float64"
            ]
          },
          "metadata": {},
          "execution_count": 86
        }
      ],
      "source": [
        "# Looking through all the numerical data in your selected column for categorization\n",
        "df['total_income']"
      ]
    },
    {
      "cell_type": "code",
      "execution_count": 87,
      "metadata": {
        "colab": {
          "base_uri": "https://localhost:8080/"
        },
        "id": "Yc0JehoU0v5H",
        "outputId": "18658f0d-0827-4247-bdc2-b3c4c70faa5f"
      },
      "outputs": [
        {
          "output_type": "execute_result",
          "data": {
            "text/plain": [
              "count     21331.000000\n",
              "mean      26465.050003\n",
              "std       15732.435115\n",
              "min        3306.762000\n",
              "25%       17199.350500\n",
              "50%       23158.689000\n",
              "75%       31334.809500\n",
              "max      362496.645000\n",
              "Name: total_income, dtype: float64"
            ]
          },
          "metadata": {},
          "execution_count": 87
        }
      ],
      "source": [
        "# Getting summary statistics for the column\n",
        "df['total_income'].describe()"
      ]
    },
    {
      "cell_type": "markdown",
      "metadata": {
        "id": "z0QRrWo90v5H"
      },
      "source": [
        "# Total Income range\n",
        "    <25th percentile >minimum - Q1\n",
        "    <50th percentile (median) >25th percentile - Q2\n",
        "    <75th percentile (median) >50 percentile - Q3\n",
        "    >75th percentile <maximum - Q4"
      ]
    },
    {
      "cell_type": "code",
      "execution_count": 88,
      "metadata": {
        "id": "fXDcfa7b0v5H"
      },
      "outputs": [],
      "source": [
        "# Creating function for categorizing into different numerical groups based on ranges\n",
        "# Let's write a function that calculates the age category\n",
        "percentile_25 = df['total_income'].describe()['25%']\n",
        "percentile_50 = df['total_income'].describe()['50%']\n",
        "percentile_75 = df['total_income'].describe()['75%']\n",
        "minimum = df['total_income'].describe()['min']\n",
        "maximum = df['total_income'].describe()['max']\n",
        "\n",
        "def total_income_category(income):\n",
        "        if income < percentile_25:\n",
        "            return ('Q1')\n",
        "        elif percentile_25 <= income < percentile_50:\n",
        "            return ('Q2')\n",
        "        elif percentile_50 <= income < percentile_75:\n",
        "            return ('Q3')\n",
        "        elif income >= percentile_75:\n",
        "            return ('Q4')"
      ]
    },
    {
      "cell_type": "code",
      "execution_count": 128,
      "metadata": {
        "id": "M3wR8w2h0v5I"
      },
      "outputs": [],
      "source": [
        "# Creating column with categories\n",
        "df['income_group'] = df['total_income'].apply(total_income_category)"
      ]
    },
    {
      "cell_type": "code",
      "execution_count": 129,
      "metadata": {
        "scrolled": true,
        "colab": {
          "base_uri": "https://localhost:8080/"
        },
        "id": "CRkyqFZH0v5J",
        "outputId": "04a67c34-f4e6-4b56-d1a8-715ff861a62e"
      },
      "outputs": [
        {
          "output_type": "execute_result",
          "data": {
            "text/plain": [
              "Q3    5334\n",
              "Q4    5333\n",
              "Q1    5333\n",
              "Q2    5331\n",
              "Name: income_group, dtype: int64"
            ]
          },
          "metadata": {},
          "execution_count": 129
        }
      ],
      "source": [
        "# Count each categories values to see the distribution\n",
        "df['income_group'].value_counts()"
      ]
    },
    {
      "cell_type": "markdown",
      "metadata": {
        "id": "G41d5RA20v5J"
      },
      "source": [
        "Uniform distrubtion: Since these are quantiles, we have the same number (roughly) for each of the income groups (quartiles)."
      ]
    },
    {
      "cell_type": "code",
      "execution_count": 91,
      "metadata": {
        "colab": {
          "base_uri": "https://localhost:8080/",
          "height": 423
        },
        "id": "HzuxyUHz0v5J",
        "outputId": "f5158296-0ed3-4233-e834-872be6dc8503"
      },
      "outputs": [
        {
          "output_type": "execute_result",
          "data": {
            "text/html": [
              "\n",
              "  <div id=\"df-8edccbc0-88c1-45d3-aaee-e7bec1d0d4c4\">\n",
              "    <div class=\"colab-df-container\">\n",
              "      <div>\n",
              "<style scoped>\n",
              "    .dataframe tbody tr th:only-of-type {\n",
              "        vertical-align: middle;\n",
              "    }\n",
              "\n",
              "    .dataframe tbody tr th {\n",
              "        vertical-align: top;\n",
              "    }\n",
              "\n",
              "    .dataframe thead th {\n",
              "        text-align: right;\n",
              "    }\n",
              "</style>\n",
              "<table border=\"1\" class=\"dataframe\">\n",
              "  <thead>\n",
              "    <tr style=\"text-align: right;\">\n",
              "      <th></th>\n",
              "      <th>total_income</th>\n",
              "      <th>income_group</th>\n",
              "    </tr>\n",
              "  </thead>\n",
              "  <tbody>\n",
              "    <tr>\n",
              "      <th>0</th>\n",
              "      <td>40620.102</td>\n",
              "      <td>Q4</td>\n",
              "    </tr>\n",
              "    <tr>\n",
              "      <th>1</th>\n",
              "      <td>17932.802</td>\n",
              "      <td>Q2</td>\n",
              "    </tr>\n",
              "    <tr>\n",
              "      <th>2</th>\n",
              "      <td>23341.752</td>\n",
              "      <td>Q3</td>\n",
              "    </tr>\n",
              "    <tr>\n",
              "      <th>3</th>\n",
              "      <td>42820.568</td>\n",
              "      <td>Q4</td>\n",
              "    </tr>\n",
              "    <tr>\n",
              "      <th>4</th>\n",
              "      <td>25378.572</td>\n",
              "      <td>Q3</td>\n",
              "    </tr>\n",
              "    <tr>\n",
              "      <th>...</th>\n",
              "      <td>...</td>\n",
              "      <td>...</td>\n",
              "    </tr>\n",
              "    <tr>\n",
              "      <th>21326</th>\n",
              "      <td>35966.698</td>\n",
              "      <td>Q4</td>\n",
              "    </tr>\n",
              "    <tr>\n",
              "      <th>21327</th>\n",
              "      <td>24959.969</td>\n",
              "      <td>Q3</td>\n",
              "    </tr>\n",
              "    <tr>\n",
              "      <th>21328</th>\n",
              "      <td>14347.610</td>\n",
              "      <td>Q1</td>\n",
              "    </tr>\n",
              "    <tr>\n",
              "      <th>21329</th>\n",
              "      <td>39054.888</td>\n",
              "      <td>Q4</td>\n",
              "    </tr>\n",
              "    <tr>\n",
              "      <th>21330</th>\n",
              "      <td>13127.587</td>\n",
              "      <td>Q1</td>\n",
              "    </tr>\n",
              "  </tbody>\n",
              "</table>\n",
              "<p>21331 rows × 2 columns</p>\n",
              "</div>\n",
              "      <button class=\"colab-df-convert\" onclick=\"convertToInteractive('df-8edccbc0-88c1-45d3-aaee-e7bec1d0d4c4')\"\n",
              "              title=\"Convert this dataframe to an interactive table.\"\n",
              "              style=\"display:none;\">\n",
              "        \n",
              "  <svg xmlns=\"http://www.w3.org/2000/svg\" height=\"24px\"viewBox=\"0 0 24 24\"\n",
              "       width=\"24px\">\n",
              "    <path d=\"M0 0h24v24H0V0z\" fill=\"none\"/>\n",
              "    <path d=\"M18.56 5.44l.94 2.06.94-2.06 2.06-.94-2.06-.94-.94-2.06-.94 2.06-2.06.94zm-11 1L8.5 8.5l.94-2.06 2.06-.94-2.06-.94L8.5 2.5l-.94 2.06-2.06.94zm10 10l.94 2.06.94-2.06 2.06-.94-2.06-.94-.94-2.06-.94 2.06-2.06.94z\"/><path d=\"M17.41 7.96l-1.37-1.37c-.4-.4-.92-.59-1.43-.59-.52 0-1.04.2-1.43.59L10.3 9.45l-7.72 7.72c-.78.78-.78 2.05 0 2.83L4 21.41c.39.39.9.59 1.41.59.51 0 1.02-.2 1.41-.59l7.78-7.78 2.81-2.81c.8-.78.8-2.07 0-2.86zM5.41 20L4 18.59l7.72-7.72 1.47 1.35L5.41 20z\"/>\n",
              "  </svg>\n",
              "      </button>\n",
              "      \n",
              "  <style>\n",
              "    .colab-df-container {\n",
              "      display:flex;\n",
              "      flex-wrap:wrap;\n",
              "      gap: 12px;\n",
              "    }\n",
              "\n",
              "    .colab-df-convert {\n",
              "      background-color: #E8F0FE;\n",
              "      border: none;\n",
              "      border-radius: 50%;\n",
              "      cursor: pointer;\n",
              "      display: none;\n",
              "      fill: #1967D2;\n",
              "      height: 32px;\n",
              "      padding: 0 0 0 0;\n",
              "      width: 32px;\n",
              "    }\n",
              "\n",
              "    .colab-df-convert:hover {\n",
              "      background-color: #E2EBFA;\n",
              "      box-shadow: 0px 1px 2px rgba(60, 64, 67, 0.3), 0px 1px 3px 1px rgba(60, 64, 67, 0.15);\n",
              "      fill: #174EA6;\n",
              "    }\n",
              "\n",
              "    [theme=dark] .colab-df-convert {\n",
              "      background-color: #3B4455;\n",
              "      fill: #D2E3FC;\n",
              "    }\n",
              "\n",
              "    [theme=dark] .colab-df-convert:hover {\n",
              "      background-color: #434B5C;\n",
              "      box-shadow: 0px 1px 3px 1px rgba(0, 0, 0, 0.15);\n",
              "      filter: drop-shadow(0px 1px 2px rgba(0, 0, 0, 0.3));\n",
              "      fill: #FFFFFF;\n",
              "    }\n",
              "  </style>\n",
              "\n",
              "      <script>\n",
              "        const buttonEl =\n",
              "          document.querySelector('#df-8edccbc0-88c1-45d3-aaee-e7bec1d0d4c4 button.colab-df-convert');\n",
              "        buttonEl.style.display =\n",
              "          google.colab.kernel.accessAllowed ? 'block' : 'none';\n",
              "\n",
              "        async function convertToInteractive(key) {\n",
              "          const element = document.querySelector('#df-8edccbc0-88c1-45d3-aaee-e7bec1d0d4c4');\n",
              "          const dataTable =\n",
              "            await google.colab.kernel.invokeFunction('convertToInteractive',\n",
              "                                                     [key], {});\n",
              "          if (!dataTable) return;\n",
              "\n",
              "          const docLinkHtml = 'Like what you see? Visit the ' +\n",
              "            '<a target=\"_blank\" href=https://colab.research.google.com/notebooks/data_table.ipynb>data table notebook</a>'\n",
              "            + ' to learn more about interactive tables.';\n",
              "          element.innerHTML = '';\n",
              "          dataTable['output_type'] = 'display_data';\n",
              "          await google.colab.output.renderOutput(dataTable, element);\n",
              "          const docLink = document.createElement('div');\n",
              "          docLink.innerHTML = docLinkHtml;\n",
              "          element.appendChild(docLink);\n",
              "        }\n",
              "      </script>\n",
              "    </div>\n",
              "  </div>\n",
              "  "
            ],
            "text/plain": [
              "       total_income income_group\n",
              "0         40620.102           Q4\n",
              "1         17932.802           Q2\n",
              "2         23341.752           Q3\n",
              "3         42820.568           Q4\n",
              "4         25378.572           Q3\n",
              "...             ...          ...\n",
              "21326     35966.698           Q4\n",
              "21327     24959.969           Q3\n",
              "21328     14347.610           Q1\n",
              "21329     39054.888           Q4\n",
              "21330     13127.587           Q1\n",
              "\n",
              "[21331 rows x 2 columns]"
            ]
          },
          "metadata": {},
          "execution_count": 91
        }
      ],
      "source": [
        "#checking \n",
        "df[['total_income','income_group']]"
      ]
    },
    {
      "cell_type": "markdown",
      "metadata": {
        "id": "Do8VOQh60v5J"
      },
      "source": [
        "#  6 Hypothesis"
      ]
    },
    {
      "cell_type": "markdown",
      "metadata": {
        "id": "ft8KqCG90v5K"
      },
      "source": [
        "**Is there a correlation between having children and paying back on time?**"
      ]
    },
    {
      "cell_type": "code",
      "execution_count": 92,
      "metadata": {
        "colab": {
          "base_uri": "https://localhost:8080/"
        },
        "id": "GscMbPun0v5K",
        "outputId": "aafd731f-4c60-4f6e-c6f2-65c1ffa2c469"
      },
      "outputs": [
        {
          "output_type": "execute_result",
          "data": {
            "text/plain": [
              "children\n",
              "0    7.543822\n",
              "1    9.234609\n",
              "2    9.454191\n",
              "3    8.181818\n",
              "4    9.756098\n",
              "5    0.000000\n",
              "Name: debt, dtype: float64"
            ]
          },
          "metadata": {},
          "execution_count": 92
        }
      ],
      "source": [
        "# Check the children data and paying back on time\n",
        "df[['children','debt']]\n",
        "\n",
        "# Calculating default-rate based on the number of children\n",
        "df.groupby('children')['debt'].mean()*100"
      ]
    },
    {
      "cell_type": "markdown",
      "metadata": {
        "id": "4fanhb_k0v5K"
      },
      "source": [
        "**Conclusion**\n",
        "\n",
        "Customers who have children tend to have a slighly higher debt rate than customers without children. Since the difference is small and we are not doing a statistical test, I would conclude that there is no distinct correaltion between children and paying back on time."
      ]
    },
    {
      "cell_type": "markdown",
      "metadata": {
        "id": "CEMOWWg10v5K"
      },
      "source": [
        "**Is there a correlation between family status and paying back on time?**"
      ]
    },
    {
      "cell_type": "code",
      "execution_count": 93,
      "metadata": {
        "colab": {
          "base_uri": "https://localhost:8080/"
        },
        "id": "ER103yGl0v5K",
        "outputId": "bfd860a2-39ba-4546-a905-0f144e28fb5f"
      },
      "outputs": [
        {
          "output_type": "execute_result",
          "data": {
            "text/plain": [
              "family_status\n",
              "civil partnership    9.313014\n",
              "divorced             7.064760\n",
              "married              7.560558\n",
              "unmarried            9.763948\n",
              "widow / widower      6.624606\n",
              "Name: debt, dtype: float64"
            ]
          },
          "metadata": {},
          "execution_count": 93
        }
      ],
      "source": [
        "# Check the family status data and paying back on time\n",
        "df[['family_status','debt']]\n",
        "\n",
        "# Calculating default-rate based on family status\n",
        "df.groupby('family_status')['debt'].mean()*100"
      ]
    },
    {
      "cell_type": "markdown",
      "metadata": {
        "id": "_yKft05X0v5K"
      },
      "source": [
        "**Conclusion**\n",
        "\n",
        "Customers who are in a civil partenership/unmarried tend to have a higher debt rate than customers who are divorced/married/widow(er). I would conclude that there is correaltion between family status and paying back on time (further statistical test is needed)."
      ]
    },
    {
      "cell_type": "markdown",
      "metadata": {
        "id": "yRAMywwe0v5L"
      },
      "source": [
        "**Is there a correlation between income level and paying back on time?**"
      ]
    },
    {
      "cell_type": "code",
      "execution_count": 94,
      "metadata": {
        "colab": {
          "base_uri": "https://localhost:8080/"
        },
        "id": "cyxwgfqu0v5L",
        "outputId": "d6935573-7a93-4d40-a310-1a0fc79cf108"
      },
      "outputs": [
        {
          "output_type": "execute_result",
          "data": {
            "text/plain": [
              "income_group\n",
              "Q1    8.006750\n",
              "Q2    8.666292\n",
              "Q3    8.661417\n",
              "Q4    7.144197\n",
              "Name: debt, dtype: float64"
            ]
          },
          "metadata": {},
          "execution_count": 94
        }
      ],
      "source": [
        "# Check the income level data and paying back on time\n",
        "df[['income_group','debt']]\n",
        "\n",
        "# Calculating default-rate based on income level\n",
        "df.groupby('income_group')['debt'].mean()*100"
      ]
    },
    {
      "cell_type": "markdown",
      "metadata": {
        "id": "wNJGweeW0v5L"
      },
      "source": [
        "**Conclusion**\n",
        "\n",
        "Customers whose income is in Q4 tend to have lower debt rate than customers in Q1-Q2-Q3. Since the difference is small and we are not doing a statistical test, I would conclude that there is no distinct correaltion between income level and paying back on time."
      ]
    },
    {
      "cell_type": "markdown",
      "metadata": {
        "id": "te509BxY0v5L"
      },
      "source": [
        "**How does credit purpose affect the default rate?**"
      ]
    },
    {
      "cell_type": "code",
      "execution_count": 95,
      "metadata": {
        "colab": {
          "base_uri": "https://localhost:8080/"
        },
        "id": "9lHlc3aL0v5M",
        "outputId": "e405c26a-ec84-4a20-c2ce-172f4f634bdb"
      },
      "outputs": [
        {
          "output_type": "execute_result",
          "data": {
            "text/plain": [
              "purpose_categroy\n",
              "Car            9.347978\n",
              "Education      9.306096\n",
              "Real estate    7.395967\n",
              "wedding        7.911803\n",
              "Name: debt, dtype: float64"
            ]
          },
          "metadata": {},
          "execution_count": 95
        }
      ],
      "source": [
        "# Check the percentages for default rate for each credit purpose and analyze them\n",
        "df.groupby('purpose_categroy')['debt'].mean()*100"
      ]
    },
    {
      "cell_type": "markdown",
      "metadata": {
        "id": "l7ONE_rO0v5M"
      },
      "source": [
        "**Conclusion**\n",
        "\n",
        "Customers whose purpose for taking a loan are car and education tend to have a higher debt rate than customers whose loan purposea are real estate and wedding . I would conclude that there is a correaltion between loan purpose and paying back on time (further statistical test is needed)."
      ]
    },
    {
      "cell_type": "markdown",
      "metadata": {
        "id": "MMEl-1wk0v5M"
      },
      "source": [
        "# General Conclusion \n",
        "\n",
        "1. Data exploration\n",
        "    * No correlation found between missing values and other factors\n",
        "2. Data transformation:\n",
        "    * Typos fixed in education entries\n",
        "    * Dropped rows with unfeasible number of children\n",
        "    * Corrected days employed technical issue\n",
        "    * filled in average age for age = 0 \n",
        "    * Dropped duplicate values\n",
        "3. Missing values:\n",
        "    * income & days employed\n",
        "        - Categorized age groups to decades\n",
        "        - Found connections between variable of interests to client's age and income type\n",
        "        - Filled missing values with average of income/days for age and income category\n",
        "4. Data Catergoriztion:\n",
        "    * Grouped purpose entries\n",
        "    * Split income per quartiles\n",
        "5. Hypothesis:\n",
        "    * Is there a connection between having kids and repaying a loan on time?\n",
        "    * Is there a connection between marital status and repaying a loan on time?\n",
        "    * Is there a connection between income level and repaying a loan on time?\n",
        "    * How do different loan purposes affect on-time loan repayment?\n",
        "        - the differences were insignificant and therefore no is no evidence to conclude that there is a correlation between various factors and loan payment."
      ]
    }
  ],
  "metadata": {
    "ExecuteTimeLog": [
      {
        "duration": 2741,
        "start_time": "2021-10-21T01:08:49.480Z"
      },
      {
        "duration": 52,
        "start_time": "2021-10-21T01:08:53.315Z"
      },
      {
        "duration": 49,
        "start_time": "2021-10-21T01:08:57.432Z"
      },
      {
        "duration": 70,
        "start_time": "2021-10-21T01:09:07.706Z"
      },
      {
        "duration": 370,
        "start_time": "2022-02-28T15:56:56.643Z"
      },
      {
        "duration": 842,
        "start_time": "2022-02-28T15:57:08.466Z"
      },
      {
        "duration": 12,
        "start_time": "2022-02-28T15:57:11.175Z"
      },
      {
        "duration": 12,
        "start_time": "2022-02-28T15:57:15.635Z"
      },
      {
        "duration": 24,
        "start_time": "2022-02-28T15:58:29.052Z"
      },
      {
        "duration": 18,
        "start_time": "2022-02-28T15:58:48.469Z"
      },
      {
        "duration": 21,
        "start_time": "2022-02-28T15:59:01.634Z"
      },
      {
        "duration": 13,
        "start_time": "2022-02-28T15:59:06.140Z"
      },
      {
        "duration": 319,
        "start_time": "2022-02-28T16:20:41.417Z"
      },
      {
        "duration": 274,
        "start_time": "2022-02-28T16:21:50.661Z"
      },
      {
        "duration": 4,
        "start_time": "2022-02-28T16:22:17.937Z"
      },
      {
        "duration": 299,
        "start_time": "2022-02-28T16:22:24.481Z"
      },
      {
        "duration": 372,
        "start_time": "2022-02-28T16:24:03.007Z"
      },
      {
        "duration": 375,
        "start_time": "2022-02-28T16:24:11.933Z"
      },
      {
        "duration": 246,
        "start_time": "2022-02-28T16:24:19.354Z"
      },
      {
        "duration": 254,
        "start_time": "2022-02-28T16:24:22.806Z"
      },
      {
        "duration": 3,
        "start_time": "2022-02-28T16:24:55.571Z"
      },
      {
        "duration": 261,
        "start_time": "2022-02-28T16:25:05.099Z"
      },
      {
        "duration": 12,
        "start_time": "2022-02-28T16:25:13.616Z"
      },
      {
        "duration": 265,
        "start_time": "2022-02-28T16:25:36.984Z"
      },
      {
        "duration": 262,
        "start_time": "2022-02-28T16:25:41.432Z"
      },
      {
        "duration": 266,
        "start_time": "2022-02-28T16:25:49.337Z"
      },
      {
        "duration": 272,
        "start_time": "2022-02-28T16:25:59.818Z"
      },
      {
        "duration": 325,
        "start_time": "2022-02-28T16:26:20.415Z"
      },
      {
        "duration": 12,
        "start_time": "2022-02-28T16:26:27.637Z"
      },
      {
        "duration": 366,
        "start_time": "2022-03-01T07:06:10.251Z"
      },
      {
        "duration": 769,
        "start_time": "2022-03-01T07:06:18.424Z"
      },
      {
        "duration": 21,
        "start_time": "2022-03-01T07:06:24.563Z"
      },
      {
        "duration": 29,
        "start_time": "2022-03-01T07:06:39.423Z"
      },
      {
        "duration": 19,
        "start_time": "2022-03-01T07:07:14.262Z"
      },
      {
        "duration": 311,
        "start_time": "2022-03-01T07:23:07.299Z"
      },
      {
        "duration": 89,
        "start_time": "2022-03-01T07:23:36.269Z"
      },
      {
        "duration": 86,
        "start_time": "2022-03-01T07:23:43.343Z"
      },
      {
        "duration": 290,
        "start_time": "2022-03-01T07:23:47.227Z"
      },
      {
        "duration": 19,
        "start_time": "2022-03-01T07:24:43.896Z"
      },
      {
        "duration": 9,
        "start_time": "2022-03-01T07:25:38.969Z"
      },
      {
        "duration": 9,
        "start_time": "2022-03-01T07:25:43.043Z"
      },
      {
        "duration": 20,
        "start_time": "2022-03-01T07:25:49.603Z"
      },
      {
        "duration": 18,
        "start_time": "2022-03-01T07:26:12.730Z"
      },
      {
        "duration": 8,
        "start_time": "2022-03-01T07:26:19.097Z"
      },
      {
        "duration": 18,
        "start_time": "2022-03-01T07:26:28.247Z"
      },
      {
        "duration": 95,
        "start_time": "2022-03-01T08:41:48.398Z"
      },
      {
        "duration": 289,
        "start_time": "2022-03-01T08:42:10.771Z"
      },
      {
        "duration": 395,
        "start_time": "2022-03-01T08:42:26.962Z"
      },
      {
        "duration": 110,
        "start_time": "2022-03-01T08:43:01.910Z"
      },
      {
        "duration": 293,
        "start_time": "2022-03-01T08:43:13.311Z"
      },
      {
        "duration": 295,
        "start_time": "2022-03-01T08:43:42.852Z"
      },
      {
        "duration": 99,
        "start_time": "2022-03-01T08:44:03.524Z"
      },
      {
        "duration": 169,
        "start_time": "2022-03-01T08:44:13.150Z"
      },
      {
        "duration": 91,
        "start_time": "2022-03-01T09:06:26.678Z"
      },
      {
        "duration": 288,
        "start_time": "2022-03-01T09:06:47.453Z"
      },
      {
        "duration": 93,
        "start_time": "2022-03-01T09:07:02.138Z"
      },
      {
        "duration": 120,
        "start_time": "2022-03-01T09:07:35.118Z"
      },
      {
        "duration": 8,
        "start_time": "2022-03-01T09:07:41.263Z"
      },
      {
        "duration": 8,
        "start_time": "2022-03-01T09:07:47.147Z"
      },
      {
        "duration": 814,
        "start_time": "2022-03-01T09:07:54.777Z"
      },
      {
        "duration": 103,
        "start_time": "2022-03-01T09:08:10.440Z"
      },
      {
        "duration": 7,
        "start_time": "2022-03-01T09:08:27.921Z"
      },
      {
        "duration": 19,
        "start_time": "2022-03-01T09:08:35.237Z"
      },
      {
        "duration": 7,
        "start_time": "2022-03-01T09:09:37.213Z"
      },
      {
        "duration": 314,
        "start_time": "2022-03-01T09:10:31.042Z"
      },
      {
        "duration": 7,
        "start_time": "2022-03-01T09:10:46.239Z"
      },
      {
        "duration": 1297,
        "start_time": "2022-03-01T09:12:01.533Z"
      },
      {
        "duration": 2,
        "start_time": "2022-03-01T09:12:03.009Z"
      },
      {
        "duration": 1148,
        "start_time": "2022-03-01T09:12:11.541Z"
      },
      {
        "duration": 11,
        "start_time": "2022-03-01T09:15:25.031Z"
      },
      {
        "duration": 6,
        "start_time": "2022-03-01T09:15:37.247Z"
      },
      {
        "duration": 243,
        "start_time": "2022-03-01T09:15:49.677Z"
      },
      {
        "duration": 216,
        "start_time": "2022-03-01T09:15:57.290Z"
      },
      {
        "duration": 8,
        "start_time": "2022-03-01T09:16:02.970Z"
      },
      {
        "duration": 293,
        "start_time": "2022-03-01T09:17:38.495Z"
      },
      {
        "duration": 838,
        "start_time": "2022-03-01T09:17:47.403Z"
      },
      {
        "duration": 1122,
        "start_time": "2022-03-01T09:17:56.883Z"
      },
      {
        "duration": 325,
        "start_time": "2022-03-01T09:18:11.514Z"
      },
      {
        "duration": 287,
        "start_time": "2022-03-01T09:18:24.257Z"
      },
      {
        "duration": 289,
        "start_time": "2022-03-01T09:18:30.249Z"
      },
      {
        "duration": 289,
        "start_time": "2022-03-01T09:18:44.214Z"
      },
      {
        "duration": 299,
        "start_time": "2022-03-01T09:19:04.877Z"
      },
      {
        "duration": 5,
        "start_time": "2022-03-01T09:19:09.448Z"
      },
      {
        "duration": 3,
        "start_time": "2022-03-01T09:20:30.442Z"
      },
      {
        "duration": 5,
        "start_time": "2022-03-01T09:20:44.830Z"
      },
      {
        "duration": -547,
        "start_time": "2022-03-01T09:21:34.846Z"
      },
      {
        "duration": -550,
        "start_time": "2022-03-01T09:21:34.850Z"
      },
      {
        "duration": 106,
        "start_time": "2022-03-01T09:21:41.182Z"
      },
      {
        "duration": 3798,
        "start_time": "2022-03-01T09:21:45.307Z"
      },
      {
        "duration": 5,
        "start_time": "2022-03-01T09:22:14.717Z"
      },
      {
        "duration": 779,
        "start_time": "2022-03-01T09:22:30.363Z"
      },
      {
        "duration": 306,
        "start_time": "2022-03-01T09:22:39.175Z"
      },
      {
        "duration": 3593,
        "start_time": "2022-03-01T09:38:25.988Z"
      },
      {
        "duration": 234,
        "start_time": "2022-03-01T09:38:40.176Z"
      },
      {
        "duration": 3858,
        "start_time": "2022-03-01T09:38:50.202Z"
      },
      {
        "duration": 6,
        "start_time": "2022-03-01T09:41:11.049Z"
      },
      {
        "duration": 7,
        "start_time": "2022-03-01T09:41:40.466Z"
      },
      {
        "duration": 275,
        "start_time": "2022-03-01T09:41:48.267Z"
      },
      {
        "duration": 7,
        "start_time": "2022-03-01T09:41:55.101Z"
      },
      {
        "duration": 304,
        "start_time": "2022-03-01T09:42:01.623Z"
      },
      {
        "duration": 296,
        "start_time": "2022-03-01T09:42:06.885Z"
      },
      {
        "duration": 6,
        "start_time": "2022-03-01T09:42:12.696Z"
      },
      {
        "duration": 278,
        "start_time": "2022-03-01T09:42:36.446Z"
      },
      {
        "duration": 7,
        "start_time": "2022-03-01T09:43:49.261Z"
      },
      {
        "duration": 301,
        "start_time": "2022-03-01T09:44:17.750Z"
      },
      {
        "duration": 310,
        "start_time": "2022-03-01T09:44:42.645Z"
      },
      {
        "duration": 287,
        "start_time": "2022-03-01T09:44:46.854Z"
      },
      {
        "duration": 7,
        "start_time": "2022-03-01T09:44:56.059Z"
      },
      {
        "duration": 318,
        "start_time": "2022-03-01T09:46:02.440Z"
      },
      {
        "duration": 289,
        "start_time": "2022-03-01T09:46:41.655Z"
      },
      {
        "duration": 302,
        "start_time": "2022-03-01T09:46:55.643Z"
      },
      {
        "duration": 6,
        "start_time": "2022-03-01T09:47:10.097Z"
      },
      {
        "duration": 5,
        "start_time": "2022-03-01T09:47:52.481Z"
      },
      {
        "duration": 5,
        "start_time": "2022-03-01T09:48:04.456Z"
      },
      {
        "duration": 5,
        "start_time": "2022-03-01T09:48:10.436Z"
      },
      {
        "duration": 103,
        "start_time": "2022-03-01T09:48:56.896Z"
      },
      {
        "duration": 122,
        "start_time": "2022-03-01T09:49:14.547Z"
      },
      {
        "duration": 88,
        "start_time": "2022-03-01T09:49:28.427Z"
      },
      {
        "duration": 111,
        "start_time": "2022-03-01T09:49:31.280Z"
      },
      {
        "duration": 360,
        "start_time": "2022-03-01T09:49:41.591Z"
      },
      {
        "duration": 141,
        "start_time": "2022-03-01T09:50:05.553Z"
      },
      {
        "duration": 7,
        "start_time": "2022-03-01T09:50:09.879Z"
      },
      {
        "duration": 280,
        "start_time": "2022-03-01T09:50:17.138Z"
      },
      {
        "duration": 129,
        "start_time": "2022-03-01T09:52:45.725Z"
      },
      {
        "duration": 293,
        "start_time": "2022-03-01T09:52:54.341Z"
      },
      {
        "duration": 18,
        "start_time": "2022-03-01T09:53:17.480Z"
      },
      {
        "duration": 2,
        "start_time": "2022-03-01T09:55:01.358Z"
      },
      {
        "duration": 2,
        "start_time": "2022-03-01T09:55:09.633Z"
      },
      {
        "duration": 4,
        "start_time": "2022-03-01T09:55:17.764Z"
      },
      {
        "duration": 283,
        "start_time": "2022-03-01T09:55:27.296Z"
      },
      {
        "duration": 10,
        "start_time": "2022-03-01T09:55:35.551Z"
      },
      {
        "duration": 285,
        "start_time": "2022-03-01T09:56:46.493Z"
      },
      {
        "duration": 380,
        "start_time": "2022-03-01T09:56:51.240Z"
      },
      {
        "duration": 7,
        "start_time": "2022-03-01T09:57:24.037Z"
      },
      {
        "duration": 6,
        "start_time": "2022-03-01T09:57:34.002Z"
      },
      {
        "duration": 12,
        "start_time": "2022-03-01T09:59:46.263Z"
      },
      {
        "duration": 8,
        "start_time": "2022-03-01T10:04:49.209Z"
      },
      {
        "duration": 12,
        "start_time": "2022-03-01T10:04:58.619Z"
      },
      {
        "duration": 277,
        "start_time": "2022-03-01T10:06:52.956Z"
      },
      {
        "duration": 15,
        "start_time": "2022-03-01T10:07:02.024Z"
      },
      {
        "duration": 343,
        "start_time": "2022-03-01T10:07:34.744Z"
      },
      {
        "duration": 7,
        "start_time": "2022-03-01T10:07:59.784Z"
      },
      {
        "duration": 293,
        "start_time": "2022-03-01T10:19:45.292Z"
      },
      {
        "duration": 277,
        "start_time": "2022-03-01T10:19:53.821Z"
      },
      {
        "duration": 1674,
        "start_time": "2022-03-01T10:20:04.105Z"
      },
      {
        "duration": 20,
        "start_time": "2022-03-01T10:20:09.704Z"
      },
      {
        "duration": 8,
        "start_time": "2022-03-01T10:20:32.755Z"
      },
      {
        "duration": 4,
        "start_time": "2022-03-01T10:20:50.476Z"
      },
      {
        "duration": 18,
        "start_time": "2022-03-01T10:21:00.007Z"
      },
      {
        "duration": 19,
        "start_time": "2022-03-01T10:21:47.368Z"
      },
      {
        "duration": 346,
        "start_time": "2022-03-01T10:23:51.230Z"
      },
      {
        "duration": 317,
        "start_time": "2022-03-01T10:24:03.277Z"
      },
      {
        "duration": 7,
        "start_time": "2022-03-01T10:25:38.554Z"
      },
      {
        "duration": 89,
        "start_time": "2022-03-01T10:44:36.270Z"
      },
      {
        "duration": 18,
        "start_time": "2022-03-01T10:44:42.757Z"
      },
      {
        "duration": 7,
        "start_time": "2022-03-01T10:45:31.393Z"
      },
      {
        "duration": 189,
        "start_time": "2022-03-01T12:01:13.029Z"
      },
      {
        "duration": 7,
        "start_time": "2022-03-01T12:01:18.806Z"
      },
      {
        "duration": 283,
        "start_time": "2022-03-01T12:01:34.574Z"
      },
      {
        "duration": 8,
        "start_time": "2022-03-01T12:01:44.376Z"
      },
      {
        "duration": 6,
        "start_time": "2022-03-01T13:04:02.959Z"
      },
      {
        "duration": 273,
        "start_time": "2022-03-01T13:04:39.235Z"
      },
      {
        "duration": 7,
        "start_time": "2022-03-01T13:05:01.100Z"
      },
      {
        "duration": 7,
        "start_time": "2022-03-01T13:05:55.199Z"
      },
      {
        "duration": 7,
        "start_time": "2022-03-01T13:09:05.912Z"
      },
      {
        "duration": 6,
        "start_time": "2022-03-01T13:09:13.559Z"
      },
      {
        "duration": 283,
        "start_time": "2022-03-01T13:09:18.958Z"
      },
      {
        "duration": 7,
        "start_time": "2022-03-01T13:09:33.826Z"
      },
      {
        "duration": 8,
        "start_time": "2022-03-01T13:09:49.869Z"
      },
      {
        "duration": 6,
        "start_time": "2022-03-01T13:10:23.537Z"
      },
      {
        "duration": 2,
        "start_time": "2022-03-01T13:10:36.445Z"
      },
      {
        "duration": 5,
        "start_time": "2022-03-01T13:12:12.408Z"
      },
      {
        "duration": 6,
        "start_time": "2022-03-01T13:12:20.654Z"
      },
      {
        "duration": 109,
        "start_time": "2022-03-01T13:12:49.760Z"
      },
      {
        "duration": 271,
        "start_time": "2022-03-01T13:15:28.708Z"
      },
      {
        "duration": 266,
        "start_time": "2022-03-01T13:15:41.157Z"
      },
      {
        "duration": 4,
        "start_time": "2022-03-01T13:15:52.361Z"
      },
      {
        "duration": 5,
        "start_time": "2022-03-01T13:15:59.984Z"
      },
      {
        "duration": 5,
        "start_time": "2022-03-01T13:17:04.663Z"
      },
      {
        "duration": 96,
        "start_time": "2022-03-01T13:18:32.366Z"
      },
      {
        "duration": 7,
        "start_time": "2022-03-01T13:18:40.559Z"
      },
      {
        "duration": 6,
        "start_time": "2022-03-01T13:19:05.804Z"
      },
      {
        "duration": 8,
        "start_time": "2022-03-01T13:19:17.310Z"
      },
      {
        "duration": 6,
        "start_time": "2022-03-01T13:19:41.942Z"
      },
      {
        "duration": 5,
        "start_time": "2022-03-01T13:26:19.362Z"
      },
      {
        "duration": 8,
        "start_time": "2022-03-01T13:30:56.317Z"
      },
      {
        "duration": 5,
        "start_time": "2022-03-01T13:31:09.022Z"
      },
      {
        "duration": 8,
        "start_time": "2022-03-01T13:37:00.331Z"
      },
      {
        "duration": 6,
        "start_time": "2022-03-01T13:37:18.054Z"
      },
      {
        "duration": 8,
        "start_time": "2022-03-01T13:37:35.270Z"
      },
      {
        "duration": 7,
        "start_time": "2022-03-01T13:42:01.887Z"
      },
      {
        "duration": 6,
        "start_time": "2022-03-01T13:46:08.187Z"
      },
      {
        "duration": 6,
        "start_time": "2022-03-01T13:46:19.009Z"
      },
      {
        "duration": 7,
        "start_time": "2022-03-01T13:46:35.642Z"
      },
      {
        "duration": 6,
        "start_time": "2022-03-01T13:47:29.181Z"
      },
      {
        "duration": 8,
        "start_time": "2022-03-01T13:47:42.778Z"
      },
      {
        "duration": 7,
        "start_time": "2022-03-01T13:48:44.829Z"
      },
      {
        "duration": 8,
        "start_time": "2022-03-01T13:48:48.983Z"
      },
      {
        "duration": 5,
        "start_time": "2022-03-01T13:49:28.286Z"
      },
      {
        "duration": 5,
        "start_time": "2022-03-01T13:49:34.072Z"
      },
      {
        "duration": 6,
        "start_time": "2022-03-01T13:50:04.686Z"
      },
      {
        "duration": 6,
        "start_time": "2022-03-01T13:50:18.716Z"
      },
      {
        "duration": 7,
        "start_time": "2022-03-01T13:51:01.206Z"
      },
      {
        "duration": 7,
        "start_time": "2022-03-01T13:51:12.289Z"
      },
      {
        "duration": 255,
        "start_time": "2022-03-02T04:32:57.445Z"
      },
      {
        "duration": 728,
        "start_time": "2022-03-02T04:33:03.669Z"
      },
      {
        "duration": 10,
        "start_time": "2022-03-02T04:33:14.999Z"
      },
      {
        "duration": 65,
        "start_time": "2022-03-02T15:38:42.808Z"
      },
      {
        "duration": 311,
        "start_time": "2022-03-02T15:39:59.537Z"
      },
      {
        "duration": 762,
        "start_time": "2022-03-02T15:40:04.701Z"
      },
      {
        "duration": 18,
        "start_time": "2022-03-02T15:40:15.406Z"
      },
      {
        "duration": 5,
        "start_time": "2022-03-02T15:40:38.504Z"
      },
      {
        "duration": 13,
        "start_time": "2022-03-02T15:40:51.698Z"
      },
      {
        "duration": 12,
        "start_time": "2022-03-02T15:41:44.737Z"
      },
      {
        "duration": 5,
        "start_time": "2022-03-02T15:41:47.214Z"
      },
      {
        "duration": 16,
        "start_time": "2022-03-02T15:43:20.141Z"
      },
      {
        "duration": 5,
        "start_time": "2022-03-02T15:43:22.515Z"
      },
      {
        "duration": 16,
        "start_time": "2022-03-02T15:43:50.602Z"
      },
      {
        "duration": 5,
        "start_time": "2022-03-02T15:43:51.941Z"
      },
      {
        "duration": 230,
        "start_time": "2022-03-02T15:44:22.963Z"
      },
      {
        "duration": 6,
        "start_time": "2022-03-02T15:44:35.600Z"
      },
      {
        "duration": 4,
        "start_time": "2022-03-02T16:02:35.550Z"
      },
      {
        "duration": 212,
        "start_time": "2022-03-02T16:02:52.931Z"
      },
      {
        "duration": 7,
        "start_time": "2022-03-02T16:03:17.568Z"
      },
      {
        "duration": 4,
        "start_time": "2022-03-02T16:03:23.492Z"
      },
      {
        "duration": 6,
        "start_time": "2022-03-02T16:03:24.586Z"
      },
      {
        "duration": 4623,
        "start_time": "2022-03-02T16:03:37.904Z"
      },
      {
        "duration": -211,
        "start_time": "2022-03-02T16:03:42.740Z"
      },
      {
        "duration": 6,
        "start_time": "2022-03-02T16:03:42.887Z"
      },
      {
        "duration": 221,
        "start_time": "2022-03-02T16:04:33.211Z"
      },
      {
        "duration": 67,
        "start_time": "2022-03-02T16:06:11.305Z"
      },
      {
        "duration": 57,
        "start_time": "2022-03-02T16:06:15.768Z"
      },
      {
        "duration": 59,
        "start_time": "2022-03-02T16:06:21.282Z"
      },
      {
        "duration": 74,
        "start_time": "2022-03-02T16:06:44.933Z"
      },
      {
        "duration": 63,
        "start_time": "2022-03-02T16:06:52.305Z"
      },
      {
        "duration": 58,
        "start_time": "2022-03-02T16:08:00.492Z"
      },
      {
        "duration": 85,
        "start_time": "2022-03-02T16:08:11.691Z"
      },
      {
        "duration": 70,
        "start_time": "2022-03-02T16:08:20.176Z"
      },
      {
        "duration": 61,
        "start_time": "2022-03-02T16:08:43.187Z"
      },
      {
        "duration": 62,
        "start_time": "2022-03-02T16:08:52.795Z"
      },
      {
        "duration": 537,
        "start_time": "2022-03-02T16:09:12.350Z"
      },
      {
        "duration": 767,
        "start_time": "2022-03-02T16:09:27.695Z"
      },
      {
        "duration": 500,
        "start_time": "2022-03-02T16:09:34.803Z"
      },
      {
        "duration": 205,
        "start_time": "2022-03-02T16:10:35.392Z"
      },
      {
        "duration": 6,
        "start_time": "2022-03-02T16:10:49.532Z"
      },
      {
        "duration": 7,
        "start_time": "2022-03-02T16:10:51.651Z"
      },
      {
        "duration": 18,
        "start_time": "2022-03-02T16:11:28.653Z"
      },
      {
        "duration": 8,
        "start_time": "2022-03-02T16:11:30.623Z"
      },
      {
        "duration": 8,
        "start_time": "2022-03-02T16:12:24.229Z"
      },
      {
        "duration": 7,
        "start_time": "2022-03-02T16:12:45.996Z"
      },
      {
        "duration": 9,
        "start_time": "2022-03-02T16:13:19.111Z"
      },
      {
        "duration": 195,
        "start_time": "2022-03-02T17:01:32.925Z"
      },
      {
        "duration": 9,
        "start_time": "2022-03-02T17:01:59.958Z"
      },
      {
        "duration": 210,
        "start_time": "2022-03-02T17:02:05.741Z"
      },
      {
        "duration": 190,
        "start_time": "2022-03-02T17:02:38.782Z"
      },
      {
        "duration": 56,
        "start_time": "2022-03-02T17:02:43.438Z"
      },
      {
        "duration": 311,
        "start_time": "2022-03-02T17:03:05.220Z"
      },
      {
        "duration": 203,
        "start_time": "2022-03-02T17:04:40.508Z"
      },
      {
        "duration": 262,
        "start_time": "2022-03-02T17:07:07.236Z"
      },
      {
        "duration": 12,
        "start_time": "2022-03-02T17:08:22.534Z"
      },
      {
        "duration": 233,
        "start_time": "2022-03-02T17:08:48.990Z"
      },
      {
        "duration": 18,
        "start_time": "2022-03-02T17:09:05.439Z"
      },
      {
        "duration": 7,
        "start_time": "2022-03-02T17:09:09.914Z"
      },
      {
        "duration": 5015,
        "start_time": "2022-03-02T17:09:24.595Z"
      },
      {
        "duration": -230,
        "start_time": "2022-03-02T17:09:29.842Z"
      },
      {
        "duration": 252,
        "start_time": "2022-03-02T17:09:43.440Z"
      },
      {
        "duration": 21,
        "start_time": "2022-03-02T17:09:58.749Z"
      },
      {
        "duration": 14,
        "start_time": "2022-03-02T17:10:07.376Z"
      },
      {
        "duration": 10,
        "start_time": "2022-03-02T17:10:08.627Z"
      },
      {
        "duration": 4,
        "start_time": "2022-03-02T17:14:13.145Z"
      },
      {
        "duration": 211,
        "start_time": "2022-03-02T17:14:20.583Z"
      },
      {
        "duration": 222,
        "start_time": "2022-03-02T17:14:51.801Z"
      },
      {
        "duration": 210,
        "start_time": "2022-03-02T17:15:05.000Z"
      },
      {
        "duration": 209,
        "start_time": "2022-03-02T17:16:02.615Z"
      },
      {
        "duration": 188,
        "start_time": "2022-03-02T17:16:08.314Z"
      },
      {
        "duration": 80,
        "start_time": "2022-03-02T17:16:18.109Z"
      },
      {
        "duration": 198,
        "start_time": "2022-03-02T17:16:31.167Z"
      },
      {
        "duration": 194,
        "start_time": "2022-03-02T17:17:04.340Z"
      },
      {
        "duration": 170,
        "start_time": "2022-03-02T17:17:19.302Z"
      },
      {
        "duration": 11,
        "start_time": "2022-03-02T17:17:28.553Z"
      },
      {
        "duration": 7,
        "start_time": "2022-03-02T17:17:29.874Z"
      },
      {
        "duration": 9,
        "start_time": "2022-03-02T17:17:33.090Z"
      },
      {
        "duration": 23,
        "start_time": "2022-03-02T17:17:43.410Z"
      },
      {
        "duration": 5,
        "start_time": "2022-03-02T17:18:01.479Z"
      },
      {
        "duration": 8,
        "start_time": "2022-03-02T17:18:15.428Z"
      },
      {
        "duration": 7,
        "start_time": "2022-03-02T17:18:21.749Z"
      },
      {
        "duration": 9,
        "start_time": "2022-03-02T17:18:25.894Z"
      },
      {
        "duration": 5,
        "start_time": "2022-03-02T17:18:38.267Z"
      },
      {
        "duration": 4,
        "start_time": "2022-03-02T17:18:40.568Z"
      },
      {
        "duration": 9,
        "start_time": "2022-03-02T17:18:44.894Z"
      },
      {
        "duration": 5,
        "start_time": "2022-03-02T17:18:55.604Z"
      },
      {
        "duration": 8,
        "start_time": "2022-03-02T17:19:02.557Z"
      },
      {
        "duration": 6,
        "start_time": "2022-03-02T17:19:14.443Z"
      },
      {
        "duration": 6,
        "start_time": "2022-03-02T17:19:24.692Z"
      },
      {
        "duration": 173,
        "start_time": "2022-03-02T17:19:30.314Z"
      },
      {
        "duration": 12,
        "start_time": "2022-03-02T17:19:40.485Z"
      },
      {
        "duration": 9,
        "start_time": "2022-03-02T17:19:47.731Z"
      },
      {
        "duration": 7,
        "start_time": "2022-03-02T17:19:58.090Z"
      },
      {
        "duration": 8,
        "start_time": "2022-03-02T17:20:43.754Z"
      },
      {
        "duration": 5,
        "start_time": "2022-03-02T17:21:00.550Z"
      },
      {
        "duration": 2662,
        "start_time": "2022-03-02T17:21:02.554Z"
      },
      {
        "duration": 2437,
        "start_time": "2022-03-02T17:21:10.242Z"
      },
      {
        "duration": -184,
        "start_time": "2022-03-02T17:21:19.635Z"
      },
      {
        "duration": 2460,
        "start_time": "2022-03-02T17:21:22.898Z"
      },
      {
        "duration": 163,
        "start_time": "2022-03-02T17:21:35.328Z"
      },
      {
        "duration": 10,
        "start_time": "2022-03-02T17:21:40.371Z"
      },
      {
        "duration": 6,
        "start_time": "2022-03-02T17:21:50.714Z"
      },
      {
        "duration": 10,
        "start_time": "2022-03-02T17:22:26.135Z"
      },
      {
        "duration": 9,
        "start_time": "2022-03-02T17:22:30.658Z"
      },
      {
        "duration": 9,
        "start_time": "2022-03-02T17:24:33.608Z"
      },
      {
        "duration": 10,
        "start_time": "2022-03-02T17:24:36.595Z"
      },
      {
        "duration": 172,
        "start_time": "2022-03-02T17:24:42.407Z"
      },
      {
        "duration": 15,
        "start_time": "2022-03-02T17:24:50.608Z"
      },
      {
        "duration": 10,
        "start_time": "2022-03-02T17:24:55.461Z"
      },
      {
        "duration": 11,
        "start_time": "2022-03-02T17:24:57.273Z"
      },
      {
        "duration": 6,
        "start_time": "2022-03-02T17:25:14.084Z"
      },
      {
        "duration": 8,
        "start_time": "2022-03-02T17:25:15.925Z"
      },
      {
        "duration": 11,
        "start_time": "2022-03-02T17:26:06.446Z"
      },
      {
        "duration": 9,
        "start_time": "2022-03-02T17:26:59.043Z"
      },
      {
        "duration": 10,
        "start_time": "2022-03-02T17:27:04.454Z"
      },
      {
        "duration": 9,
        "start_time": "2022-03-02T17:27:08.411Z"
      },
      {
        "duration": 4849,
        "start_time": "2022-03-02T17:27:43.566Z"
      },
      {
        "duration": 23,
        "start_time": "2022-03-02T17:28:07.660Z"
      },
      {
        "duration": 23,
        "start_time": "2022-03-02T17:28:12.622Z"
      },
      {
        "duration": 9,
        "start_time": "2022-03-02T17:29:25.341Z"
      },
      {
        "duration": 393,
        "start_time": "2022-03-03T11:36:26.621Z"
      },
      {
        "duration": 826,
        "start_time": "2022-03-03T11:36:33.668Z"
      },
      {
        "duration": 288,
        "start_time": "2022-03-03T11:36:57.843Z"
      },
      {
        "duration": 3,
        "start_time": "2022-03-03T11:36:58.133Z"
      },
      {
        "duration": 17,
        "start_time": "2022-03-03T11:36:58.138Z"
      },
      {
        "duration": 9,
        "start_time": "2022-03-03T11:36:58.156Z"
      },
      {
        "duration": 36,
        "start_time": "2022-03-03T11:36:58.167Z"
      },
      {
        "duration": 6,
        "start_time": "2022-03-03T11:36:58.205Z"
      },
      {
        "duration": 20,
        "start_time": "2022-03-03T11:36:58.213Z"
      },
      {
        "duration": 6,
        "start_time": "2022-03-03T11:36:58.235Z"
      },
      {
        "duration": 8,
        "start_time": "2022-03-03T11:36:58.243Z"
      },
      {
        "duration": 7,
        "start_time": "2022-03-03T11:36:58.252Z"
      },
      {
        "duration": 41,
        "start_time": "2022-03-03T11:36:58.261Z"
      },
      {
        "duration": 7,
        "start_time": "2022-03-03T11:36:58.304Z"
      },
      {
        "duration": 6,
        "start_time": "2022-03-03T11:36:58.313Z"
      },
      {
        "duration": 6,
        "start_time": "2022-03-03T11:36:58.321Z"
      },
      {
        "duration": 4,
        "start_time": "2022-03-03T11:36:58.328Z"
      },
      {
        "duration": 15,
        "start_time": "2022-03-03T11:36:58.333Z"
      },
      {
        "duration": 4,
        "start_time": "2022-03-03T11:36:58.349Z"
      },
      {
        "duration": 10,
        "start_time": "2022-03-03T11:36:58.354Z"
      },
      {
        "duration": 40,
        "start_time": "2022-03-03T11:36:58.367Z"
      },
      {
        "duration": 6,
        "start_time": "2022-03-03T11:36:58.409Z"
      },
      {
        "duration": 7,
        "start_time": "2022-03-03T11:36:58.416Z"
      },
      {
        "duration": 6,
        "start_time": "2022-03-03T11:36:58.425Z"
      },
      {
        "duration": 11,
        "start_time": "2022-03-03T11:36:58.432Z"
      },
      {
        "duration": 21,
        "start_time": "2022-03-03T11:36:58.445Z"
      },
      {
        "duration": 6,
        "start_time": "2022-03-03T11:36:58.467Z"
      },
      {
        "duration": 5,
        "start_time": "2022-03-03T11:36:58.501Z"
      },
      {
        "duration": 4,
        "start_time": "2022-03-03T11:36:58.508Z"
      },
      {
        "duration": 6,
        "start_time": "2022-03-03T11:36:58.514Z"
      },
      {
        "duration": 9,
        "start_time": "2022-03-03T11:36:58.522Z"
      },
      {
        "duration": 11,
        "start_time": "2022-03-03T11:36:58.533Z"
      },
      {
        "duration": 8,
        "start_time": "2022-03-03T11:36:58.545Z"
      },
      {
        "duration": 2,
        "start_time": "2022-03-03T11:36:58.581Z"
      },
      {
        "duration": 4,
        "start_time": "2022-03-03T11:36:58.585Z"
      },
      {
        "duration": 6,
        "start_time": "2022-03-03T11:36:58.591Z"
      },
      {
        "duration": 8,
        "start_time": "2022-03-03T11:36:58.598Z"
      },
      {
        "duration": 1,
        "start_time": "2022-03-03T11:36:58.624Z"
      },
      {
        "duration": 6,
        "start_time": "2022-03-03T11:36:58.628Z"
      },
      {
        "duration": 8,
        "start_time": "2022-03-03T11:36:58.636Z"
      },
      {
        "duration": 2,
        "start_time": "2022-03-03T11:36:58.706Z"
      },
      {
        "duration": 3,
        "start_time": "2022-03-03T11:36:58.711Z"
      },
      {
        "duration": 4,
        "start_time": "2022-03-03T11:36:58.716Z"
      },
      {
        "duration": 2,
        "start_time": "2022-03-03T11:36:58.745Z"
      },
      {
        "duration": 4,
        "start_time": "2022-03-03T11:36:58.749Z"
      },
      {
        "duration": 9,
        "start_time": "2022-03-03T11:36:58.755Z"
      },
      {
        "duration": 2,
        "start_time": "2022-03-03T11:36:58.831Z"
      },
      {
        "duration": 6,
        "start_time": "2022-03-03T11:36:58.835Z"
      },
      {
        "duration": 4,
        "start_time": "2022-03-03T11:36:58.843Z"
      },
      {
        "duration": 2,
        "start_time": "2022-03-03T11:36:58.872Z"
      },
      {
        "duration": 3,
        "start_time": "2022-03-03T11:36:58.876Z"
      },
      {
        "duration": 6,
        "start_time": "2022-03-03T11:36:58.881Z"
      },
      {
        "duration": 3,
        "start_time": "2022-03-03T11:36:58.964Z"
      },
      {
        "duration": 6,
        "start_time": "2022-03-03T11:36:58.969Z"
      },
      {
        "duration": 4,
        "start_time": "2022-03-03T11:36:58.977Z"
      },
      {
        "duration": 2,
        "start_time": "2022-03-03T11:36:59.002Z"
      },
      {
        "duration": 5,
        "start_time": "2022-03-03T11:36:59.006Z"
      },
      {
        "duration": 7,
        "start_time": "2022-03-03T11:36:59.012Z"
      },
      {
        "duration": 3,
        "start_time": "2022-03-03T11:36:59.088Z"
      },
      {
        "duration": 4,
        "start_time": "2022-03-03T11:36:59.093Z"
      },
      {
        "duration": 4,
        "start_time": "2022-03-03T11:36:59.099Z"
      },
      {
        "duration": 2,
        "start_time": "2022-03-03T11:36:59.142Z"
      },
      {
        "duration": 3,
        "start_time": "2022-03-03T11:36:59.146Z"
      },
      {
        "duration": 3,
        "start_time": "2022-03-03T11:36:59.151Z"
      },
      {
        "duration": 2,
        "start_time": "2022-03-03T11:36:59.216Z"
      },
      {
        "duration": 4,
        "start_time": "2022-03-03T11:36:59.220Z"
      },
      {
        "duration": 3,
        "start_time": "2022-03-03T11:36:59.226Z"
      },
      {
        "duration": 9,
        "start_time": "2022-03-03T11:36:59.231Z"
      },
      {
        "duration": 2,
        "start_time": "2022-03-03T11:36:59.256Z"
      },
      {
        "duration": 7,
        "start_time": "2022-03-03T11:36:59.259Z"
      },
      {
        "duration": 3,
        "start_time": "2022-03-03T11:36:59.363Z"
      },
      {
        "duration": 5,
        "start_time": "2022-03-03T11:36:59.368Z"
      },
      {
        "duration": 4,
        "start_time": "2022-03-03T11:36:59.374Z"
      },
      {
        "duration": 2,
        "start_time": "2022-03-03T11:36:59.436Z"
      },
      {
        "duration": 5,
        "start_time": "2022-03-03T11:36:59.441Z"
      },
      {
        "duration": 4,
        "start_time": "2022-03-03T11:36:59.449Z"
      },
      {
        "duration": 3,
        "start_time": "2022-03-03T11:36:59.479Z"
      },
      {
        "duration": 8,
        "start_time": "2022-03-03T11:37:09.059Z"
      },
      {
        "duration": 1178,
        "start_time": "2022-03-03T11:37:27.000Z"
      },
      {
        "duration": 304,
        "start_time": "2022-03-03T11:38:09.989Z"
      },
      {
        "duration": 288,
        "start_time": "2022-03-03T11:38:20.865Z"
      },
      {
        "duration": 11,
        "start_time": "2022-03-03T11:38:37.445Z"
      },
      {
        "duration": 323,
        "start_time": "2022-03-03T11:39:38.836Z"
      },
      {
        "duration": 1714,
        "start_time": "2022-03-03T11:40:36.996Z"
      },
      {
        "duration": 6,
        "start_time": "2022-03-03T11:40:43.581Z"
      },
      {
        "duration": 1984,
        "start_time": "2022-03-03T11:40:47.716Z"
      },
      {
        "duration": 11,
        "start_time": "2022-03-03T11:41:02.316Z"
      },
      {
        "duration": 3,
        "start_time": "2022-03-03T11:41:26.024Z"
      },
      {
        "duration": 348,
        "start_time": "2022-03-03T11:42:18.399Z"
      },
      {
        "duration": 285,
        "start_time": "2022-03-03T11:46:12.556Z"
      },
      {
        "duration": 222,
        "start_time": "2022-03-03T11:46:19.267Z"
      },
      {
        "duration": 2,
        "start_time": "2022-03-03T11:46:19.491Z"
      },
      {
        "duration": 28,
        "start_time": "2022-03-03T11:46:19.495Z"
      },
      {
        "duration": 19,
        "start_time": "2022-03-03T11:46:19.525Z"
      },
      {
        "duration": 22,
        "start_time": "2022-03-03T11:46:19.546Z"
      },
      {
        "duration": 13,
        "start_time": "2022-03-03T11:46:19.569Z"
      },
      {
        "duration": 21,
        "start_time": "2022-03-03T11:46:19.584Z"
      },
      {
        "duration": 6,
        "start_time": "2022-03-03T11:46:19.607Z"
      },
      {
        "duration": 14,
        "start_time": "2022-03-03T11:46:19.615Z"
      },
      {
        "duration": 23,
        "start_time": "2022-03-03T11:46:19.630Z"
      },
      {
        "duration": 18,
        "start_time": "2022-03-03T11:46:19.655Z"
      },
      {
        "duration": 14,
        "start_time": "2022-03-03T11:46:19.675Z"
      },
      {
        "duration": 27,
        "start_time": "2022-03-03T11:46:19.690Z"
      },
      {
        "duration": 7,
        "start_time": "2022-03-03T11:46:19.814Z"
      },
      {
        "duration": 14,
        "start_time": "2022-03-03T11:46:19.822Z"
      },
      {
        "duration": 33,
        "start_time": "2022-03-03T11:46:19.838Z"
      },
      {
        "duration": 14,
        "start_time": "2022-03-03T11:46:19.872Z"
      },
      {
        "duration": 5,
        "start_time": "2022-03-03T11:46:19.921Z"
      },
      {
        "duration": 23,
        "start_time": "2022-03-03T11:46:19.927Z"
      },
      {
        "duration": 15,
        "start_time": "2022-03-03T11:46:19.952Z"
      },
      {
        "duration": 8,
        "start_time": "2022-03-03T11:46:20.048Z"
      },
      {
        "duration": 16,
        "start_time": "2022-03-03T11:46:20.057Z"
      },
      {
        "duration": 14,
        "start_time": "2022-03-03T11:46:20.086Z"
      },
      {
        "duration": 321,
        "start_time": "2022-03-03T11:46:20.102Z"
      },
      {
        "duration": 222,
        "start_time": "2022-03-03T11:47:20.394Z"
      },
      {
        "duration": 3,
        "start_time": "2022-03-03T11:47:20.618Z"
      },
      {
        "duration": 10,
        "start_time": "2022-03-03T11:47:20.623Z"
      },
      {
        "duration": 13,
        "start_time": "2022-03-03T11:47:20.635Z"
      },
      {
        "duration": 20,
        "start_time": "2022-03-03T11:47:20.650Z"
      },
      {
        "duration": 5,
        "start_time": "2022-03-03T11:47:20.671Z"
      },
      {
        "duration": 18,
        "start_time": "2022-03-03T11:47:20.702Z"
      },
      {
        "duration": 6,
        "start_time": "2022-03-03T11:47:20.723Z"
      },
      {
        "duration": 5,
        "start_time": "2022-03-03T11:47:20.731Z"
      },
      {
        "duration": 9,
        "start_time": "2022-03-03T11:47:20.737Z"
      },
      {
        "duration": 7,
        "start_time": "2022-03-03T11:47:20.747Z"
      },
      {
        "duration": 11,
        "start_time": "2022-03-03T11:47:20.756Z"
      },
      {
        "duration": 34,
        "start_time": "2022-03-03T11:47:20.768Z"
      },
      {
        "duration": 7,
        "start_time": "2022-03-03T11:47:20.803Z"
      },
      {
        "duration": 6,
        "start_time": "2022-03-03T11:47:20.812Z"
      },
      {
        "duration": 16,
        "start_time": "2022-03-03T11:47:20.819Z"
      },
      {
        "duration": 5,
        "start_time": "2022-03-03T11:47:20.837Z"
      },
      {
        "duration": 9,
        "start_time": "2022-03-03T11:47:20.843Z"
      },
      {
        "duration": 15,
        "start_time": "2022-03-03T11:47:20.853Z"
      },
      {
        "duration": 5,
        "start_time": "2022-03-03T11:47:20.869Z"
      },
      {
        "duration": 7,
        "start_time": "2022-03-03T11:47:20.901Z"
      },
      {
        "duration": 5,
        "start_time": "2022-03-03T11:47:20.910Z"
      },
      {
        "duration": 8,
        "start_time": "2022-03-03T11:47:20.918Z"
      },
      {
        "duration": 21,
        "start_time": "2022-03-03T11:47:26.296Z"
      },
      {
        "duration": 6,
        "start_time": "2022-03-03T11:47:31.927Z"
      },
      {
        "duration": 1177,
        "start_time": "2022-03-03T11:47:37.915Z"
      },
      {
        "duration": 2,
        "start_time": "2022-03-03T11:49:14.916Z"
      },
      {
        "duration": 320,
        "start_time": "2022-03-03T12:25:26.498Z"
      },
      {
        "duration": 290,
        "start_time": "2022-03-03T12:27:35.100Z"
      },
      {
        "duration": 2035,
        "start_time": "2022-03-03T12:37:38.832Z"
      },
      {
        "duration": 402,
        "start_time": "2022-03-03T12:38:04.113Z"
      },
      {
        "duration": 1225,
        "start_time": "2022-03-03T12:38:39.430Z"
      },
      {
        "duration": 1254,
        "start_time": "2022-03-03T12:38:45.808Z"
      },
      {
        "duration": 1167,
        "start_time": "2022-03-03T12:39:45.910Z"
      },
      {
        "duration": 294,
        "start_time": "2022-03-03T12:39:57.338Z"
      },
      {
        "duration": 3,
        "start_time": "2022-03-03T12:39:57.634Z"
      },
      {
        "duration": 14,
        "start_time": "2022-03-03T12:39:57.639Z"
      },
      {
        "duration": 10,
        "start_time": "2022-03-03T12:39:57.655Z"
      },
      {
        "duration": 41,
        "start_time": "2022-03-03T12:39:57.667Z"
      },
      {
        "duration": 4,
        "start_time": "2022-03-03T12:39:57.710Z"
      },
      {
        "duration": 18,
        "start_time": "2022-03-03T12:39:57.716Z"
      },
      {
        "duration": 7,
        "start_time": "2022-03-03T12:39:57.738Z"
      },
      {
        "duration": 5,
        "start_time": "2022-03-03T12:39:57.747Z"
      },
      {
        "duration": 10,
        "start_time": "2022-03-03T12:39:57.754Z"
      },
      {
        "duration": 37,
        "start_time": "2022-03-03T12:39:57.766Z"
      },
      {
        "duration": 7,
        "start_time": "2022-03-03T12:39:57.805Z"
      },
      {
        "duration": 7,
        "start_time": "2022-03-03T12:39:57.814Z"
      },
      {
        "duration": 11,
        "start_time": "2022-03-03T12:39:57.823Z"
      },
      {
        "duration": 5,
        "start_time": "2022-03-03T12:39:57.836Z"
      },
      {
        "duration": 17,
        "start_time": "2022-03-03T12:39:57.842Z"
      },
      {
        "duration": 4,
        "start_time": "2022-03-03T12:39:57.861Z"
      },
      {
        "duration": 36,
        "start_time": "2022-03-03T12:39:57.867Z"
      },
      {
        "duration": 9,
        "start_time": "2022-03-03T12:39:57.905Z"
      },
      {
        "duration": 5,
        "start_time": "2022-03-03T12:39:57.915Z"
      },
      {
        "duration": 11,
        "start_time": "2022-03-03T12:39:57.922Z"
      },
      {
        "duration": 5,
        "start_time": "2022-03-03T12:39:57.935Z"
      },
      {
        "duration": 8,
        "start_time": "2022-03-03T12:39:57.943Z"
      },
      {
        "duration": 50,
        "start_time": "2022-03-03T12:39:57.953Z"
      },
      {
        "duration": 9,
        "start_time": "2022-03-03T12:39:58.005Z"
      },
      {
        "duration": 20,
        "start_time": "2022-03-03T12:40:12.631Z"
      },
      {
        "duration": 2073,
        "start_time": "2022-03-03T12:40:28.179Z"
      },
      {
        "duration": 703,
        "start_time": "2022-03-03T12:40:40.826Z"
      },
      {
        "duration": 5,
        "start_time": "2022-03-03T12:40:51.236Z"
      },
      {
        "duration": 5,
        "start_time": "2022-03-03T12:41:08.905Z"
      },
      {
        "duration": 5,
        "start_time": "2022-03-03T12:42:17.299Z"
      },
      {
        "duration": 6,
        "start_time": "2022-03-03T12:42:22.193Z"
      },
      {
        "duration": 8,
        "start_time": "2022-03-03T12:42:40.642Z"
      },
      {
        "duration": 5,
        "start_time": "2022-03-03T12:45:56.229Z"
      },
      {
        "duration": 5,
        "start_time": "2022-03-03T13:02:01.142Z"
      },
      {
        "duration": 7,
        "start_time": "2022-03-03T13:04:04.771Z"
      },
      {
        "duration": 7,
        "start_time": "2022-03-03T13:04:53.895Z"
      },
      {
        "duration": 6,
        "start_time": "2022-03-03T13:05:33.974Z"
      },
      {
        "duration": 4,
        "start_time": "2022-03-03T13:05:58.075Z"
      },
      {
        "duration": 14,
        "start_time": "2022-03-03T13:07:54.777Z"
      },
      {
        "duration": 28,
        "start_time": "2022-03-03T13:08:07.034Z"
      },
      {
        "duration": 30,
        "start_time": "2022-03-03T13:11:00.735Z"
      },
      {
        "duration": 27,
        "start_time": "2022-03-03T13:11:44.251Z"
      },
      {
        "duration": 17,
        "start_time": "2022-03-03T13:11:58.761Z"
      },
      {
        "duration": 16,
        "start_time": "2022-03-03T13:12:10.642Z"
      },
      {
        "duration": 17,
        "start_time": "2022-03-03T13:12:12.021Z"
      },
      {
        "duration": 4,
        "start_time": "2022-03-03T13:12:57.937Z"
      },
      {
        "duration": 230,
        "start_time": "2022-03-03T13:19:08.629Z"
      },
      {
        "duration": 2,
        "start_time": "2022-03-03T13:19:08.861Z"
      },
      {
        "duration": 12,
        "start_time": "2022-03-03T13:19:08.865Z"
      },
      {
        "duration": 10,
        "start_time": "2022-03-03T13:19:08.879Z"
      },
      {
        "duration": 20,
        "start_time": "2022-03-03T13:19:08.891Z"
      },
      {
        "duration": 6,
        "start_time": "2022-03-03T13:19:08.912Z"
      },
      {
        "duration": 19,
        "start_time": "2022-03-03T13:19:08.919Z"
      },
      {
        "duration": 7,
        "start_time": "2022-03-03T13:19:08.940Z"
      },
      {
        "duration": 6,
        "start_time": "2022-03-03T13:19:08.949Z"
      },
      {
        "duration": 11,
        "start_time": "2022-03-03T13:19:08.956Z"
      },
      {
        "duration": 35,
        "start_time": "2022-03-03T13:19:08.968Z"
      },
      {
        "duration": 8,
        "start_time": "2022-03-03T13:19:09.005Z"
      },
      {
        "duration": 9,
        "start_time": "2022-03-03T13:19:09.015Z"
      },
      {
        "duration": 7,
        "start_time": "2022-03-03T13:19:09.026Z"
      },
      {
        "duration": 6,
        "start_time": "2022-03-03T13:19:09.035Z"
      },
      {
        "duration": 17,
        "start_time": "2022-03-03T13:19:09.043Z"
      },
      {
        "duration": 7,
        "start_time": "2022-03-03T13:19:09.061Z"
      },
      {
        "duration": 32,
        "start_time": "2022-03-03T13:19:09.070Z"
      },
      {
        "duration": 9,
        "start_time": "2022-03-03T13:19:09.103Z"
      },
      {
        "duration": 4,
        "start_time": "2022-03-03T13:19:09.114Z"
      },
      {
        "duration": 11,
        "start_time": "2022-03-03T13:19:09.120Z"
      },
      {
        "duration": 20,
        "start_time": "2022-03-03T13:19:13.824Z"
      },
      {
        "duration": 21,
        "start_time": "2022-03-03T13:19:29.295Z"
      },
      {
        "duration": 8,
        "start_time": "2022-03-03T13:19:43.016Z"
      },
      {
        "duration": 3,
        "start_time": "2022-03-03T14:33:34.295Z"
      },
      {
        "duration": 3,
        "start_time": "2022-03-03T14:33:43.852Z"
      },
      {
        "duration": 88,
        "start_time": "2022-03-03T14:33:52.306Z"
      },
      {
        "duration": 598,
        "start_time": "2022-03-03T14:34:12.285Z"
      },
      {
        "duration": 3,
        "start_time": "2022-03-03T14:34:39.060Z"
      },
      {
        "duration": 578,
        "start_time": "2022-03-03T14:34:40.626Z"
      },
      {
        "duration": 4,
        "start_time": "2022-03-03T14:37:42.531Z"
      },
      {
        "duration": 589,
        "start_time": "2022-03-03T14:37:44.288Z"
      },
      {
        "duration": 669,
        "start_time": "2022-03-03T14:38:52.266Z"
      },
      {
        "duration": 476,
        "start_time": "2022-03-03T14:39:35.813Z"
      },
      {
        "duration": 4,
        "start_time": "2022-03-03T14:39:41.436Z"
      },
      {
        "duration": 10,
        "start_time": "2022-03-03T14:41:03.938Z"
      },
      {
        "duration": 668,
        "start_time": "2022-03-03T14:41:27.659Z"
      },
      {
        "duration": 4,
        "start_time": "2022-03-03T14:42:03.543Z"
      },
      {
        "duration": 611,
        "start_time": "2022-03-03T14:42:07.561Z"
      },
      {
        "duration": 3,
        "start_time": "2022-03-03T14:43:19.948Z"
      },
      {
        "duration": 558,
        "start_time": "2022-03-03T14:43:21.613Z"
      },
      {
        "duration": 101,
        "start_time": "2022-03-03T14:45:08.230Z"
      },
      {
        "duration": 100,
        "start_time": "2022-03-03T14:45:52.514Z"
      },
      {
        "duration": 3,
        "start_time": "2022-03-03T14:46:00.367Z"
      },
      {
        "duration": 612,
        "start_time": "2022-03-03T14:46:02.444Z"
      },
      {
        "duration": 3,
        "start_time": "2022-03-03T14:46:28.196Z"
      },
      {
        "duration": 588,
        "start_time": "2022-03-03T14:46:30.582Z"
      },
      {
        "duration": 4,
        "start_time": "2022-03-03T14:49:07.414Z"
      },
      {
        "duration": 599,
        "start_time": "2022-03-03T14:49:09.131Z"
      },
      {
        "duration": 569,
        "start_time": "2022-03-03T14:49:13.046Z"
      },
      {
        "duration": 2,
        "start_time": "2022-03-03T14:51:46.625Z"
      },
      {
        "duration": 3,
        "start_time": "2022-03-03T14:51:51.511Z"
      },
      {
        "duration": 4,
        "start_time": "2022-03-03T14:51:56.261Z"
      },
      {
        "duration": 4,
        "start_time": "2022-03-03T14:51:59.754Z"
      },
      {
        "duration": 4,
        "start_time": "2022-03-03T14:52:19.473Z"
      },
      {
        "duration": 4,
        "start_time": "2022-03-03T14:52:33.125Z"
      },
      {
        "duration": 3,
        "start_time": "2022-03-03T14:52:46.707Z"
      },
      {
        "duration": 1164,
        "start_time": "2022-03-03T14:53:39.196Z"
      },
      {
        "duration": 8,
        "start_time": "2022-03-03T14:53:48.675Z"
      },
      {
        "duration": 6,
        "start_time": "2022-03-03T14:53:58.129Z"
      },
      {
        "duration": 20,
        "start_time": "2022-03-03T14:54:06.317Z"
      },
      {
        "duration": 4,
        "start_time": "2022-03-03T14:54:25.680Z"
      },
      {
        "duration": 291,
        "start_time": "2022-03-03T15:06:50.585Z"
      },
      {
        "duration": 9,
        "start_time": "2022-03-03T15:06:54.847Z"
      },
      {
        "duration": 283,
        "start_time": "2022-03-03T15:09:19.214Z"
      },
      {
        "duration": 345,
        "start_time": "2022-03-03T15:09:25.586Z"
      },
      {
        "duration": 317,
        "start_time": "2022-03-03T15:09:34.676Z"
      },
      {
        "duration": 3,
        "start_time": "2022-03-03T15:10:15.315Z"
      },
      {
        "duration": 6,
        "start_time": "2022-03-03T15:10:25.281Z"
      },
      {
        "duration": 529,
        "start_time": "2022-03-03T15:10:38.630Z"
      },
      {
        "duration": 6,
        "start_time": "2022-03-03T15:11:35.159Z"
      },
      {
        "duration": 349,
        "start_time": "2022-03-03T15:11:54.765Z"
      },
      {
        "duration": 21,
        "start_time": "2022-03-03T15:13:06.696Z"
      },
      {
        "duration": 16,
        "start_time": "2022-03-03T15:13:25.108Z"
      },
      {
        "duration": 363,
        "start_time": "2022-03-03T15:16:44.328Z"
      },
      {
        "duration": 292,
        "start_time": "2022-03-03T15:18:26.957Z"
      },
      {
        "duration": 3932,
        "start_time": "2022-03-03T15:19:22.579Z"
      },
      {
        "duration": 3813,
        "start_time": "2022-03-03T15:19:35.720Z"
      },
      {
        "duration": 310,
        "start_time": "2022-03-03T15:21:10.079Z"
      },
      {
        "duration": 300,
        "start_time": "2022-03-03T15:21:27.533Z"
      },
      {
        "duration": 97,
        "start_time": "2022-03-03T15:22:57.788Z"
      },
      {
        "duration": 93,
        "start_time": "2022-03-03T15:23:02.589Z"
      },
      {
        "duration": -241,
        "start_time": "2022-03-03T15:23:39.217Z"
      },
      {
        "duration": 3,
        "start_time": "2022-03-03T15:23:39.968Z"
      },
      {
        "duration": 7850,
        "start_time": "2022-03-03T15:23:49.016Z"
      },
      {
        "duration": 3785,
        "start_time": "2022-03-03T15:24:24.221Z"
      },
      {
        "duration": 304,
        "start_time": "2022-03-03T15:24:44.053Z"
      },
      {
        "duration": 343,
        "start_time": "2022-03-03T15:25:30.322Z"
      },
      {
        "duration": 3697,
        "start_time": "2022-03-03T15:26:18.226Z"
      },
      {
        "duration": 334,
        "start_time": "2022-03-03T15:27:17.042Z"
      },
      {
        "duration": 101,
        "start_time": "2022-03-03T15:27:29.216Z"
      },
      {
        "duration": 108,
        "start_time": "2022-03-03T15:27:38.759Z"
      },
      {
        "duration": 98,
        "start_time": "2022-03-03T15:27:55.984Z"
      },
      {
        "duration": 295,
        "start_time": "2022-03-03T15:28:05.351Z"
      },
      {
        "duration": 3848,
        "start_time": "2022-03-03T15:28:16.958Z"
      },
      {
        "duration": 326,
        "start_time": "2022-03-04T06:55:34.944Z"
      },
      {
        "duration": 826,
        "start_time": "2022-03-04T06:55:49.481Z"
      },
      {
        "duration": 3,
        "start_time": "2022-03-04T06:55:50.309Z"
      },
      {
        "duration": 16,
        "start_time": "2022-03-04T06:55:50.314Z"
      },
      {
        "duration": 8,
        "start_time": "2022-03-04T06:55:50.332Z"
      },
      {
        "duration": 17,
        "start_time": "2022-03-04T06:55:50.341Z"
      },
      {
        "duration": 4,
        "start_time": "2022-03-04T06:55:50.360Z"
      },
      {
        "duration": 41,
        "start_time": "2022-03-04T06:55:50.365Z"
      },
      {
        "duration": 6,
        "start_time": "2022-03-04T06:55:50.409Z"
      },
      {
        "duration": 22,
        "start_time": "2022-03-04T06:55:50.416Z"
      },
      {
        "duration": 10,
        "start_time": "2022-03-04T06:55:50.439Z"
      },
      {
        "duration": 15,
        "start_time": "2022-03-04T06:55:50.450Z"
      },
      {
        "duration": 14,
        "start_time": "2022-03-04T06:55:50.466Z"
      },
      {
        "duration": 16,
        "start_time": "2022-03-04T06:55:50.481Z"
      },
      {
        "duration": 15,
        "start_time": "2022-03-04T06:55:50.498Z"
      },
      {
        "duration": 8,
        "start_time": "2022-03-04T06:55:50.515Z"
      },
      {
        "duration": 29,
        "start_time": "2022-03-04T06:55:50.525Z"
      },
      {
        "duration": 10,
        "start_time": "2022-03-04T06:55:50.555Z"
      },
      {
        "duration": 18,
        "start_time": "2022-03-04T06:55:50.567Z"
      },
      {
        "duration": 14,
        "start_time": "2022-03-04T06:55:50.586Z"
      },
      {
        "duration": 4,
        "start_time": "2022-03-04T06:55:50.601Z"
      },
      {
        "duration": 25,
        "start_time": "2022-03-04T06:55:50.607Z"
      },
      {
        "duration": 15,
        "start_time": "2022-03-04T06:55:50.633Z"
      },
      {
        "duration": 17,
        "start_time": "2022-03-04T06:55:50.651Z"
      },
      {
        "duration": 21,
        "start_time": "2022-03-04T06:55:50.671Z"
      },
      {
        "duration": 6,
        "start_time": "2022-03-04T06:55:50.693Z"
      },
      {
        "duration": 11,
        "start_time": "2022-03-04T06:55:50.701Z"
      },
      {
        "duration": 18,
        "start_time": "2022-03-04T06:55:50.714Z"
      },
      {
        "duration": 4,
        "start_time": "2022-03-04T06:55:50.734Z"
      },
      {
        "duration": 8,
        "start_time": "2022-03-04T06:55:50.739Z"
      },
      {
        "duration": 4,
        "start_time": "2022-03-04T06:55:50.749Z"
      },
      {
        "duration": 7,
        "start_time": "2022-03-04T06:55:50.754Z"
      },
      {
        "duration": 8,
        "start_time": "2022-03-04T06:55:50.762Z"
      },
      {
        "duration": 5,
        "start_time": "2022-03-04T06:55:50.771Z"
      },
      {
        "duration": 38,
        "start_time": "2022-03-04T06:55:50.778Z"
      },
      {
        "duration": 13,
        "start_time": "2022-03-04T06:55:50.817Z"
      },
      {
        "duration": 15,
        "start_time": "2022-03-04T06:55:50.831Z"
      },
      {
        "duration": 3,
        "start_time": "2022-03-04T06:55:50.847Z"
      },
      {
        "duration": 5,
        "start_time": "2022-03-04T06:55:50.851Z"
      },
      {
        "duration": 4,
        "start_time": "2022-03-04T06:55:50.857Z"
      },
      {
        "duration": 4,
        "start_time": "2022-03-04T06:55:50.863Z"
      },
      {
        "duration": 10,
        "start_time": "2022-03-04T06:55:50.869Z"
      },
      {
        "duration": 25,
        "start_time": "2022-03-04T06:55:50.881Z"
      },
      {
        "duration": 14,
        "start_time": "2022-03-04T06:55:50.907Z"
      },
      {
        "duration": 326,
        "start_time": "2022-03-04T06:55:50.922Z"
      },
      {
        "duration": -1029,
        "start_time": "2022-03-04T06:55:52.278Z"
      },
      {
        "duration": -1035,
        "start_time": "2022-03-04T06:55:52.285Z"
      },
      {
        "duration": -1050,
        "start_time": "2022-03-04T06:55:52.301Z"
      },
      {
        "duration": -1110,
        "start_time": "2022-03-04T06:55:52.362Z"
      },
      {
        "duration": -1121,
        "start_time": "2022-03-04T06:55:52.374Z"
      },
      {
        "duration": -1130,
        "start_time": "2022-03-04T06:55:52.383Z"
      },
      {
        "duration": -1136,
        "start_time": "2022-03-04T06:55:52.390Z"
      },
      {
        "duration": -1141,
        "start_time": "2022-03-04T06:55:52.396Z"
      },
      {
        "duration": -1154,
        "start_time": "2022-03-04T06:55:52.409Z"
      },
      {
        "duration": -1161,
        "start_time": "2022-03-04T06:55:52.417Z"
      },
      {
        "duration": -1170,
        "start_time": "2022-03-04T06:55:52.427Z"
      },
      {
        "duration": -1174,
        "start_time": "2022-03-04T06:55:52.432Z"
      },
      {
        "duration": -1183,
        "start_time": "2022-03-04T06:55:52.441Z"
      },
      {
        "duration": -1189,
        "start_time": "2022-03-04T06:55:52.448Z"
      },
      {
        "duration": -1194,
        "start_time": "2022-03-04T06:55:52.454Z"
      },
      {
        "duration": -1225,
        "start_time": "2022-03-04T06:55:52.486Z"
      },
      {
        "duration": -1235,
        "start_time": "2022-03-04T06:55:52.496Z"
      },
      {
        "duration": -1251,
        "start_time": "2022-03-04T06:55:52.513Z"
      },
      {
        "duration": -1256,
        "start_time": "2022-03-04T06:55:52.519Z"
      },
      {
        "duration": -1260,
        "start_time": "2022-03-04T06:55:52.524Z"
      },
      {
        "duration": -1277,
        "start_time": "2022-03-04T06:55:52.541Z"
      },
      {
        "duration": -1289,
        "start_time": "2022-03-04T06:55:52.554Z"
      },
      {
        "duration": -1299,
        "start_time": "2022-03-04T06:55:52.565Z"
      },
      {
        "duration": -1305,
        "start_time": "2022-03-04T06:55:52.571Z"
      },
      {
        "duration": -1310,
        "start_time": "2022-03-04T06:55:52.577Z"
      },
      {
        "duration": -1317,
        "start_time": "2022-03-04T06:55:52.585Z"
      },
      {
        "duration": -1338,
        "start_time": "2022-03-04T06:55:52.607Z"
      },
      {
        "duration": -1346,
        "start_time": "2022-03-04T06:55:52.615Z"
      },
      {
        "duration": 2,
        "start_time": "2022-03-04T09:47:44.184Z"
      },
      {
        "duration": 300,
        "start_time": "2022-03-04T09:53:04.923Z"
      },
      {
        "duration": -174,
        "start_time": "2022-03-04T09:53:24.263Z"
      },
      {
        "duration": 2,
        "start_time": "2022-03-04T09:53:30.873Z"
      },
      {
        "duration": 7787,
        "start_time": "2022-03-04T09:53:33.599Z"
      },
      {
        "duration": 97,
        "start_time": "2022-03-04T09:54:04.368Z"
      },
      {
        "duration": 7910,
        "start_time": "2022-03-04T09:54:08.230Z"
      },
      {
        "duration": 95,
        "start_time": "2022-03-04T09:54:37.952Z"
      },
      {
        "duration": 8475,
        "start_time": "2022-03-04T09:54:47.049Z"
      },
      {
        "duration": 9,
        "start_time": "2022-03-04T09:55:18.205Z"
      },
      {
        "duration": 8,
        "start_time": "2022-03-04T09:58:39.693Z"
      },
      {
        "duration": 4,
        "start_time": "2022-03-04T10:04:29.914Z"
      },
      {
        "duration": 4,
        "start_time": "2022-03-04T10:04:38.606Z"
      },
      {
        "duration": 11,
        "start_time": "2022-03-04T10:04:44.560Z"
      },
      {
        "duration": 5,
        "start_time": "2022-03-04T10:04:46.024Z"
      },
      {
        "duration": 15,
        "start_time": "2022-03-04T10:05:02.024Z"
      },
      {
        "duration": 7,
        "start_time": "2022-03-04T10:05:16.283Z"
      },
      {
        "duration": 7,
        "start_time": "2022-03-04T10:05:50.583Z"
      },
      {
        "duration": 6,
        "start_time": "2022-03-04T10:06:39.000Z"
      },
      {
        "duration": 6,
        "start_time": "2022-03-04T10:10:03.849Z"
      },
      {
        "duration": 6,
        "start_time": "2022-03-04T10:10:11.001Z"
      },
      {
        "duration": 6,
        "start_time": "2022-03-04T10:10:38.403Z"
      },
      {
        "duration": 6,
        "start_time": "2022-03-04T10:11:12.876Z"
      },
      {
        "duration": 6,
        "start_time": "2022-03-04T10:11:37.684Z"
      },
      {
        "duration": 7,
        "start_time": "2022-03-04T10:12:16.754Z"
      },
      {
        "duration": 6,
        "start_time": "2022-03-04T10:12:31.581Z"
      },
      {
        "duration": 6,
        "start_time": "2022-03-04T10:12:53.031Z"
      },
      {
        "duration": 9,
        "start_time": "2022-03-04T10:52:02.794Z"
      },
      {
        "duration": 9,
        "start_time": "2022-03-04T10:53:23.067Z"
      },
      {
        "duration": 4,
        "start_time": "2022-03-04T11:41:47.569Z"
      },
      {
        "duration": 4,
        "start_time": "2022-03-04T11:41:58.729Z"
      },
      {
        "duration": 4,
        "start_time": "2022-03-04T11:42:01.271Z"
      },
      {
        "duration": 643,
        "start_time": "2022-03-04T11:42:53.468Z"
      },
      {
        "duration": 1500,
        "start_time": "2022-03-04T11:44:41.964Z"
      },
      {
        "duration": 4838,
        "start_time": "2022-03-04T11:46:16.732Z"
      },
      {
        "duration": -65,
        "start_time": "2022-03-04T11:47:49.736Z"
      },
      {
        "duration": 911,
        "start_time": "2022-03-04T11:56:42.956Z"
      },
      {
        "duration": 4357,
        "start_time": "2022-03-04T11:57:53.542Z"
      },
      {
        "duration": 5019,
        "start_time": "2022-03-04T11:58:44.767Z"
      },
      {
        "duration": 290,
        "start_time": "2022-03-04T11:59:57.523Z"
      },
      {
        "duration": 6,
        "start_time": "2022-03-04T12:00:05.987Z"
      },
      {
        "duration": 26,
        "start_time": "2022-03-04T12:00:12.477Z"
      },
      {
        "duration": 320,
        "start_time": "2022-03-04T12:00:40.711Z"
      },
      {
        "duration": 21,
        "start_time": "2022-03-04T12:00:45.990Z"
      },
      {
        "duration": 3,
        "start_time": "2022-03-04T12:03:14.682Z"
      },
      {
        "duration": 3,
        "start_time": "2022-03-04T12:03:20.832Z"
      },
      {
        "duration": 4199,
        "start_time": "2022-03-04T12:03:26.368Z"
      },
      {
        "duration": 4299,
        "start_time": "2022-03-04T12:03:57.820Z"
      },
      {
        "duration": 293,
        "start_time": "2022-03-04T12:16:01.424Z"
      },
      {
        "duration": 6,
        "start_time": "2022-03-04T12:16:37.597Z"
      },
      {
        "duration": 15,
        "start_time": "2022-03-04T12:16:44.576Z"
      },
      {
        "duration": 13,
        "start_time": "2022-03-04T12:17:16.693Z"
      },
      {
        "duration": 15,
        "start_time": "2022-03-04T12:17:52.440Z"
      },
      {
        "duration": 7,
        "start_time": "2022-03-04T12:18:00.162Z"
      },
      {
        "duration": 10,
        "start_time": "2022-03-04T12:18:16.290Z"
      },
      {
        "duration": 102,
        "start_time": "2022-03-04T12:18:53.810Z"
      },
      {
        "duration": 97,
        "start_time": "2022-03-04T12:19:04.475Z"
      },
      {
        "duration": 19,
        "start_time": "2022-03-04T12:19:13.321Z"
      },
      {
        "duration": 1674,
        "start_time": "2022-03-04T12:20:57.322Z"
      },
      {
        "duration": 3,
        "start_time": "2022-03-04T12:24:29.145Z"
      },
      {
        "duration": 8,
        "start_time": "2022-03-04T12:24:29.205Z"
      },
      {
        "duration": 4383,
        "start_time": "2022-03-04T12:24:50.021Z"
      },
      {
        "duration": 653,
        "start_time": "2022-03-04T12:27:54.467Z"
      },
      {
        "duration": 298,
        "start_time": "2022-03-04T12:28:32.069Z"
      },
      {
        "duration": 6,
        "start_time": "2022-03-04T12:28:38.659Z"
      },
      {
        "duration": 24,
        "start_time": "2022-03-04T12:28:49.085Z"
      },
      {
        "duration": 7,
        "start_time": "2022-03-04T12:34:37.090Z"
      },
      {
        "duration": 508,
        "start_time": "2022-03-04T12:35:58.372Z"
      },
      {
        "duration": 5,
        "start_time": "2022-03-04T12:36:02.873Z"
      },
      {
        "duration": 18,
        "start_time": "2022-03-04T12:36:30.713Z"
      },
      {
        "duration": 6,
        "start_time": "2022-03-04T12:36:46.297Z"
      },
      {
        "duration": 145,
        "start_time": "2022-03-04T12:38:20.653Z"
      },
      {
        "duration": 3,
        "start_time": "2022-03-04T12:38:25.279Z"
      },
      {
        "duration": 6,
        "start_time": "2022-03-04T12:38:31.498Z"
      },
      {
        "duration": 5479,
        "start_time": "2022-03-04T12:39:08.815Z"
      },
      {
        "duration": 6,
        "start_time": "2022-03-04T13:12:10.059Z"
      },
      {
        "duration": 295,
        "start_time": "2022-03-04T13:12:39.030Z"
      },
      {
        "duration": 6,
        "start_time": "2022-03-04T13:13:00.184Z"
      },
      {
        "duration": 6,
        "start_time": "2022-03-04T13:13:28.749Z"
      },
      {
        "duration": 7,
        "start_time": "2022-03-04T13:13:41.676Z"
      },
      {
        "duration": 6,
        "start_time": "2022-03-04T13:13:54.684Z"
      },
      {
        "duration": 9,
        "start_time": "2022-03-04T13:14:50.366Z"
      },
      {
        "duration": 4,
        "start_time": "2022-03-04T13:45:37.674Z"
      },
      {
        "duration": -184,
        "start_time": "2022-03-04T13:46:28.288Z"
      },
      {
        "duration": 7507,
        "start_time": "2022-03-04T13:46:29.364Z"
      },
      {
        "duration": 4,
        "start_time": "2022-03-04T14:36:06.785Z"
      },
      {
        "duration": 20610,
        "start_time": "2022-03-04T14:36:34.725Z"
      },
      {
        "duration": 4,
        "start_time": "2022-03-04T14:37:18.378Z"
      },
      {
        "duration": 473,
        "start_time": "2022-03-04T14:48:50.462Z"
      },
      {
        "duration": 338,
        "start_time": "2022-03-04T14:48:54.189Z"
      },
      {
        "duration": 102,
        "start_time": "2022-03-04T14:48:58.677Z"
      },
      {
        "duration": 110,
        "start_time": "2022-03-04T14:49:28.504Z"
      },
      {
        "duration": 101,
        "start_time": "2022-03-04T14:49:32.795Z"
      },
      {
        "duration": 350,
        "start_time": "2022-03-04T14:50:04.548Z"
      },
      {
        "duration": 129,
        "start_time": "2022-03-04T14:50:15.308Z"
      },
      {
        "duration": 170,
        "start_time": "2022-03-04T14:51:56.879Z"
      },
      {
        "duration": 811,
        "start_time": "2022-03-04T14:52:21.378Z"
      },
      {
        "duration": 118,
        "start_time": "2022-03-04T14:52:46.753Z"
      },
      {
        "duration": 3,
        "start_time": "2022-03-04T17:35:19.847Z"
      },
      {
        "duration": 94,
        "start_time": "2022-03-04T17:46:07.098Z"
      },
      {
        "duration": 3,
        "start_time": "2022-03-04T17:46:33.274Z"
      },
      {
        "duration": 6,
        "start_time": "2022-03-04T17:46:40.043Z"
      },
      {
        "duration": 8,
        "start_time": "2022-03-04T17:47:16.458Z"
      },
      {
        "duration": 10,
        "start_time": "2022-03-04T17:47:39.036Z"
      },
      {
        "duration": 104,
        "start_time": "2022-03-04T17:48:17.005Z"
      },
      {
        "duration": 3,
        "start_time": "2022-03-04T17:48:21.819Z"
      },
      {
        "duration": 3,
        "start_time": "2022-03-04T17:48:56.998Z"
      },
      {
        "duration": 9,
        "start_time": "2022-03-04T17:48:59.270Z"
      },
      {
        "duration": 3,
        "start_time": "2022-03-04T17:49:41.328Z"
      },
      {
        "duration": 10,
        "start_time": "2022-03-04T17:49:44.186Z"
      },
      {
        "duration": 3,
        "start_time": "2022-03-04T17:50:23.950Z"
      },
      {
        "duration": 11,
        "start_time": "2022-03-04T17:50:27.761Z"
      },
      {
        "duration": 4,
        "start_time": "2022-03-04T17:51:44.573Z"
      },
      {
        "duration": 12,
        "start_time": "2022-03-04T17:51:48.368Z"
      },
      {
        "duration": 295,
        "start_time": "2022-03-05T01:57:30.168Z"
      },
      {
        "duration": 3,
        "start_time": "2022-03-05T01:57:30.464Z"
      },
      {
        "duration": 22,
        "start_time": "2022-03-05T01:57:30.469Z"
      },
      {
        "duration": 39,
        "start_time": "2022-03-05T01:57:30.493Z"
      },
      {
        "duration": 34,
        "start_time": "2022-03-05T01:57:30.533Z"
      },
      {
        "duration": 4,
        "start_time": "2022-03-05T01:57:30.569Z"
      },
      {
        "duration": 41,
        "start_time": "2022-03-05T01:57:30.574Z"
      },
      {
        "duration": 22,
        "start_time": "2022-03-05T01:57:30.617Z"
      },
      {
        "duration": 36,
        "start_time": "2022-03-05T01:57:30.642Z"
      },
      {
        "duration": 39,
        "start_time": "2022-03-05T01:57:30.679Z"
      },
      {
        "duration": 31,
        "start_time": "2022-03-05T01:57:30.720Z"
      },
      {
        "duration": 33,
        "start_time": "2022-03-05T01:57:30.752Z"
      },
      {
        "duration": 29,
        "start_time": "2022-03-05T01:57:30.786Z"
      },
      {
        "duration": 37,
        "start_time": "2022-03-05T01:57:30.816Z"
      },
      {
        "duration": 29,
        "start_time": "2022-03-05T01:57:30.854Z"
      },
      {
        "duration": 30,
        "start_time": "2022-03-05T01:57:30.885Z"
      },
      {
        "duration": 23,
        "start_time": "2022-03-05T01:57:30.917Z"
      },
      {
        "duration": 28,
        "start_time": "2022-03-05T01:57:30.941Z"
      },
      {
        "duration": 22,
        "start_time": "2022-03-05T01:57:30.970Z"
      },
      {
        "duration": 53,
        "start_time": "2022-03-05T01:57:30.993Z"
      },
      {
        "duration": 42,
        "start_time": "2022-03-05T01:57:31.047Z"
      },
      {
        "duration": 35,
        "start_time": "2022-03-05T01:57:31.090Z"
      },
      {
        "duration": 26,
        "start_time": "2022-03-05T01:57:31.129Z"
      },
      {
        "duration": 36,
        "start_time": "2022-03-05T01:57:31.158Z"
      },
      {
        "duration": 9,
        "start_time": "2022-03-05T01:57:31.195Z"
      },
      {
        "duration": 35,
        "start_time": "2022-03-05T01:57:31.210Z"
      },
      {
        "duration": 27,
        "start_time": "2022-03-05T01:57:31.247Z"
      },
      {
        "duration": 21,
        "start_time": "2022-03-05T01:57:31.275Z"
      },
      {
        "duration": 39,
        "start_time": "2022-03-05T01:57:31.297Z"
      },
      {
        "duration": 20,
        "start_time": "2022-03-05T01:57:31.338Z"
      },
      {
        "duration": 40,
        "start_time": "2022-03-05T01:57:31.359Z"
      },
      {
        "duration": 32,
        "start_time": "2022-03-05T01:57:31.401Z"
      },
      {
        "duration": 30,
        "start_time": "2022-03-05T01:57:31.434Z"
      },
      {
        "duration": 64,
        "start_time": "2022-03-05T01:57:31.466Z"
      },
      {
        "duration": 14,
        "start_time": "2022-03-05T01:57:31.531Z"
      },
      {
        "duration": 36,
        "start_time": "2022-03-05T01:57:31.546Z"
      },
      {
        "duration": 21,
        "start_time": "2022-03-05T01:57:31.583Z"
      },
      {
        "duration": 24,
        "start_time": "2022-03-05T01:57:31.606Z"
      },
      {
        "duration": 32,
        "start_time": "2022-03-05T01:57:31.631Z"
      },
      {
        "duration": 29,
        "start_time": "2022-03-05T01:57:31.664Z"
      },
      {
        "duration": 50,
        "start_time": "2022-03-05T01:57:31.694Z"
      },
      {
        "duration": 28,
        "start_time": "2022-03-05T01:57:31.745Z"
      },
      {
        "duration": 50,
        "start_time": "2022-03-05T01:57:31.775Z"
      },
      {
        "duration": 13,
        "start_time": "2022-03-05T01:57:31.826Z"
      },
      {
        "duration": 36,
        "start_time": "2022-03-05T01:57:31.840Z"
      },
      {
        "duration": 11,
        "start_time": "2022-03-05T01:57:31.877Z"
      },
      {
        "duration": 135,
        "start_time": "2022-03-05T01:57:31.889Z"
      },
      {
        "duration": -1241,
        "start_time": "2022-03-05T01:57:33.266Z"
      },
      {
        "duration": -1246,
        "start_time": "2022-03-05T01:57:33.272Z"
      },
      {
        "duration": -1252,
        "start_time": "2022-03-05T01:57:33.279Z"
      },
      {
        "duration": -1260,
        "start_time": "2022-03-05T01:57:33.288Z"
      },
      {
        "duration": -1270,
        "start_time": "2022-03-05T01:57:33.298Z"
      },
      {
        "duration": -1277,
        "start_time": "2022-03-05T01:57:33.307Z"
      },
      {
        "duration": -1286,
        "start_time": "2022-03-05T01:57:33.316Z"
      },
      {
        "duration": -1296,
        "start_time": "2022-03-05T01:57:33.328Z"
      },
      {
        "duration": -1369,
        "start_time": "2022-03-05T01:57:33.401Z"
      },
      {
        "duration": -1376,
        "start_time": "2022-03-05T01:57:33.409Z"
      },
      {
        "duration": -1382,
        "start_time": "2022-03-05T01:57:33.416Z"
      },
      {
        "duration": -1387,
        "start_time": "2022-03-05T01:57:33.422Z"
      },
      {
        "duration": -1392,
        "start_time": "2022-03-05T01:57:33.428Z"
      },
      {
        "duration": -1398,
        "start_time": "2022-03-05T01:57:33.435Z"
      },
      {
        "duration": -1401,
        "start_time": "2022-03-05T01:57:33.439Z"
      },
      {
        "duration": -1407,
        "start_time": "2022-03-05T01:57:33.445Z"
      },
      {
        "duration": -1454,
        "start_time": "2022-03-05T01:57:33.493Z"
      },
      {
        "duration": -1522,
        "start_time": "2022-03-05T01:57:33.562Z"
      },
      {
        "duration": -1534,
        "start_time": "2022-03-05T01:57:33.575Z"
      },
      {
        "duration": -1551,
        "start_time": "2022-03-05T01:57:33.593Z"
      },
      {
        "duration": -1555,
        "start_time": "2022-03-05T01:57:33.598Z"
      },
      {
        "duration": -1558,
        "start_time": "2022-03-05T01:57:33.602Z"
      },
      {
        "duration": -1565,
        "start_time": "2022-03-05T01:57:33.609Z"
      },
      {
        "duration": -1569,
        "start_time": "2022-03-05T01:57:33.614Z"
      },
      {
        "duration": -1574,
        "start_time": "2022-03-05T01:57:33.620Z"
      },
      {
        "duration": 7,
        "start_time": "2022-03-05T01:57:50.156Z"
      },
      {
        "duration": 6,
        "start_time": "2022-03-05T01:57:56.163Z"
      },
      {
        "duration": 7,
        "start_time": "2022-03-05T01:57:58.502Z"
      },
      {
        "duration": 6,
        "start_time": "2022-03-05T01:58:00.234Z"
      },
      {
        "duration": 7,
        "start_time": "2022-03-05T01:58:03.019Z"
      },
      {
        "duration": 9,
        "start_time": "2022-03-05T01:58:05.247Z"
      },
      {
        "duration": 308,
        "start_time": "2022-03-05T02:04:37.652Z"
      },
      {
        "duration": 233,
        "start_time": "2022-03-05T02:05:03.357Z"
      },
      {
        "duration": 2,
        "start_time": "2022-03-05T02:05:03.592Z"
      },
      {
        "duration": 18,
        "start_time": "2022-03-05T02:05:03.596Z"
      },
      {
        "duration": 15,
        "start_time": "2022-03-05T02:05:03.617Z"
      },
      {
        "duration": 20,
        "start_time": "2022-03-05T02:05:03.633Z"
      },
      {
        "duration": 4,
        "start_time": "2022-03-05T02:05:03.654Z"
      },
      {
        "duration": 18,
        "start_time": "2022-03-05T02:05:03.660Z"
      },
      {
        "duration": 5,
        "start_time": "2022-03-05T02:05:03.680Z"
      },
      {
        "duration": 27,
        "start_time": "2022-03-05T02:05:03.687Z"
      },
      {
        "duration": 14,
        "start_time": "2022-03-05T02:05:03.715Z"
      },
      {
        "duration": 6,
        "start_time": "2022-03-05T02:05:03.731Z"
      },
      {
        "duration": 10,
        "start_time": "2022-03-05T02:05:03.738Z"
      },
      {
        "duration": 7,
        "start_time": "2022-03-05T02:05:03.749Z"
      },
      {
        "duration": 7,
        "start_time": "2022-03-05T02:05:03.758Z"
      },
      {
        "duration": 4,
        "start_time": "2022-03-05T02:05:03.767Z"
      },
      {
        "duration": 40,
        "start_time": "2022-03-05T02:05:03.772Z"
      },
      {
        "duration": 5,
        "start_time": "2022-03-05T02:05:03.813Z"
      },
      {
        "duration": 6,
        "start_time": "2022-03-05T02:05:03.831Z"
      },
      {
        "duration": 10,
        "start_time": "2022-03-05T02:05:03.838Z"
      },
      {
        "duration": 8,
        "start_time": "2022-03-05T02:05:03.849Z"
      },
      {
        "duration": 10,
        "start_time": "2022-03-05T02:05:03.858Z"
      },
      {
        "duration": 5,
        "start_time": "2022-03-05T02:05:03.869Z"
      },
      {
        "duration": 6,
        "start_time": "2022-03-05T02:05:03.877Z"
      },
      {
        "duration": 48,
        "start_time": "2022-03-05T02:05:03.885Z"
      },
      {
        "duration": 7,
        "start_time": "2022-03-05T02:05:03.934Z"
      },
      {
        "duration": 5,
        "start_time": "2022-03-05T02:05:03.942Z"
      },
      {
        "duration": 8,
        "start_time": "2022-03-05T02:05:03.948Z"
      },
      {
        "duration": 3,
        "start_time": "2022-03-05T02:05:03.958Z"
      },
      {
        "duration": 5,
        "start_time": "2022-03-05T02:05:03.963Z"
      },
      {
        "duration": 4,
        "start_time": "2022-03-05T02:05:03.970Z"
      },
      {
        "duration": 37,
        "start_time": "2022-03-05T02:05:03.975Z"
      },
      {
        "duration": 11,
        "start_time": "2022-03-05T02:05:04.014Z"
      },
      {
        "duration": 5,
        "start_time": "2022-03-05T02:05:04.027Z"
      },
      {
        "duration": 26,
        "start_time": "2022-03-05T02:05:04.033Z"
      },
      {
        "duration": 14,
        "start_time": "2022-03-05T02:05:04.060Z"
      },
      {
        "duration": 46,
        "start_time": "2022-03-05T02:05:04.076Z"
      },
      {
        "duration": 3,
        "start_time": "2022-03-05T02:05:04.124Z"
      },
      {
        "duration": 4,
        "start_time": "2022-03-05T02:05:04.129Z"
      },
      {
        "duration": 5,
        "start_time": "2022-03-05T02:05:04.134Z"
      },
      {
        "duration": 6,
        "start_time": "2022-03-05T02:05:04.140Z"
      },
      {
        "duration": 13,
        "start_time": "2022-03-05T02:05:04.148Z"
      },
      {
        "duration": 5,
        "start_time": "2022-03-05T02:05:04.162Z"
      },
      {
        "duration": 15,
        "start_time": "2022-03-05T02:05:04.168Z"
      },
      {
        "duration": 27,
        "start_time": "2022-03-05T02:05:04.184Z"
      },
      {
        "duration": 14,
        "start_time": "2022-03-05T02:05:04.213Z"
      },
      {
        "duration": 5,
        "start_time": "2022-03-05T02:05:04.228Z"
      },
      {
        "duration": 6,
        "start_time": "2022-03-05T02:05:04.235Z"
      },
      {
        "duration": 5,
        "start_time": "2022-03-05T02:05:04.242Z"
      },
      {
        "duration": 6,
        "start_time": "2022-03-05T02:05:04.249Z"
      },
      {
        "duration": 5,
        "start_time": "2022-03-05T02:05:04.256Z"
      },
      {
        "duration": 6,
        "start_time": "2022-03-05T02:05:04.263Z"
      },
      {
        "duration": 35,
        "start_time": "2022-03-05T02:05:04.271Z"
      },
      {
        "duration": 8,
        "start_time": "2022-03-05T02:05:04.309Z"
      },
      {
        "duration": 306,
        "start_time": "2022-03-05T02:05:04.322Z"
      },
      {
        "duration": -1765,
        "start_time": "2022-03-05T02:05:06.395Z"
      },
      {
        "duration": -1771,
        "start_time": "2022-03-05T02:05:06.402Z"
      },
      {
        "duration": -1776,
        "start_time": "2022-03-05T02:05:06.407Z"
      },
      {
        "duration": -1781,
        "start_time": "2022-03-05T02:05:06.413Z"
      },
      {
        "duration": -1786,
        "start_time": "2022-03-05T02:05:06.419Z"
      },
      {
        "duration": -1792,
        "start_time": "2022-03-05T02:05:06.426Z"
      },
      {
        "duration": -1795,
        "start_time": "2022-03-05T02:05:06.431Z"
      },
      {
        "duration": -1841,
        "start_time": "2022-03-05T02:05:06.477Z"
      },
      {
        "duration": -1846,
        "start_time": "2022-03-05T02:05:06.483Z"
      },
      {
        "duration": -1857,
        "start_time": "2022-03-05T02:05:06.495Z"
      },
      {
        "duration": -1864,
        "start_time": "2022-03-05T02:05:06.503Z"
      },
      {
        "duration": -1869,
        "start_time": "2022-03-05T02:05:06.510Z"
      },
      {
        "duration": -1875,
        "start_time": "2022-03-05T02:05:06.517Z"
      },
      {
        "duration": -1884,
        "start_time": "2022-03-05T02:05:06.526Z"
      },
      {
        "duration": -1890,
        "start_time": "2022-03-05T02:05:06.533Z"
      },
      {
        "duration": -1896,
        "start_time": "2022-03-05T02:05:06.540Z"
      },
      {
        "duration": -1904,
        "start_time": "2022-03-05T02:05:06.548Z"
      },
      {
        "duration": -1912,
        "start_time": "2022-03-05T02:05:06.557Z"
      },
      {
        "duration": -1918,
        "start_time": "2022-03-05T02:05:06.564Z"
      },
      {
        "duration": -1938,
        "start_time": "2022-03-05T02:05:06.584Z"
      },
      {
        "duration": -1948,
        "start_time": "2022-03-05T02:05:06.595Z"
      },
      {
        "duration": -1957,
        "start_time": "2022-03-05T02:05:06.605Z"
      },
      {
        "duration": -1964,
        "start_time": "2022-03-05T02:05:06.613Z"
      },
      {
        "duration": -1970,
        "start_time": "2022-03-05T02:05:06.620Z"
      },
      {
        "duration": -1976,
        "start_time": "2022-03-05T02:05:06.626Z"
      },
      {
        "duration": -1980,
        "start_time": "2022-03-05T02:05:06.632Z"
      },
      {
        "duration": -1986,
        "start_time": "2022-03-05T02:05:06.638Z"
      },
      {
        "duration": -1992,
        "start_time": "2022-03-05T02:05:06.645Z"
      },
      {
        "duration": 310,
        "start_time": "2022-03-05T02:05:21.201Z"
      },
      {
        "duration": 673,
        "start_time": "2022-03-05T02:05:31.980Z"
      },
      {
        "duration": 380,
        "start_time": "2022-03-05T02:06:33.360Z"
      },
      {
        "duration": 525,
        "start_time": "2022-03-05T02:07:16.351Z"
      },
      {
        "duration": 328,
        "start_time": "2022-03-05T02:07:22.196Z"
      },
      {
        "duration": 4127,
        "start_time": "2022-03-05T02:07:22.526Z"
      },
      {
        "duration": 307,
        "start_time": "2022-03-05T02:12:42.324Z"
      },
      {
        "duration": 4098,
        "start_time": "2022-03-05T02:12:52.228Z"
      },
      {
        "duration": 1245,
        "start_time": "2022-03-05T02:13:28.588Z"
      },
      {
        "duration": 261,
        "start_time": "2022-03-05T02:13:44.082Z"
      },
      {
        "duration": 2,
        "start_time": "2022-03-05T02:13:44.345Z"
      },
      {
        "duration": 15,
        "start_time": "2022-03-05T02:13:44.349Z"
      },
      {
        "duration": 12,
        "start_time": "2022-03-05T02:13:44.366Z"
      },
      {
        "duration": 18,
        "start_time": "2022-03-05T02:13:44.379Z"
      },
      {
        "duration": 4,
        "start_time": "2022-03-05T02:13:44.398Z"
      },
      {
        "duration": 23,
        "start_time": "2022-03-05T02:13:44.404Z"
      },
      {
        "duration": 7,
        "start_time": "2022-03-05T02:13:44.429Z"
      },
      {
        "duration": 6,
        "start_time": "2022-03-05T02:13:44.438Z"
      },
      {
        "duration": 12,
        "start_time": "2022-03-05T02:13:44.446Z"
      },
      {
        "duration": 6,
        "start_time": "2022-03-05T02:13:44.460Z"
      },
      {
        "duration": 9,
        "start_time": "2022-03-05T02:13:44.468Z"
      },
      {
        "duration": 32,
        "start_time": "2022-03-05T02:13:44.478Z"
      },
      {
        "duration": 8,
        "start_time": "2022-03-05T02:13:44.511Z"
      },
      {
        "duration": 19,
        "start_time": "2022-03-05T02:13:44.521Z"
      },
      {
        "duration": 15,
        "start_time": "2022-03-05T02:13:44.541Z"
      },
      {
        "duration": 3,
        "start_time": "2022-03-05T02:13:44.557Z"
      },
      {
        "duration": 5,
        "start_time": "2022-03-05T02:13:44.562Z"
      },
      {
        "duration": 9,
        "start_time": "2022-03-05T02:13:44.568Z"
      },
      {
        "duration": 5,
        "start_time": "2022-03-05T02:13:44.578Z"
      },
      {
        "duration": 25,
        "start_time": "2022-03-05T02:13:44.584Z"
      },
      {
        "duration": 7,
        "start_time": "2022-03-05T02:13:44.612Z"
      },
      {
        "duration": 10,
        "start_time": "2022-03-05T02:13:44.622Z"
      },
      {
        "duration": 26,
        "start_time": "2022-03-05T02:13:44.635Z"
      },
      {
        "duration": 6,
        "start_time": "2022-03-05T02:13:44.662Z"
      },
      {
        "duration": 5,
        "start_time": "2022-03-05T02:13:44.669Z"
      },
      {
        "duration": 35,
        "start_time": "2022-03-05T02:13:44.675Z"
      },
      {
        "duration": 5,
        "start_time": "2022-03-05T02:13:44.713Z"
      },
      {
        "duration": 9,
        "start_time": "2022-03-05T02:13:44.720Z"
      },
      {
        "duration": 5,
        "start_time": "2022-03-05T02:13:44.731Z"
      },
      {
        "duration": 6,
        "start_time": "2022-03-05T02:13:44.738Z"
      },
      {
        "duration": 7,
        "start_time": "2022-03-05T02:13:44.745Z"
      },
      {
        "duration": 5,
        "start_time": "2022-03-05T02:13:44.753Z"
      },
      {
        "duration": 60,
        "start_time": "2022-03-05T02:13:44.759Z"
      },
      {
        "duration": 15,
        "start_time": "2022-03-05T02:13:44.821Z"
      },
      {
        "duration": 15,
        "start_time": "2022-03-05T02:13:44.837Z"
      },
      {
        "duration": 3,
        "start_time": "2022-03-05T02:13:44.853Z"
      },
      {
        "duration": 3,
        "start_time": "2022-03-05T02:13:44.857Z"
      },
      {
        "duration": 3,
        "start_time": "2022-03-05T02:13:44.862Z"
      },
      {
        "duration": 4,
        "start_time": "2022-03-05T02:13:44.867Z"
      },
      {
        "duration": 39,
        "start_time": "2022-03-05T02:13:44.873Z"
      },
      {
        "duration": 4,
        "start_time": "2022-03-05T02:13:44.913Z"
      },
      {
        "duration": 20,
        "start_time": "2022-03-05T02:13:44.919Z"
      },
      {
        "duration": 5,
        "start_time": "2022-03-05T02:13:44.941Z"
      },
      {
        "duration": 6,
        "start_time": "2022-03-05T02:13:44.947Z"
      },
      {
        "duration": 6,
        "start_time": "2022-03-05T02:13:44.954Z"
      },
      {
        "duration": 9,
        "start_time": "2022-03-05T02:13:44.961Z"
      },
      {
        "duration": 39,
        "start_time": "2022-03-05T02:13:44.971Z"
      },
      {
        "duration": 8,
        "start_time": "2022-03-05T02:13:45.012Z"
      },
      {
        "duration": 8,
        "start_time": "2022-03-05T02:13:45.022Z"
      },
      {
        "duration": 10,
        "start_time": "2022-03-05T02:13:45.031Z"
      },
      {
        "duration": 6,
        "start_time": "2022-03-05T02:13:45.043Z"
      },
      {
        "duration": 3,
        "start_time": "2022-03-05T02:13:45.051Z"
      },
      {
        "duration": 4017,
        "start_time": "2022-03-05T02:13:49.274Z"
      },
      {
        "duration": 4158,
        "start_time": "2022-03-05T02:18:58.190Z"
      },
      {
        "duration": 4108,
        "start_time": "2022-03-05T02:19:07.878Z"
      },
      {
        "duration": 4,
        "start_time": "2022-03-05T02:22:27.876Z"
      },
      {
        "duration": 4,
        "start_time": "2022-03-05T02:22:46.103Z"
      },
      {
        "duration": 3,
        "start_time": "2022-03-05T02:23:23.071Z"
      },
      {
        "duration": 4160,
        "start_time": "2022-03-05T02:25:03.734Z"
      },
      {
        "duration": 4171,
        "start_time": "2022-03-05T02:26:01.630Z"
      },
      {
        "duration": 4,
        "start_time": "2022-03-05T02:27:07.297Z"
      },
      {
        "duration": 364,
        "start_time": "2022-03-05T02:27:20.163Z"
      },
      {
        "duration": -101,
        "start_time": "2022-03-05T02:27:20.630Z"
      },
      {
        "duration": 3,
        "start_time": "2022-03-05T02:27:25.032Z"
      },
      {
        "duration": 8,
        "start_time": "2022-03-05T02:27:25.090Z"
      },
      {
        "duration": 9,
        "start_time": "2022-03-05T02:28:39.294Z"
      },
      {
        "duration": 9,
        "start_time": "2022-03-05T02:29:12.726Z"
      },
      {
        "duration": 8,
        "start_time": "2022-03-05T02:30:24.230Z"
      },
      {
        "duration": 2,
        "start_time": "2022-03-05T02:30:24.289Z"
      },
      {
        "duration": 312,
        "start_time": "2022-03-05T02:30:36.081Z"
      },
      {
        "duration": 5,
        "start_time": "2022-03-05T02:30:47.322Z"
      },
      {
        "duration": 4,
        "start_time": "2022-03-05T02:33:51.298Z"
      },
      {
        "duration": 8,
        "start_time": "2022-03-05T02:34:33.591Z"
      },
      {
        "duration": 404,
        "start_time": "2022-03-05T02:35:27.527Z"
      },
      {
        "duration": 8,
        "start_time": "2022-03-05T02:35:32.240Z"
      },
      {
        "duration": 9,
        "start_time": "2022-03-05T02:35:38.086Z"
      },
      {
        "duration": 4,
        "start_time": "2022-03-05T02:37:12.048Z"
      },
      {
        "duration": 310,
        "start_time": "2022-03-05T02:37:34.918Z"
      },
      {
        "duration": 289,
        "start_time": "2022-03-05T02:37:44.600Z"
      },
      {
        "duration": 284,
        "start_time": "2022-03-05T02:38:48.318Z"
      },
      {
        "duration": 298,
        "start_time": "2022-03-05T02:38:54.446Z"
      },
      {
        "duration": 10,
        "start_time": "2022-03-05T02:39:03.291Z"
      },
      {
        "duration": 8,
        "start_time": "2022-03-05T02:40:15.194Z"
      },
      {
        "duration": 4,
        "start_time": "2022-03-05T02:40:20.377Z"
      },
      {
        "duration": 9,
        "start_time": "2022-03-05T02:41:22.026Z"
      },
      {
        "duration": 5,
        "start_time": "2022-03-05T02:41:23.670Z"
      },
      {
        "duration": 3,
        "start_time": "2022-03-05T02:42:12.609Z"
      },
      {
        "duration": 3,
        "start_time": "2022-03-05T02:42:35.331Z"
      },
      {
        "duration": 3,
        "start_time": "2022-03-05T02:42:45.094Z"
      },
      {
        "duration": 5,
        "start_time": "2022-03-05T02:45:02.065Z"
      },
      {
        "duration": 4,
        "start_time": "2022-03-05T02:46:07.449Z"
      },
      {
        "duration": 332,
        "start_time": "2022-03-05T02:47:32.016Z"
      },
      {
        "duration": 3,
        "start_time": "2022-03-05T02:49:09.981Z"
      },
      {
        "duration": 3,
        "start_time": "2022-03-05T02:49:31.354Z"
      },
      {
        "duration": 324,
        "start_time": "2022-03-05T02:49:57.631Z"
      },
      {
        "duration": 5,
        "start_time": "2022-03-05T02:50:12.048Z"
      },
      {
        "duration": 5,
        "start_time": "2022-03-05T02:53:35.145Z"
      },
      {
        "duration": 3,
        "start_time": "2022-03-05T02:53:38.325Z"
      },
      {
        "duration": 4,
        "start_time": "2022-03-05T02:53:56.559Z"
      },
      {
        "duration": 110,
        "start_time": "2022-03-05T02:54:14.530Z"
      },
      {
        "duration": 98,
        "start_time": "2022-03-05T02:54:22.918Z"
      },
      {
        "duration": 121,
        "start_time": "2022-03-05T02:54:39.450Z"
      },
      {
        "duration": 3,
        "start_time": "2022-03-05T02:54:47.668Z"
      },
      {
        "duration": 5,
        "start_time": "2022-03-05T02:55:02.605Z"
      },
      {
        "duration": 4,
        "start_time": "2022-03-05T02:55:30.753Z"
      },
      {
        "duration": 3,
        "start_time": "2022-03-05T02:56:04.661Z"
      },
      {
        "duration": 2,
        "start_time": "2022-03-05T02:56:08.622Z"
      },
      {
        "duration": 3,
        "start_time": "2022-03-05T02:56:12.350Z"
      },
      {
        "duration": 331,
        "start_time": "2022-03-05T02:57:10.442Z"
      },
      {
        "duration": 309,
        "start_time": "2022-03-05T02:57:26.743Z"
      },
      {
        "duration": 295,
        "start_time": "2022-03-05T02:57:34.456Z"
      },
      {
        "duration": 4,
        "start_time": "2022-03-05T02:57:48.177Z"
      },
      {
        "duration": 4,
        "start_time": "2022-03-05T02:58:01.527Z"
      },
      {
        "duration": 296,
        "start_time": "2022-03-05T03:00:01.135Z"
      },
      {
        "duration": 7,
        "start_time": "2022-03-05T03:00:52.477Z"
      },
      {
        "duration": 5,
        "start_time": "2022-03-05T03:01:02.863Z"
      },
      {
        "duration": 5,
        "start_time": "2022-03-05T03:01:13.621Z"
      },
      {
        "duration": 96,
        "start_time": "2022-03-05T03:02:01.388Z"
      },
      {
        "duration": 7304,
        "start_time": "2022-03-05T03:03:47.792Z"
      },
      {
        "duration": 7,
        "start_time": "2022-03-05T03:04:09.003Z"
      },
      {
        "duration": 6,
        "start_time": "2022-03-05T03:04:22.591Z"
      },
      {
        "duration": 107,
        "start_time": "2022-03-05T03:06:02.919Z"
      },
      {
        "duration": 241,
        "start_time": "2022-03-05T03:06:47.526Z"
      },
      {
        "duration": 2,
        "start_time": "2022-03-05T03:06:47.769Z"
      },
      {
        "duration": 16,
        "start_time": "2022-03-05T03:06:47.773Z"
      },
      {
        "duration": 12,
        "start_time": "2022-03-05T03:06:47.790Z"
      },
      {
        "duration": 29,
        "start_time": "2022-03-05T03:06:47.804Z"
      },
      {
        "duration": 4,
        "start_time": "2022-03-05T03:06:47.834Z"
      },
      {
        "duration": 17,
        "start_time": "2022-03-05T03:06:47.840Z"
      },
      {
        "duration": 6,
        "start_time": "2022-03-05T03:06:47.859Z"
      },
      {
        "duration": 6,
        "start_time": "2022-03-05T03:06:47.867Z"
      },
      {
        "duration": 9,
        "start_time": "2022-03-05T03:06:47.874Z"
      },
      {
        "duration": 9,
        "start_time": "2022-03-05T03:06:47.909Z"
      },
      {
        "duration": 7,
        "start_time": "2022-03-05T03:06:47.920Z"
      },
      {
        "duration": 7,
        "start_time": "2022-03-05T03:06:47.928Z"
      },
      {
        "duration": 6,
        "start_time": "2022-03-05T03:06:47.936Z"
      },
      {
        "duration": 4,
        "start_time": "2022-03-05T03:06:47.943Z"
      },
      {
        "duration": 14,
        "start_time": "2022-03-05T03:06:47.948Z"
      },
      {
        "duration": 4,
        "start_time": "2022-03-05T03:06:47.963Z"
      },
      {
        "duration": 47,
        "start_time": "2022-03-05T03:06:47.969Z"
      },
      {
        "duration": 13,
        "start_time": "2022-03-05T03:06:48.018Z"
      },
      {
        "duration": 5,
        "start_time": "2022-03-05T03:06:48.032Z"
      },
      {
        "duration": 12,
        "start_time": "2022-03-05T03:06:48.038Z"
      },
      {
        "duration": 6,
        "start_time": "2022-03-05T03:06:48.051Z"
      },
      {
        "duration": 6,
        "start_time": "2022-03-05T03:06:48.060Z"
      },
      {
        "duration": 18,
        "start_time": "2022-03-05T03:06:48.068Z"
      },
      {
        "duration": 31,
        "start_time": "2022-03-05T03:06:48.087Z"
      },
      {
        "duration": 6,
        "start_time": "2022-03-05T03:06:48.120Z"
      },
      {
        "duration": 9,
        "start_time": "2022-03-05T03:06:48.127Z"
      },
      {
        "duration": 4,
        "start_time": "2022-03-05T03:06:48.137Z"
      },
      {
        "duration": 9,
        "start_time": "2022-03-05T03:06:48.142Z"
      },
      {
        "duration": 5,
        "start_time": "2022-03-05T03:06:48.152Z"
      },
      {
        "duration": 8,
        "start_time": "2022-03-05T03:06:48.158Z"
      },
      {
        "duration": 7,
        "start_time": "2022-03-05T03:06:48.167Z"
      },
      {
        "duration": 35,
        "start_time": "2022-03-05T03:06:48.175Z"
      },
      {
        "duration": 32,
        "start_time": "2022-03-05T03:06:48.212Z"
      },
      {
        "duration": 14,
        "start_time": "2022-03-05T03:06:48.245Z"
      },
      {
        "duration": 15,
        "start_time": "2022-03-05T03:06:48.260Z"
      },
      {
        "duration": 3,
        "start_time": "2022-03-05T03:06:48.276Z"
      },
      {
        "duration": 33,
        "start_time": "2022-03-05T03:06:48.281Z"
      },
      {
        "duration": 12,
        "start_time": "2022-03-05T03:06:48.316Z"
      },
      {
        "duration": 5,
        "start_time": "2022-03-05T03:06:48.330Z"
      },
      {
        "duration": 5,
        "start_time": "2022-03-05T03:06:48.337Z"
      },
      {
        "duration": 4,
        "start_time": "2022-03-05T03:06:48.343Z"
      },
      {
        "duration": 5,
        "start_time": "2022-03-05T03:06:48.348Z"
      },
      {
        "duration": 12,
        "start_time": "2022-03-05T03:06:48.354Z"
      },
      {
        "duration": 7,
        "start_time": "2022-03-05T03:06:48.367Z"
      },
      {
        "duration": 36,
        "start_time": "2022-03-05T03:06:48.375Z"
      },
      {
        "duration": 8,
        "start_time": "2022-03-05T03:06:48.413Z"
      },
      {
        "duration": 6,
        "start_time": "2022-03-05T03:06:48.422Z"
      },
      {
        "duration": 5,
        "start_time": "2022-03-05T03:06:48.430Z"
      },
      {
        "duration": 5,
        "start_time": "2022-03-05T03:06:48.436Z"
      },
      {
        "duration": 4,
        "start_time": "2022-03-05T03:06:48.443Z"
      },
      {
        "duration": 6,
        "start_time": "2022-03-05T03:06:48.448Z"
      },
      {
        "duration": 6,
        "start_time": "2022-03-05T03:06:48.456Z"
      },
      {
        "duration": 48,
        "start_time": "2022-03-05T03:06:48.463Z"
      },
      {
        "duration": 8,
        "start_time": "2022-03-05T03:06:48.513Z"
      },
      {
        "duration": 9,
        "start_time": "2022-03-05T03:06:48.522Z"
      },
      {
        "duration": 4,
        "start_time": "2022-03-05T03:06:48.532Z"
      },
      {
        "duration": 4,
        "start_time": "2022-03-05T03:06:48.537Z"
      },
      {
        "duration": 4,
        "start_time": "2022-03-05T03:06:48.543Z"
      },
      {
        "duration": 7,
        "start_time": "2022-03-05T03:06:48.548Z"
      },
      {
        "duration": 6,
        "start_time": "2022-03-05T03:06:48.556Z"
      },
      {
        "duration": 5,
        "start_time": "2022-03-05T03:06:48.563Z"
      },
      {
        "duration": 8,
        "start_time": "2022-03-05T03:06:48.606Z"
      },
      {
        "duration": 15,
        "start_time": "2022-03-05T03:06:48.615Z"
      },
      {
        "duration": 313,
        "start_time": "2022-03-05T03:07:52.918Z"
      },
      {
        "duration": 7,
        "start_time": "2022-03-05T03:08:07.558Z"
      },
      {
        "duration": 326,
        "start_time": "2022-03-05T03:09:57.372Z"
      },
      {
        "duration": 291,
        "start_time": "2022-03-05T03:10:24.777Z"
      },
      {
        "duration": 523,
        "start_time": "2022-03-05T03:11:40.304Z"
      },
      {
        "duration": 8,
        "start_time": "2022-03-05T03:11:47.834Z"
      },
      {
        "duration": 13,
        "start_time": "2022-03-05T03:12:57.605Z"
      },
      {
        "duration": 5,
        "start_time": "2022-03-05T03:13:18.989Z"
      },
      {
        "duration": 8,
        "start_time": "2022-03-05T03:13:38.737Z"
      },
      {
        "duration": 4,
        "start_time": "2022-03-05T03:13:40.185Z"
      },
      {
        "duration": 5,
        "start_time": "2022-03-05T03:14:03.650Z"
      },
      {
        "duration": 5,
        "start_time": "2022-03-05T03:14:42.973Z"
      },
      {
        "duration": 4,
        "start_time": "2022-03-05T03:14:48.956Z"
      },
      {
        "duration": 14,
        "start_time": "2022-03-05T03:15:16.023Z"
      },
      {
        "duration": 12,
        "start_time": "2022-03-05T03:15:40.379Z"
      },
      {
        "duration": 13,
        "start_time": "2022-03-05T03:16:20.041Z"
      },
      {
        "duration": 10,
        "start_time": "2022-03-05T03:16:42.768Z"
      },
      {
        "duration": 4,
        "start_time": "2022-03-05T03:16:44.648Z"
      },
      {
        "duration": 8,
        "start_time": "2022-03-05T03:17:08.327Z"
      },
      {
        "duration": 4,
        "start_time": "2022-03-05T03:17:10.480Z"
      },
      {
        "duration": 4,
        "start_time": "2022-03-05T03:17:18.477Z"
      },
      {
        "duration": 5,
        "start_time": "2022-03-05T03:17:23.167Z"
      },
      {
        "duration": 346,
        "start_time": "2022-03-05T03:17:35.168Z"
      },
      {
        "duration": 6,
        "start_time": "2022-03-05T03:20:08.918Z"
      },
      {
        "duration": 5,
        "start_time": "2022-03-05T03:20:38.737Z"
      },
      {
        "duration": 4,
        "start_time": "2022-03-05T03:20:43.917Z"
      },
      {
        "duration": 3,
        "start_time": "2022-03-05T03:20:46.664Z"
      },
      {
        "duration": 9,
        "start_time": "2022-03-05T04:01:26.865Z"
      },
      {
        "duration": 4,
        "start_time": "2022-03-05T04:01:28.474Z"
      },
      {
        "duration": 11,
        "start_time": "2022-03-05T04:01:51.042Z"
      },
      {
        "duration": 3,
        "start_time": "2022-03-05T04:10:05.589Z"
      },
      {
        "duration": 4,
        "start_time": "2022-03-05T04:10:08.413Z"
      },
      {
        "duration": 6,
        "start_time": "2022-03-05T04:13:15.397Z"
      },
      {
        "duration": 6,
        "start_time": "2022-03-05T04:13:26.533Z"
      },
      {
        "duration": 3,
        "start_time": "2022-03-05T04:13:48.344Z"
      },
      {
        "duration": 8,
        "start_time": "2022-03-05T04:14:00.426Z"
      },
      {
        "duration": 4,
        "start_time": "2022-03-05T04:14:10.324Z"
      },
      {
        "duration": 4,
        "start_time": "2022-03-05T04:14:30.782Z"
      },
      {
        "duration": 3,
        "start_time": "2022-03-05T04:15:22.790Z"
      },
      {
        "duration": 5,
        "start_time": "2022-03-05T04:15:36.678Z"
      },
      {
        "duration": 4,
        "start_time": "2022-03-05T04:16:53.279Z"
      },
      {
        "duration": 8,
        "start_time": "2022-03-05T04:17:01.762Z"
      },
      {
        "duration": 9,
        "start_time": "2022-03-05T04:17:03.248Z"
      },
      {
        "duration": 4,
        "start_time": "2022-03-05T04:17:08.034Z"
      },
      {
        "duration": 11,
        "start_time": "2022-03-05T04:17:56.167Z"
      },
      {
        "duration": 7,
        "start_time": "2022-03-05T04:19:26.446Z"
      },
      {
        "duration": 10,
        "start_time": "2022-03-05T04:19:33.975Z"
      },
      {
        "duration": 7,
        "start_time": "2022-03-05T04:21:53.226Z"
      },
      {
        "duration": 6,
        "start_time": "2022-03-05T04:22:17.144Z"
      },
      {
        "duration": 3,
        "start_time": "2022-03-05T04:22:51.515Z"
      },
      {
        "duration": 3,
        "start_time": "2022-03-05T04:23:02.001Z"
      },
      {
        "duration": 4,
        "start_time": "2022-03-05T04:23:17.812Z"
      },
      {
        "duration": 8,
        "start_time": "2022-03-05T04:23:31.064Z"
      },
      {
        "duration": 291,
        "start_time": "2022-03-05T04:23:40.721Z"
      },
      {
        "duration": 3,
        "start_time": "2022-03-05T04:23:41.013Z"
      },
      {
        "duration": 12,
        "start_time": "2022-03-05T04:23:41.017Z"
      },
      {
        "duration": 9,
        "start_time": "2022-03-05T04:23:41.030Z"
      },
      {
        "duration": 28,
        "start_time": "2022-03-05T04:23:41.041Z"
      },
      {
        "duration": 4,
        "start_time": "2022-03-05T04:23:41.070Z"
      },
      {
        "duration": 31,
        "start_time": "2022-03-05T04:23:41.075Z"
      },
      {
        "duration": 6,
        "start_time": "2022-03-05T04:23:41.108Z"
      },
      {
        "duration": 18,
        "start_time": "2022-03-05T04:23:41.115Z"
      },
      {
        "duration": 9,
        "start_time": "2022-03-05T04:23:41.134Z"
      },
      {
        "duration": 6,
        "start_time": "2022-03-05T04:23:41.144Z"
      },
      {
        "duration": 12,
        "start_time": "2022-03-05T04:23:41.151Z"
      },
      {
        "duration": 6,
        "start_time": "2022-03-05T04:23:41.165Z"
      },
      {
        "duration": 6,
        "start_time": "2022-03-05T04:23:41.172Z"
      },
      {
        "duration": 3,
        "start_time": "2022-03-05T04:23:41.180Z"
      },
      {
        "duration": 14,
        "start_time": "2022-03-05T04:23:41.205Z"
      },
      {
        "duration": 4,
        "start_time": "2022-03-05T04:23:41.220Z"
      },
      {
        "duration": 5,
        "start_time": "2022-03-05T04:23:41.225Z"
      },
      {
        "duration": 7,
        "start_time": "2022-03-05T04:23:41.231Z"
      },
      {
        "duration": 4,
        "start_time": "2022-03-05T04:23:41.240Z"
      },
      {
        "duration": 8,
        "start_time": "2022-03-05T04:23:41.245Z"
      },
      {
        "duration": 5,
        "start_time": "2022-03-05T04:23:41.254Z"
      },
      {
        "duration": 6,
        "start_time": "2022-03-05T04:23:41.262Z"
      },
      {
        "duration": 17,
        "start_time": "2022-03-05T04:23:41.305Z"
      },
      {
        "duration": 5,
        "start_time": "2022-03-05T04:23:41.324Z"
      },
      {
        "duration": 4,
        "start_time": "2022-03-05T04:23:41.331Z"
      },
      {
        "duration": 8,
        "start_time": "2022-03-05T04:23:41.336Z"
      },
      {
        "duration": 3,
        "start_time": "2022-03-05T04:23:41.346Z"
      },
      {
        "duration": 8,
        "start_time": "2022-03-05T04:23:41.350Z"
      },
      {
        "duration": 5,
        "start_time": "2022-03-05T04:23:41.359Z"
      },
      {
        "duration": 7,
        "start_time": "2022-03-05T04:23:41.365Z"
      },
      {
        "duration": 5,
        "start_time": "2022-03-05T04:23:41.405Z"
      },
      {
        "duration": 5,
        "start_time": "2022-03-05T04:23:41.411Z"
      },
      {
        "duration": 29,
        "start_time": "2022-03-05T04:23:41.417Z"
      },
      {
        "duration": 13,
        "start_time": "2022-03-05T04:23:41.447Z"
      },
      {
        "duration": 14,
        "start_time": "2022-03-05T04:23:41.461Z"
      },
      {
        "duration": 3,
        "start_time": "2022-03-05T04:23:41.476Z"
      },
      {
        "duration": 6,
        "start_time": "2022-03-05T04:23:41.505Z"
      },
      {
        "duration": 5,
        "start_time": "2022-03-05T04:23:41.513Z"
      },
      {
        "duration": 6,
        "start_time": "2022-03-05T04:23:41.519Z"
      },
      {
        "duration": 5,
        "start_time": "2022-03-05T04:23:41.527Z"
      },
      {
        "duration": 4,
        "start_time": "2022-03-05T04:23:41.533Z"
      },
      {
        "duration": 5,
        "start_time": "2022-03-05T04:23:41.538Z"
      },
      {
        "duration": 11,
        "start_time": "2022-03-05T04:23:41.544Z"
      },
      {
        "duration": 4,
        "start_time": "2022-03-05T04:23:41.556Z"
      },
      {
        "duration": 50,
        "start_time": "2022-03-05T04:23:41.561Z"
      },
      {
        "duration": 5,
        "start_time": "2022-03-05T04:23:41.612Z"
      },
      {
        "duration": 5,
        "start_time": "2022-03-05T04:23:41.618Z"
      },
      {
        "duration": 5,
        "start_time": "2022-03-05T04:23:41.627Z"
      },
      {
        "duration": 5,
        "start_time": "2022-03-05T04:23:41.634Z"
      },
      {
        "duration": 5,
        "start_time": "2022-03-05T04:23:41.640Z"
      },
      {
        "duration": 7,
        "start_time": "2022-03-05T04:23:41.646Z"
      },
      {
        "duration": 5,
        "start_time": "2022-03-05T04:23:41.654Z"
      },
      {
        "duration": 8,
        "start_time": "2022-03-05T04:23:41.661Z"
      },
      {
        "duration": 6,
        "start_time": "2022-03-05T04:23:41.705Z"
      },
      {
        "duration": 8,
        "start_time": "2022-03-05T04:23:41.713Z"
      },
      {
        "duration": 18,
        "start_time": "2022-03-05T04:23:41.722Z"
      },
      {
        "duration": 5,
        "start_time": "2022-03-05T04:23:41.742Z"
      },
      {
        "duration": 2,
        "start_time": "2022-03-05T04:23:41.748Z"
      },
      {
        "duration": 4,
        "start_time": "2022-03-05T04:23:41.752Z"
      },
      {
        "duration": 4,
        "start_time": "2022-03-05T04:23:41.757Z"
      },
      {
        "duration": 6,
        "start_time": "2022-03-05T04:23:41.763Z"
      },
      {
        "duration": 36,
        "start_time": "2022-03-05T04:23:41.770Z"
      },
      {
        "duration": 5,
        "start_time": "2022-03-05T04:23:41.807Z"
      },
      {
        "duration": 6,
        "start_time": "2022-03-05T04:23:41.813Z"
      },
      {
        "duration": 5,
        "start_time": "2022-03-05T04:23:41.820Z"
      },
      {
        "duration": 5,
        "start_time": "2022-03-05T04:23:41.826Z"
      },
      {
        "duration": 6,
        "start_time": "2022-03-05T04:23:41.832Z"
      },
      {
        "duration": 8,
        "start_time": "2022-03-05T04:23:41.839Z"
      },
      {
        "duration": 9,
        "start_time": "2022-03-05T04:23:42.309Z"
      },
      {
        "duration": 5,
        "start_time": "2022-03-05T04:24:08.274Z"
      },
      {
        "duration": 5,
        "start_time": "2022-03-05T04:24:30.686Z"
      },
      {
        "duration": 5,
        "start_time": "2022-03-05T04:24:41.867Z"
      },
      {
        "duration": 3,
        "start_time": "2022-03-05T04:24:49.190Z"
      },
      {
        "duration": 4,
        "start_time": "2022-03-05T04:24:50.262Z"
      },
      {
        "duration": 5,
        "start_time": "2022-03-05T04:24:52.254Z"
      },
      {
        "duration": 5,
        "start_time": "2022-03-05T04:25:27.844Z"
      },
      {
        "duration": 5,
        "start_time": "2022-03-05T04:25:37.234Z"
      },
      {
        "duration": 3,
        "start_time": "2022-03-05T04:25:43.318Z"
      },
      {
        "duration": 12,
        "start_time": "2022-03-05T04:25:45.670Z"
      },
      {
        "duration": 7,
        "start_time": "2022-03-05T04:30:18.644Z"
      },
      {
        "duration": 5,
        "start_time": "2022-03-05T04:30:31.578Z"
      },
      {
        "duration": 7,
        "start_time": "2022-03-05T04:30:50.635Z"
      },
      {
        "duration": 7,
        "start_time": "2022-03-05T05:29:28.835Z"
      },
      {
        "duration": 3,
        "start_time": "2022-03-05T05:31:54.794Z"
      },
      {
        "duration": 7,
        "start_time": "2022-03-05T05:35:40.774Z"
      },
      {
        "duration": 825,
        "start_time": "2022-03-05T05:51:19.976Z"
      },
      {
        "duration": 3,
        "start_time": "2022-03-05T05:51:20.803Z"
      },
      {
        "duration": 18,
        "start_time": "2022-03-05T05:51:20.808Z"
      },
      {
        "duration": 10,
        "start_time": "2022-03-05T05:51:20.828Z"
      },
      {
        "duration": 17,
        "start_time": "2022-03-05T05:51:20.840Z"
      },
      {
        "duration": 5,
        "start_time": "2022-03-05T05:51:20.859Z"
      },
      {
        "duration": 54,
        "start_time": "2022-03-05T05:51:20.865Z"
      },
      {
        "duration": 5,
        "start_time": "2022-03-05T05:51:20.921Z"
      },
      {
        "duration": 5,
        "start_time": "2022-03-05T05:51:20.928Z"
      },
      {
        "duration": 7,
        "start_time": "2022-03-05T05:51:20.934Z"
      },
      {
        "duration": 5,
        "start_time": "2022-03-05T05:51:20.942Z"
      },
      {
        "duration": 8,
        "start_time": "2022-03-05T05:51:20.948Z"
      },
      {
        "duration": 6,
        "start_time": "2022-03-05T05:51:20.958Z"
      },
      {
        "duration": 6,
        "start_time": "2022-03-05T05:51:20.965Z"
      },
      {
        "duration": 3,
        "start_time": "2022-03-05T05:51:21.005Z"
      },
      {
        "duration": 14,
        "start_time": "2022-03-05T05:51:21.010Z"
      },
      {
        "duration": 4,
        "start_time": "2022-03-05T05:51:21.025Z"
      },
      {
        "duration": 5,
        "start_time": "2022-03-05T05:51:21.030Z"
      },
      {
        "duration": 10,
        "start_time": "2022-03-05T05:51:21.036Z"
      },
      {
        "duration": 6,
        "start_time": "2022-03-05T05:51:21.047Z"
      },
      {
        "duration": 9,
        "start_time": "2022-03-05T05:51:21.054Z"
      },
      {
        "duration": 42,
        "start_time": "2022-03-05T05:51:21.065Z"
      },
      {
        "duration": 6,
        "start_time": "2022-03-05T05:51:21.111Z"
      },
      {
        "duration": 18,
        "start_time": "2022-03-05T05:51:21.119Z"
      },
      {
        "duration": 6,
        "start_time": "2022-03-05T05:51:21.139Z"
      },
      {
        "duration": 5,
        "start_time": "2022-03-05T05:51:21.146Z"
      },
      {
        "duration": 8,
        "start_time": "2022-03-05T05:51:21.152Z"
      },
      {
        "duration": 7,
        "start_time": "2022-03-05T05:51:21.161Z"
      },
      {
        "duration": 36,
        "start_time": "2022-03-05T05:51:21.170Z"
      },
      {
        "duration": 3,
        "start_time": "2022-03-05T05:51:21.207Z"
      },
      {
        "duration": 6,
        "start_time": "2022-03-05T05:51:21.212Z"
      },
      {
        "duration": 7,
        "start_time": "2022-03-05T05:51:21.219Z"
      },
      {
        "duration": 6,
        "start_time": "2022-03-05T05:51:21.227Z"
      },
      {
        "duration": 25,
        "start_time": "2022-03-05T05:51:21.234Z"
      },
      {
        "duration": 14,
        "start_time": "2022-03-05T05:51:21.260Z"
      },
      {
        "duration": 44,
        "start_time": "2022-03-05T05:51:21.275Z"
      },
      {
        "duration": 2,
        "start_time": "2022-03-05T05:51:21.321Z"
      },
      {
        "duration": 8,
        "start_time": "2022-03-05T05:51:21.324Z"
      },
      {
        "duration": 7,
        "start_time": "2022-03-05T05:51:21.333Z"
      },
      {
        "duration": 8,
        "start_time": "2022-03-05T05:51:21.341Z"
      },
      {
        "duration": 7,
        "start_time": "2022-03-05T05:51:21.350Z"
      },
      {
        "duration": 4,
        "start_time": "2022-03-05T05:51:21.358Z"
      },
      {
        "duration": 7,
        "start_time": "2022-03-05T05:51:21.363Z"
      },
      {
        "duration": 35,
        "start_time": "2022-03-05T05:51:21.372Z"
      },
      {
        "duration": 4,
        "start_time": "2022-03-05T05:51:21.408Z"
      },
      {
        "duration": 14,
        "start_time": "2022-03-05T05:51:21.413Z"
      },
      {
        "duration": 5,
        "start_time": "2022-03-05T05:51:21.428Z"
      },
      {
        "duration": 6,
        "start_time": "2022-03-05T05:51:21.434Z"
      },
      {
        "duration": 5,
        "start_time": "2022-03-05T05:51:21.441Z"
      },
      {
        "duration": 5,
        "start_time": "2022-03-05T05:51:21.447Z"
      },
      {
        "duration": 4,
        "start_time": "2022-03-05T05:51:21.454Z"
      },
      {
        "duration": 6,
        "start_time": "2022-03-05T05:51:21.460Z"
      },
      {
        "duration": 5,
        "start_time": "2022-03-05T05:51:21.505Z"
      },
      {
        "duration": 9,
        "start_time": "2022-03-05T05:51:21.511Z"
      },
      {
        "duration": 6,
        "start_time": "2022-03-05T05:51:21.521Z"
      },
      {
        "duration": 7,
        "start_time": "2022-03-05T05:51:21.528Z"
      },
      {
        "duration": 17,
        "start_time": "2022-03-05T05:51:21.537Z"
      },
      {
        "duration": 5,
        "start_time": "2022-03-05T05:51:21.555Z"
      },
      {
        "duration": 3,
        "start_time": "2022-03-05T05:51:21.561Z"
      },
      {
        "duration": 5,
        "start_time": "2022-03-05T05:51:21.565Z"
      },
      {
        "duration": 36,
        "start_time": "2022-03-05T05:51:21.571Z"
      },
      {
        "duration": 4,
        "start_time": "2022-03-05T05:51:21.608Z"
      },
      {
        "duration": 8,
        "start_time": "2022-03-05T05:51:21.614Z"
      },
      {
        "duration": 5,
        "start_time": "2022-03-05T05:51:21.623Z"
      },
      {
        "duration": 6,
        "start_time": "2022-03-05T05:51:21.629Z"
      },
      {
        "duration": 5,
        "start_time": "2022-03-05T05:51:21.637Z"
      },
      {
        "duration": 5,
        "start_time": "2022-03-05T05:51:21.645Z"
      },
      {
        "duration": 6,
        "start_time": "2022-03-05T05:51:21.652Z"
      },
      {
        "duration": 46,
        "start_time": "2022-03-05T05:51:21.659Z"
      },
      {
        "duration": 4,
        "start_time": "2022-03-05T05:51:21.707Z"
      },
      {
        "duration": 11,
        "start_time": "2022-03-05T05:51:21.712Z"
      },
      {
        "duration": 6,
        "start_time": "2022-03-05T05:51:21.725Z"
      },
      {
        "duration": 2,
        "start_time": "2022-03-05T05:51:21.733Z"
      },
      {
        "duration": 7,
        "start_time": "2022-03-05T05:51:21.737Z"
      },
      {
        "duration": 5,
        "start_time": "2022-03-05T05:51:21.745Z"
      },
      {
        "duration": 4,
        "start_time": "2022-03-05T05:51:21.751Z"
      },
      {
        "duration": 5,
        "start_time": "2022-03-05T05:51:21.756Z"
      },
      {
        "duration": 5,
        "start_time": "2022-03-05T05:51:21.762Z"
      },
      {
        "duration": 3,
        "start_time": "2022-03-05T05:51:21.769Z"
      },
      {
        "duration": 10,
        "start_time": "2022-03-05T05:51:21.805Z"
      },
      {
        "duration": 9,
        "start_time": "2022-03-05T05:51:21.817Z"
      },
      {
        "duration": 10,
        "start_time": "2022-03-05T05:51:21.828Z"
      },
      {
        "duration": 3,
        "start_time": "2022-03-05T05:51:21.839Z"
      },
      {
        "duration": 5,
        "start_time": "2022-03-05T05:54:11.785Z"
      },
      {
        "duration": 14,
        "start_time": "2022-03-05T05:54:11.791Z"
      },
      {
        "duration": 10,
        "start_time": "2022-03-05T05:54:11.807Z"
      },
      {
        "duration": 9,
        "start_time": "2022-03-05T05:54:11.818Z"
      },
      {
        "duration": 6,
        "start_time": "2022-03-05T05:57:18.276Z"
      },
      {
        "duration": 7,
        "start_time": "2022-03-05T05:57:18.284Z"
      },
      {
        "duration": 172986,
        "start_time": "2022-03-05T05:57:18.309Z"
      },
      {
        "duration": 5,
        "start_time": "2022-03-05T06:00:11.337Z"
      },
      {
        "duration": 246,
        "start_time": "2022-03-05T06:06:57.508Z"
      },
      {
        "duration": 3,
        "start_time": "2022-03-05T06:06:57.756Z"
      },
      {
        "duration": 13,
        "start_time": "2022-03-05T06:06:57.760Z"
      },
      {
        "duration": 12,
        "start_time": "2022-03-05T06:06:57.775Z"
      },
      {
        "duration": 17,
        "start_time": "2022-03-05T06:06:57.789Z"
      },
      {
        "duration": 4,
        "start_time": "2022-03-05T06:06:57.808Z"
      },
      {
        "duration": 20,
        "start_time": "2022-03-05T06:06:57.813Z"
      },
      {
        "duration": 6,
        "start_time": "2022-03-05T06:06:57.834Z"
      },
      {
        "duration": 4,
        "start_time": "2022-03-05T06:06:57.841Z"
      },
      {
        "duration": 8,
        "start_time": "2022-03-05T06:06:57.847Z"
      },
      {
        "duration": 7,
        "start_time": "2022-03-05T06:06:57.856Z"
      },
      {
        "duration": 9,
        "start_time": "2022-03-05T06:06:57.865Z"
      },
      {
        "duration": 35,
        "start_time": "2022-03-05T06:06:57.875Z"
      },
      {
        "duration": 6,
        "start_time": "2022-03-05T06:06:57.911Z"
      },
      {
        "duration": 3,
        "start_time": "2022-03-05T06:06:57.919Z"
      },
      {
        "duration": 16,
        "start_time": "2022-03-05T06:06:57.924Z"
      },
      {
        "duration": 4,
        "start_time": "2022-03-05T06:06:57.944Z"
      },
      {
        "duration": 9,
        "start_time": "2022-03-05T06:06:57.950Z"
      },
      {
        "duration": 9,
        "start_time": "2022-03-05T06:06:57.960Z"
      },
      {
        "duration": 36,
        "start_time": "2022-03-05T06:06:57.970Z"
      },
      {
        "duration": 8,
        "start_time": "2022-03-05T06:06:58.007Z"
      },
      {
        "duration": 6,
        "start_time": "2022-03-05T06:06:58.017Z"
      },
      {
        "duration": 6,
        "start_time": "2022-03-05T06:06:58.025Z"
      },
      {
        "duration": 18,
        "start_time": "2022-03-05T06:06:58.033Z"
      },
      {
        "duration": 6,
        "start_time": "2022-03-05T06:06:58.053Z"
      },
      {
        "duration": 4,
        "start_time": "2022-03-05T06:06:58.061Z"
      },
      {
        "duration": 41,
        "start_time": "2022-03-05T06:06:58.067Z"
      },
      {
        "duration": 4,
        "start_time": "2022-03-05T06:06:58.109Z"
      },
      {
        "duration": 8,
        "start_time": "2022-03-05T06:06:58.114Z"
      },
      {
        "duration": 5,
        "start_time": "2022-03-05T06:06:58.123Z"
      },
      {
        "duration": 8,
        "start_time": "2022-03-05T06:06:58.129Z"
      },
      {
        "duration": 9,
        "start_time": "2022-03-05T06:06:58.138Z"
      },
      {
        "duration": 6,
        "start_time": "2022-03-05T06:06:58.148Z"
      },
      {
        "duration": 54,
        "start_time": "2022-03-05T06:06:58.155Z"
      },
      {
        "duration": 14,
        "start_time": "2022-03-05T06:06:58.211Z"
      },
      {
        "duration": 14,
        "start_time": "2022-03-05T06:06:58.226Z"
      },
      {
        "duration": 3,
        "start_time": "2022-03-05T06:06:58.241Z"
      },
      {
        "duration": 7,
        "start_time": "2022-03-05T06:06:58.245Z"
      },
      {
        "duration": 5,
        "start_time": "2022-03-05T06:06:58.253Z"
      },
      {
        "duration": 7,
        "start_time": "2022-03-05T06:06:58.260Z"
      },
      {
        "duration": 7,
        "start_time": "2022-03-05T06:06:58.268Z"
      },
      {
        "duration": 30,
        "start_time": "2022-03-05T06:06:58.276Z"
      },
      {
        "duration": 6,
        "start_time": "2022-03-05T06:06:58.307Z"
      },
      {
        "duration": 12,
        "start_time": "2022-03-05T06:06:58.314Z"
      },
      {
        "duration": 4,
        "start_time": "2022-03-05T06:06:58.327Z"
      },
      {
        "duration": 15,
        "start_time": "2022-03-05T06:06:58.332Z"
      },
      {
        "duration": 5,
        "start_time": "2022-03-05T06:06:58.348Z"
      },
      {
        "duration": 8,
        "start_time": "2022-03-05T06:06:58.354Z"
      },
      {
        "duration": 7,
        "start_time": "2022-03-05T06:06:58.363Z"
      },
      {
        "duration": 37,
        "start_time": "2022-03-05T06:06:58.372Z"
      },
      {
        "duration": 6,
        "start_time": "2022-03-05T06:06:58.411Z"
      },
      {
        "duration": 7,
        "start_time": "2022-03-05T06:06:58.418Z"
      },
      {
        "duration": 6,
        "start_time": "2022-03-05T06:06:58.426Z"
      },
      {
        "duration": 6,
        "start_time": "2022-03-05T06:06:58.434Z"
      },
      {
        "duration": 8,
        "start_time": "2022-03-05T06:06:58.441Z"
      },
      {
        "duration": 9,
        "start_time": "2022-03-05T06:06:58.450Z"
      },
      {
        "duration": 60,
        "start_time": "2022-03-05T06:06:58.460Z"
      },
      {
        "duration": 7,
        "start_time": "2022-03-05T06:06:58.521Z"
      },
      {
        "duration": 14,
        "start_time": "2022-03-05T06:06:58.530Z"
      },
      {
        "duration": 6,
        "start_time": "2022-03-05T06:06:58.545Z"
      },
      {
        "duration": 8,
        "start_time": "2022-03-05T06:06:58.552Z"
      },
      {
        "duration": 4,
        "start_time": "2022-03-05T06:06:58.566Z"
      },
      {
        "duration": 7,
        "start_time": "2022-03-05T06:06:58.572Z"
      },
      {
        "duration": 28,
        "start_time": "2022-03-05T06:06:58.580Z"
      },
      {
        "duration": 5,
        "start_time": "2022-03-05T06:06:58.610Z"
      },
      {
        "duration": 7,
        "start_time": "2022-03-05T06:06:58.616Z"
      },
      {
        "duration": 5,
        "start_time": "2022-03-05T06:06:58.624Z"
      },
      {
        "duration": 8,
        "start_time": "2022-03-05T06:06:58.630Z"
      },
      {
        "duration": 7,
        "start_time": "2022-03-05T06:06:58.639Z"
      },
      {
        "duration": 3,
        "start_time": "2022-03-05T06:06:58.648Z"
      },
      {
        "duration": 13,
        "start_time": "2022-03-05T06:06:58.652Z"
      },
      {
        "duration": 8,
        "start_time": "2022-03-05T06:06:58.666Z"
      },
      {
        "duration": 3,
        "start_time": "2022-03-05T06:06:58.705Z"
      },
      {
        "duration": 7,
        "start_time": "2022-03-05T06:06:58.709Z"
      },
      {
        "duration": 5,
        "start_time": "2022-03-05T06:06:58.717Z"
      },
      {
        "duration": 6,
        "start_time": "2022-03-05T06:06:58.723Z"
      },
      {
        "duration": 6,
        "start_time": "2022-03-05T06:06:58.730Z"
      },
      {
        "duration": 6,
        "start_time": "2022-03-05T06:06:58.737Z"
      },
      {
        "duration": 3,
        "start_time": "2022-03-05T06:06:58.744Z"
      },
      {
        "duration": 12,
        "start_time": "2022-03-05T06:06:58.749Z"
      },
      {
        "duration": 6,
        "start_time": "2022-03-05T06:06:58.762Z"
      },
      {
        "duration": 36,
        "start_time": "2022-03-05T06:06:58.770Z"
      },
      {
        "duration": 3,
        "start_time": "2022-03-05T06:06:58.807Z"
      },
      {
        "duration": 4,
        "start_time": "2022-03-05T06:09:47.990Z"
      },
      {
        "duration": 2,
        "start_time": "2022-03-05T06:09:48.005Z"
      },
      {
        "duration": 4,
        "start_time": "2022-03-05T06:09:48.009Z"
      },
      {
        "duration": 4,
        "start_time": "2022-03-05T06:09:48.014Z"
      },
      {
        "duration": 6,
        "start_time": "2022-03-05T06:12:44.351Z"
      },
      {
        "duration": 173519,
        "start_time": "2022-03-05T06:12:44.365Z"
      },
      {
        "duration": 20,
        "start_time": "2022-03-05T06:15:37.886Z"
      },
      {
        "duration": 17,
        "start_time": "2022-03-05T06:17:50.019Z"
      },
      {
        "duration": 12,
        "start_time": "2022-03-05T06:17:51.591Z"
      },
      {
        "duration": 7,
        "start_time": "2022-03-05T06:17:53.426Z"
      },
      {
        "duration": 7,
        "start_time": "2022-03-05T06:18:20.940Z"
      },
      {
        "duration": 20,
        "start_time": "2022-03-05T06:39:31.220Z"
      },
      {
        "duration": 12,
        "start_time": "2022-03-05T06:39:31.242Z"
      },
      {
        "duration": 6,
        "start_time": "2022-03-05T06:41:26.652Z"
      },
      {
        "duration": 22,
        "start_time": "2022-03-05T06:41:37.493Z"
      },
      {
        "duration": 7785,
        "start_time": "2022-03-05T06:42:48.942Z"
      },
      {
        "duration": 13,
        "start_time": "2022-03-05T06:43:34.306Z"
      },
      {
        "duration": 10,
        "start_time": "2022-03-05T06:54:43.196Z"
      },
      {
        "duration": 10,
        "start_time": "2022-03-05T06:55:12.038Z"
      },
      {
        "duration": 292,
        "start_time": "2022-03-05T06:56:00.419Z"
      },
      {
        "duration": 7,
        "start_time": "2022-03-05T06:56:08.413Z"
      },
      {
        "duration": 6,
        "start_time": "2022-03-05T06:56:30.623Z"
      },
      {
        "duration": 6,
        "start_time": "2022-03-05T06:56:43.344Z"
      },
      {
        "duration": 5,
        "start_time": "2022-03-05T06:57:21.870Z"
      },
      {
        "duration": 5,
        "start_time": "2022-03-05T06:57:31.478Z"
      },
      {
        "duration": 6,
        "start_time": "2022-03-05T06:57:42.808Z"
      },
      {
        "duration": 5,
        "start_time": "2022-03-05T06:58:41.568Z"
      },
      {
        "duration": 290,
        "start_time": "2022-03-05T07:03:13.096Z"
      },
      {
        "duration": 320,
        "start_time": "2022-03-05T07:03:19.775Z"
      },
      {
        "duration": 289,
        "start_time": "2022-03-05T07:04:29.088Z"
      },
      {
        "duration": 6,
        "start_time": "2022-03-05T07:04:39.105Z"
      },
      {
        "duration": 7,
        "start_time": "2022-03-05T07:06:10.218Z"
      },
      {
        "duration": 6,
        "start_time": "2022-03-05T07:06:30.190Z"
      },
      {
        "duration": 7,
        "start_time": "2022-03-05T07:06:36.878Z"
      },
      {
        "duration": 6,
        "start_time": "2022-03-05T07:06:50.441Z"
      },
      {
        "duration": 9,
        "start_time": "2022-03-05T07:12:20.502Z"
      },
      {
        "duration": 6,
        "start_time": "2022-03-05T07:12:32.206Z"
      },
      {
        "duration": 7,
        "start_time": "2022-03-05T07:19:11.909Z"
      },
      {
        "duration": 302,
        "start_time": "2022-03-05T07:21:43.253Z"
      },
      {
        "duration": 305,
        "start_time": "2022-03-05T07:22:02.971Z"
      },
      {
        "duration": 313,
        "start_time": "2022-03-05T07:22:19.293Z"
      },
      {
        "duration": 303,
        "start_time": "2022-03-05T07:23:01.345Z"
      },
      {
        "duration": 311,
        "start_time": "2022-03-05T07:23:24.430Z"
      },
      {
        "duration": 8,
        "start_time": "2022-03-05T07:23:40.504Z"
      },
      {
        "duration": 330,
        "start_time": "2022-03-05T07:24:09.373Z"
      },
      {
        "duration": 8,
        "start_time": "2022-03-05T07:24:23.298Z"
      },
      {
        "duration": 8,
        "start_time": "2022-03-05T07:24:41.615Z"
      },
      {
        "duration": 7,
        "start_time": "2022-03-05T07:24:48.079Z"
      },
      {
        "duration": 9,
        "start_time": "2022-03-05T07:37:09.566Z"
      },
      {
        "duration": 8,
        "start_time": "2022-03-05T07:40:13.025Z"
      },
      {
        "duration": 125,
        "start_time": "2022-03-05T07:40:39.183Z"
      },
      {
        "duration": 317,
        "start_time": "2022-03-05T07:40:59.493Z"
      },
      {
        "duration": 8,
        "start_time": "2022-03-05T07:41:05.765Z"
      },
      {
        "duration": 8,
        "start_time": "2022-03-05T07:41:13.614Z"
      },
      {
        "duration": 10,
        "start_time": "2022-03-05T08:02:25.937Z"
      },
      {
        "duration": 300,
        "start_time": "2022-03-05T08:02:31.511Z"
      },
      {
        "duration": 3,
        "start_time": "2022-03-05T08:02:31.813Z"
      },
      {
        "duration": 17,
        "start_time": "2022-03-05T08:02:31.818Z"
      },
      {
        "duration": 10,
        "start_time": "2022-03-05T08:02:31.837Z"
      },
      {
        "duration": 18,
        "start_time": "2022-03-05T08:02:31.849Z"
      },
      {
        "duration": 5,
        "start_time": "2022-03-05T08:02:31.868Z"
      },
      {
        "duration": 51,
        "start_time": "2022-03-05T08:02:31.875Z"
      },
      {
        "duration": 8,
        "start_time": "2022-03-05T08:02:31.929Z"
      },
      {
        "duration": 6,
        "start_time": "2022-03-05T08:02:31.938Z"
      },
      {
        "duration": 13,
        "start_time": "2022-03-05T08:02:31.946Z"
      },
      {
        "duration": 7,
        "start_time": "2022-03-05T08:02:31.961Z"
      },
      {
        "duration": 40,
        "start_time": "2022-03-05T08:02:31.970Z"
      },
      {
        "duration": 9,
        "start_time": "2022-03-05T08:02:32.011Z"
      },
      {
        "duration": 7,
        "start_time": "2022-03-05T08:02:32.022Z"
      },
      {
        "duration": 5,
        "start_time": "2022-03-05T08:02:32.031Z"
      },
      {
        "duration": 21,
        "start_time": "2022-03-05T08:02:32.037Z"
      },
      {
        "duration": 4,
        "start_time": "2022-03-05T08:02:32.060Z"
      },
      {
        "duration": 10,
        "start_time": "2022-03-05T08:02:32.066Z"
      },
      {
        "duration": 36,
        "start_time": "2022-03-05T08:02:32.077Z"
      },
      {
        "duration": 6,
        "start_time": "2022-03-05T08:02:32.114Z"
      },
      {
        "duration": 9,
        "start_time": "2022-03-05T08:02:32.121Z"
      },
      {
        "duration": 6,
        "start_time": "2022-03-05T08:02:32.132Z"
      },
      {
        "duration": 8,
        "start_time": "2022-03-05T08:02:32.142Z"
      },
      {
        "duration": 53,
        "start_time": "2022-03-05T08:02:32.152Z"
      },
      {
        "duration": 7,
        "start_time": "2022-03-05T08:02:32.207Z"
      },
      {
        "duration": 5,
        "start_time": "2022-03-05T08:02:32.216Z"
      },
      {
        "duration": 13,
        "start_time": "2022-03-05T08:02:32.222Z"
      },
      {
        "duration": 7,
        "start_time": "2022-03-05T08:02:32.236Z"
      },
      {
        "duration": 10,
        "start_time": "2022-03-05T08:02:32.245Z"
      },
      {
        "duration": 8,
        "start_time": "2022-03-05T08:02:32.256Z"
      },
      {
        "duration": 9,
        "start_time": "2022-03-05T08:02:32.265Z"
      },
      {
        "duration": 30,
        "start_time": "2022-03-05T08:02:32.276Z"
      },
      {
        "duration": 7,
        "start_time": "2022-03-05T08:02:32.308Z"
      },
      {
        "duration": 28,
        "start_time": "2022-03-05T08:02:32.317Z"
      },
      {
        "duration": 14,
        "start_time": "2022-03-05T08:02:32.346Z"
      },
      {
        "duration": 14,
        "start_time": "2022-03-05T08:02:32.362Z"
      },
      {
        "duration": 28,
        "start_time": "2022-03-05T08:02:32.378Z"
      },
      {
        "duration": 6,
        "start_time": "2022-03-05T08:02:32.407Z"
      },
      {
        "duration": 6,
        "start_time": "2022-03-05T08:02:32.415Z"
      },
      {
        "duration": 7,
        "start_time": "2022-03-05T08:02:32.422Z"
      },
      {
        "duration": 7,
        "start_time": "2022-03-05T08:02:32.430Z"
      },
      {
        "duration": 4,
        "start_time": "2022-03-05T08:02:32.439Z"
      },
      {
        "duration": 7,
        "start_time": "2022-03-05T08:02:32.445Z"
      },
      {
        "duration": 52,
        "start_time": "2022-03-05T08:02:32.453Z"
      },
      {
        "duration": 4,
        "start_time": "2022-03-05T08:02:32.507Z"
      },
      {
        "duration": 17,
        "start_time": "2022-03-05T08:02:32.512Z"
      },
      {
        "duration": 6,
        "start_time": "2022-03-05T08:02:32.531Z"
      },
      {
        "duration": 6,
        "start_time": "2022-03-05T08:02:32.539Z"
      },
      {
        "duration": 11,
        "start_time": "2022-03-05T08:02:32.547Z"
      },
      {
        "duration": 9,
        "start_time": "2022-03-05T08:02:32.559Z"
      },
      {
        "duration": 36,
        "start_time": "2022-03-05T08:02:32.570Z"
      },
      {
        "duration": 5,
        "start_time": "2022-03-05T08:02:32.607Z"
      },
      {
        "duration": 8,
        "start_time": "2022-03-05T08:02:32.614Z"
      },
      {
        "duration": 7,
        "start_time": "2022-03-05T08:02:32.623Z"
      },
      {
        "duration": 7,
        "start_time": "2022-03-05T08:02:32.632Z"
      },
      {
        "duration": 8,
        "start_time": "2022-03-05T08:02:32.641Z"
      },
      {
        "duration": 22,
        "start_time": "2022-03-05T08:02:32.650Z"
      },
      {
        "duration": 18,
        "start_time": "2022-03-05T08:02:51.419Z"
      },
      {
        "duration": 8,
        "start_time": "2022-03-05T08:03:05.908Z"
      },
      {
        "duration": 11,
        "start_time": "2022-03-05T08:03:09.485Z"
      },
      {
        "duration": 306,
        "start_time": "2022-03-05T08:03:58.370Z"
      },
      {
        "duration": 297,
        "start_time": "2022-03-05T08:04:16.196Z"
      },
      {
        "duration": 3,
        "start_time": "2022-03-05T08:04:16.495Z"
      },
      {
        "duration": 17,
        "start_time": "2022-03-05T08:04:16.500Z"
      },
      {
        "duration": 8,
        "start_time": "2022-03-05T08:04:16.520Z"
      },
      {
        "duration": 17,
        "start_time": "2022-03-05T08:04:16.529Z"
      },
      {
        "duration": 4,
        "start_time": "2022-03-05T08:04:16.548Z"
      },
      {
        "duration": 19,
        "start_time": "2022-03-05T08:04:16.553Z"
      },
      {
        "duration": 5,
        "start_time": "2022-03-05T08:04:16.574Z"
      },
      {
        "duration": 26,
        "start_time": "2022-03-05T08:04:16.581Z"
      },
      {
        "duration": 13,
        "start_time": "2022-03-05T08:04:16.608Z"
      },
      {
        "duration": 5,
        "start_time": "2022-03-05T08:04:16.623Z"
      },
      {
        "duration": 8,
        "start_time": "2022-03-05T08:04:16.630Z"
      },
      {
        "duration": 12,
        "start_time": "2022-03-05T08:04:16.639Z"
      },
      {
        "duration": 7,
        "start_time": "2022-03-05T08:04:16.653Z"
      },
      {
        "duration": 7,
        "start_time": "2022-03-05T08:04:16.661Z"
      },
      {
        "duration": 19,
        "start_time": "2022-03-05T08:04:16.669Z"
      },
      {
        "duration": 17,
        "start_time": "2022-03-05T08:04:16.689Z"
      },
      {
        "duration": 5,
        "start_time": "2022-03-05T08:04:16.707Z"
      },
      {
        "duration": 13,
        "start_time": "2022-03-05T08:04:16.713Z"
      },
      {
        "duration": 5,
        "start_time": "2022-03-05T08:04:16.727Z"
      },
      {
        "duration": 13,
        "start_time": "2022-03-05T08:04:16.733Z"
      },
      {
        "duration": 9,
        "start_time": "2022-03-05T08:04:16.747Z"
      },
      {
        "duration": 9,
        "start_time": "2022-03-05T08:04:16.758Z"
      },
      {
        "duration": 45,
        "start_time": "2022-03-05T08:04:16.769Z"
      },
      {
        "duration": 7,
        "start_time": "2022-03-05T08:04:16.816Z"
      },
      {
        "duration": 7,
        "start_time": "2022-03-05T08:04:16.825Z"
      },
      {
        "duration": 11,
        "start_time": "2022-03-05T08:04:16.834Z"
      },
      {
        "duration": 7,
        "start_time": "2022-03-05T08:04:16.846Z"
      },
      {
        "duration": 11,
        "start_time": "2022-03-05T08:04:16.854Z"
      },
      {
        "duration": 7,
        "start_time": "2022-03-05T08:04:16.866Z"
      },
      {
        "duration": 7,
        "start_time": "2022-03-05T08:04:16.874Z"
      },
      {
        "duration": 23,
        "start_time": "2022-03-05T08:04:16.883Z"
      },
      {
        "duration": 5,
        "start_time": "2022-03-05T08:04:16.908Z"
      },
      {
        "duration": 27,
        "start_time": "2022-03-05T08:04:16.915Z"
      },
      {
        "duration": 15,
        "start_time": "2022-03-05T08:04:16.944Z"
      },
      {
        "duration": 15,
        "start_time": "2022-03-05T08:04:16.960Z"
      },
      {
        "duration": 30,
        "start_time": "2022-03-05T08:04:16.977Z"
      },
      {
        "duration": 8,
        "start_time": "2022-03-05T08:04:17.009Z"
      },
      {
        "duration": 8,
        "start_time": "2022-03-05T08:04:17.018Z"
      },
      {
        "duration": 7,
        "start_time": "2022-03-05T08:04:17.027Z"
      },
      {
        "duration": 6,
        "start_time": "2022-03-05T08:04:17.035Z"
      },
      {
        "duration": 3,
        "start_time": "2022-03-05T08:04:17.044Z"
      },
      {
        "duration": 9,
        "start_time": "2022-03-05T08:04:17.049Z"
      },
      {
        "duration": 12,
        "start_time": "2022-03-05T08:04:17.059Z"
      },
      {
        "duration": 4,
        "start_time": "2022-03-05T08:04:17.073Z"
      },
      {
        "duration": 41,
        "start_time": "2022-03-05T08:04:17.078Z"
      },
      {
        "duration": 8,
        "start_time": "2022-03-05T08:04:17.120Z"
      },
      {
        "duration": 8,
        "start_time": "2022-03-05T08:04:17.130Z"
      },
      {
        "duration": 9,
        "start_time": "2022-03-05T08:04:17.139Z"
      },
      {
        "duration": 6,
        "start_time": "2022-03-05T08:04:17.149Z"
      },
      {
        "duration": 5,
        "start_time": "2022-03-05T08:04:17.156Z"
      },
      {
        "duration": 8,
        "start_time": "2022-03-05T08:04:17.162Z"
      },
      {
        "duration": 35,
        "start_time": "2022-03-05T08:04:17.171Z"
      },
      {
        "duration": 5,
        "start_time": "2022-03-05T08:04:17.208Z"
      },
      {
        "duration": 8,
        "start_time": "2022-03-05T08:04:17.214Z"
      },
      {
        "duration": 14,
        "start_time": "2022-03-05T08:04:17.223Z"
      },
      {
        "duration": 13,
        "start_time": "2022-03-05T08:04:17.239Z"
      },
      {
        "duration": 9,
        "start_time": "2022-03-05T08:04:17.255Z"
      },
      {
        "duration": 6,
        "start_time": "2022-03-05T08:04:17.266Z"
      },
      {
        "duration": 17,
        "start_time": "2022-03-05T08:04:17.274Z"
      },
      {
        "duration": 14,
        "start_time": "2022-03-05T08:04:17.292Z"
      },
      {
        "duration": 4,
        "start_time": "2022-03-05T08:04:17.307Z"
      },
      {
        "duration": 7,
        "start_time": "2022-03-05T08:04:17.313Z"
      },
      {
        "duration": 5,
        "start_time": "2022-03-05T08:04:17.321Z"
      },
      {
        "duration": 7,
        "start_time": "2022-03-05T08:04:17.327Z"
      },
      {
        "duration": 5,
        "start_time": "2022-03-05T08:04:17.335Z"
      },
      {
        "duration": 5,
        "start_time": "2022-03-05T08:04:17.341Z"
      },
      {
        "duration": 6,
        "start_time": "2022-03-05T08:04:17.348Z"
      },
      {
        "duration": 7,
        "start_time": "2022-03-05T08:04:17.355Z"
      },
      {
        "duration": 44,
        "start_time": "2022-03-05T08:04:17.363Z"
      },
      {
        "duration": 12,
        "start_time": "2022-03-05T08:04:17.408Z"
      },
      {
        "duration": 5,
        "start_time": "2022-03-05T08:04:17.421Z"
      },
      {
        "duration": 3,
        "start_time": "2022-03-05T08:04:17.427Z"
      },
      {
        "duration": 5,
        "start_time": "2022-03-05T08:04:17.432Z"
      },
      {
        "duration": 4,
        "start_time": "2022-03-05T08:04:17.439Z"
      },
      {
        "duration": 8,
        "start_time": "2022-03-05T08:04:17.445Z"
      },
      {
        "duration": 6,
        "start_time": "2022-03-05T08:04:17.455Z"
      },
      {
        "duration": 9,
        "start_time": "2022-03-05T08:04:17.462Z"
      },
      {
        "duration": 4,
        "start_time": "2022-03-05T08:04:17.472Z"
      },
      {
        "duration": 11,
        "start_time": "2022-03-05T08:04:17.505Z"
      },
      {
        "duration": 6,
        "start_time": "2022-03-05T08:04:17.517Z"
      },
      {
        "duration": 9,
        "start_time": "2022-03-05T08:04:17.524Z"
      },
      {
        "duration": 16,
        "start_time": "2022-03-05T08:04:17.541Z"
      },
      {
        "duration": 22,
        "start_time": "2022-03-05T08:04:17.558Z"
      },
      {
        "duration": 6,
        "start_time": "2022-03-05T08:04:17.582Z"
      },
      {
        "duration": 10,
        "start_time": "2022-03-05T08:04:17.606Z"
      },
      {
        "duration": 6,
        "start_time": "2022-03-05T08:04:17.618Z"
      },
      {
        "duration": 10,
        "start_time": "2022-03-05T08:04:17.625Z"
      },
      {
        "duration": 8,
        "start_time": "2022-03-05T08:04:17.636Z"
      },
      {
        "duration": 6,
        "start_time": "2022-03-05T08:04:17.673Z"
      },
      {
        "duration": 6,
        "start_time": "2022-03-05T08:09:41.484Z"
      },
      {
        "duration": 5,
        "start_time": "2022-03-05T08:09:48.307Z"
      },
      {
        "duration": 8,
        "start_time": "2022-03-05T08:09:51.597Z"
      },
      {
        "duration": 16,
        "start_time": "2022-03-05T08:12:09.232Z"
      },
      {
        "duration": 16,
        "start_time": "2022-03-05T08:12:15.657Z"
      },
      {
        "duration": 8,
        "start_time": "2022-03-05T08:12:45.749Z"
      },
      {
        "duration": 8,
        "start_time": "2022-03-05T08:12:47.368Z"
      },
      {
        "duration": 6,
        "start_time": "2022-03-05T08:12:55.406Z"
      },
      {
        "duration": 90,
        "start_time": "2022-03-05T08:13:10.305Z"
      },
      {
        "duration": 5,
        "start_time": "2022-03-05T08:13:13.385Z"
      },
      {
        "duration": 11,
        "start_time": "2022-03-05T08:13:20.891Z"
      },
      {
        "duration": 239,
        "start_time": "2022-03-05T08:13:51.467Z"
      },
      {
        "duration": 2,
        "start_time": "2022-03-05T08:13:51.708Z"
      },
      {
        "duration": 15,
        "start_time": "2022-03-05T08:13:51.712Z"
      },
      {
        "duration": 14,
        "start_time": "2022-03-05T08:13:51.729Z"
      },
      {
        "duration": 25,
        "start_time": "2022-03-05T08:13:51.745Z"
      },
      {
        "duration": 6,
        "start_time": "2022-03-05T08:13:51.771Z"
      },
      {
        "duration": 26,
        "start_time": "2022-03-05T08:13:51.806Z"
      },
      {
        "duration": 7,
        "start_time": "2022-03-05T08:13:51.835Z"
      },
      {
        "duration": 6,
        "start_time": "2022-03-05T08:13:51.844Z"
      },
      {
        "duration": 11,
        "start_time": "2022-03-05T08:13:51.852Z"
      },
      {
        "duration": 10,
        "start_time": "2022-03-05T08:13:51.864Z"
      },
      {
        "duration": 33,
        "start_time": "2022-03-05T08:13:51.875Z"
      },
      {
        "duration": 6,
        "start_time": "2022-03-05T08:13:51.909Z"
      },
      {
        "duration": 8,
        "start_time": "2022-03-05T08:13:51.917Z"
      },
      {
        "duration": 6,
        "start_time": "2022-03-05T08:13:51.927Z"
      },
      {
        "duration": 15,
        "start_time": "2022-03-05T08:13:51.934Z"
      },
      {
        "duration": 3,
        "start_time": "2022-03-05T08:13:51.950Z"
      },
      {
        "duration": 6,
        "start_time": "2022-03-05T08:13:51.955Z"
      },
      {
        "duration": 43,
        "start_time": "2022-03-05T08:13:51.962Z"
      },
      {
        "duration": 5,
        "start_time": "2022-03-05T08:13:52.007Z"
      },
      {
        "duration": 14,
        "start_time": "2022-03-05T08:13:52.013Z"
      },
      {
        "duration": 6,
        "start_time": "2022-03-05T08:13:52.029Z"
      },
      {
        "duration": 8,
        "start_time": "2022-03-05T08:13:52.039Z"
      },
      {
        "duration": 24,
        "start_time": "2022-03-05T08:13:52.049Z"
      },
      {
        "duration": 31,
        "start_time": "2022-03-05T08:13:52.075Z"
      },
      {
        "duration": 5,
        "start_time": "2022-03-05T08:13:52.108Z"
      },
      {
        "duration": 10,
        "start_time": "2022-03-05T08:13:52.115Z"
      },
      {
        "duration": 5,
        "start_time": "2022-03-05T08:13:52.126Z"
      },
      {
        "duration": 8,
        "start_time": "2022-03-05T08:13:52.132Z"
      },
      {
        "duration": 5,
        "start_time": "2022-03-05T08:13:52.142Z"
      },
      {
        "duration": 6,
        "start_time": "2022-03-05T08:13:52.148Z"
      },
      {
        "duration": 6,
        "start_time": "2022-03-05T08:13:52.156Z"
      },
      {
        "duration": 42,
        "start_time": "2022-03-05T08:13:52.164Z"
      },
      {
        "duration": 26,
        "start_time": "2022-03-05T08:13:52.207Z"
      },
      {
        "duration": 15,
        "start_time": "2022-03-05T08:13:52.234Z"
      },
      {
        "duration": 15,
        "start_time": "2022-03-05T08:13:52.250Z"
      },
      {
        "duration": 3,
        "start_time": "2022-03-05T08:13:52.266Z"
      },
      {
        "duration": 35,
        "start_time": "2022-03-05T08:13:52.270Z"
      },
      {
        "duration": 4,
        "start_time": "2022-03-05T08:13:52.307Z"
      },
      {
        "duration": 6,
        "start_time": "2022-03-05T08:13:52.313Z"
      },
      {
        "duration": 5,
        "start_time": "2022-03-05T08:13:52.321Z"
      },
      {
        "duration": 3,
        "start_time": "2022-03-05T08:13:52.328Z"
      },
      {
        "duration": 5,
        "start_time": "2022-03-05T08:13:52.333Z"
      },
      {
        "duration": 11,
        "start_time": "2022-03-05T08:13:52.340Z"
      },
      {
        "duration": 6,
        "start_time": "2022-03-05T08:13:52.352Z"
      },
      {
        "duration": 45,
        "start_time": "2022-03-05T08:13:52.360Z"
      },
      {
        "duration": 5,
        "start_time": "2022-03-05T08:13:52.407Z"
      },
      {
        "duration": 5,
        "start_time": "2022-03-05T08:13:52.414Z"
      },
      {
        "duration": 7,
        "start_time": "2022-03-05T08:13:52.420Z"
      },
      {
        "duration": 5,
        "start_time": "2022-03-05T08:13:52.429Z"
      },
      {
        "duration": 7,
        "start_time": "2022-03-05T08:13:52.435Z"
      },
      {
        "duration": 6,
        "start_time": "2022-03-05T08:13:52.443Z"
      },
      {
        "duration": 5,
        "start_time": "2022-03-05T08:13:52.450Z"
      },
      {
        "duration": 6,
        "start_time": "2022-03-05T08:13:52.457Z"
      },
      {
        "duration": 46,
        "start_time": "2022-03-05T08:13:52.464Z"
      },
      {
        "duration": 5,
        "start_time": "2022-03-05T08:15:30.874Z"
      },
      {
        "duration": 8,
        "start_time": "2022-03-05T08:15:52.229Z"
      },
      {
        "duration": 4,
        "start_time": "2022-03-05T08:15:55.053Z"
      },
      {
        "duration": 14,
        "start_time": "2022-03-05T08:16:07.884Z"
      },
      {
        "duration": 9,
        "start_time": "2022-03-05T08:16:12.985Z"
      },
      {
        "duration": 5,
        "start_time": "2022-03-05T08:16:14.695Z"
      },
      {
        "duration": 8,
        "start_time": "2022-03-05T08:16:21.252Z"
      },
      {
        "duration": 4,
        "start_time": "2022-03-05T08:16:23.797Z"
      },
      {
        "duration": 4,
        "start_time": "2022-03-05T08:16:52.485Z"
      },
      {
        "duration": 4,
        "start_time": "2022-03-05T08:16:54.830Z"
      },
      {
        "duration": 11,
        "start_time": "2022-03-05T08:17:53.510Z"
      },
      {
        "duration": 5,
        "start_time": "2022-03-05T08:18:26.804Z"
      },
      {
        "duration": 5,
        "start_time": "2022-03-05T08:18:29.581Z"
      },
      {
        "duration": 4,
        "start_time": "2022-03-05T08:18:38.708Z"
      },
      {
        "duration": 5,
        "start_time": "2022-03-05T08:18:41.332Z"
      },
      {
        "duration": 4,
        "start_time": "2022-03-05T08:18:43.244Z"
      },
      {
        "duration": 236,
        "start_time": "2022-03-05T08:19:11.330Z"
      },
      {
        "duration": 3,
        "start_time": "2022-03-05T08:19:11.567Z"
      },
      {
        "duration": 14,
        "start_time": "2022-03-05T08:19:11.571Z"
      },
      {
        "duration": 10,
        "start_time": "2022-03-05T08:19:11.586Z"
      },
      {
        "duration": 18,
        "start_time": "2022-03-05T08:19:11.597Z"
      },
      {
        "duration": 5,
        "start_time": "2022-03-05T08:19:11.616Z"
      },
      {
        "duration": 19,
        "start_time": "2022-03-05T08:19:11.623Z"
      },
      {
        "duration": 6,
        "start_time": "2022-03-05T08:19:11.645Z"
      },
      {
        "duration": 5,
        "start_time": "2022-03-05T08:19:11.653Z"
      },
      {
        "duration": 10,
        "start_time": "2022-03-05T08:19:11.659Z"
      },
      {
        "duration": 37,
        "start_time": "2022-03-05T08:19:11.670Z"
      },
      {
        "duration": 7,
        "start_time": "2022-03-05T08:19:11.709Z"
      },
      {
        "duration": 15,
        "start_time": "2022-03-05T08:19:11.717Z"
      },
      {
        "duration": 6,
        "start_time": "2022-03-05T08:19:11.733Z"
      },
      {
        "duration": 4,
        "start_time": "2022-03-05T08:19:11.740Z"
      },
      {
        "duration": 15,
        "start_time": "2022-03-05T08:19:11.745Z"
      },
      {
        "duration": 4,
        "start_time": "2022-03-05T08:19:11.761Z"
      },
      {
        "duration": 5,
        "start_time": "2022-03-05T08:19:11.805Z"
      },
      {
        "duration": 8,
        "start_time": "2022-03-05T08:19:11.811Z"
      },
      {
        "duration": 4,
        "start_time": "2022-03-05T08:19:11.821Z"
      },
      {
        "duration": 8,
        "start_time": "2022-03-05T08:19:11.827Z"
      },
      {
        "duration": 6,
        "start_time": "2022-03-05T08:19:11.837Z"
      },
      {
        "duration": 6,
        "start_time": "2022-03-05T08:19:11.846Z"
      },
      {
        "duration": 58,
        "start_time": "2022-03-05T08:19:11.854Z"
      },
      {
        "duration": 14,
        "start_time": "2022-03-05T08:19:11.913Z"
      },
      {
        "duration": 17,
        "start_time": "2022-03-05T08:19:11.929Z"
      },
      {
        "duration": 11,
        "start_time": "2022-03-05T08:19:11.947Z"
      },
      {
        "duration": 5,
        "start_time": "2022-03-05T08:19:11.959Z"
      },
      {
        "duration": 12,
        "start_time": "2022-03-05T08:19:11.965Z"
      },
      {
        "duration": 5,
        "start_time": "2022-03-05T08:19:11.979Z"
      },
      {
        "duration": 28,
        "start_time": "2022-03-05T08:19:11.986Z"
      },
      {
        "duration": 12,
        "start_time": "2022-03-05T08:19:12.016Z"
      },
      {
        "duration": 6,
        "start_time": "2022-03-05T08:19:12.030Z"
      },
      {
        "duration": 30,
        "start_time": "2022-03-05T08:19:12.038Z"
      },
      {
        "duration": 38,
        "start_time": "2022-03-05T08:19:12.070Z"
      },
      {
        "duration": 23,
        "start_time": "2022-03-05T08:19:12.109Z"
      },
      {
        "duration": 3,
        "start_time": "2022-03-05T08:19:12.134Z"
      },
      {
        "duration": 9,
        "start_time": "2022-03-05T08:19:12.139Z"
      },
      {
        "duration": 11,
        "start_time": "2022-03-05T08:19:12.150Z"
      },
      {
        "duration": 11,
        "start_time": "2022-03-05T08:19:12.163Z"
      },
      {
        "duration": 34,
        "start_time": "2022-03-05T08:19:12.176Z"
      },
      {
        "duration": 4,
        "start_time": "2022-03-05T08:19:12.212Z"
      },
      {
        "duration": 11,
        "start_time": "2022-03-05T08:19:12.217Z"
      },
      {
        "duration": 14,
        "start_time": "2022-03-05T08:19:12.229Z"
      },
      {
        "duration": 6,
        "start_time": "2022-03-05T08:19:12.244Z"
      },
      {
        "duration": 15,
        "start_time": "2022-03-05T08:19:12.252Z"
      },
      {
        "duration": 7,
        "start_time": "2022-03-05T08:19:12.269Z"
      },
      {
        "duration": 32,
        "start_time": "2022-03-05T08:19:12.278Z"
      },
      {
        "duration": 7,
        "start_time": "2022-03-05T08:19:12.312Z"
      },
      {
        "duration": 7,
        "start_time": "2022-03-05T08:19:12.322Z"
      },
      {
        "duration": 7,
        "start_time": "2022-03-05T08:19:12.330Z"
      },
      {
        "duration": 6,
        "start_time": "2022-03-05T08:19:12.339Z"
      },
      {
        "duration": 6,
        "start_time": "2022-03-05T08:19:12.347Z"
      },
      {
        "duration": 51,
        "start_time": "2022-03-05T08:19:12.355Z"
      },
      {
        "duration": 8,
        "start_time": "2022-03-05T08:19:12.408Z"
      },
      {
        "duration": 10,
        "start_time": "2022-03-05T08:19:12.417Z"
      },
      {
        "duration": 8,
        "start_time": "2022-03-05T08:19:12.428Z"
      },
      {
        "duration": 10,
        "start_time": "2022-03-05T08:19:12.438Z"
      },
      {
        "duration": 8,
        "start_time": "2022-03-05T08:19:12.449Z"
      },
      {
        "duration": 5,
        "start_time": "2022-03-05T08:19:12.458Z"
      },
      {
        "duration": 6,
        "start_time": "2022-03-05T08:19:12.464Z"
      },
      {
        "duration": 8,
        "start_time": "2022-03-05T08:19:12.472Z"
      },
      {
        "duration": 7,
        "start_time": "2022-03-05T08:20:08.594Z"
      },
      {
        "duration": 962,
        "start_time": "2022-03-05T08:20:15.080Z"
      },
      {
        "duration": 3,
        "start_time": "2022-03-05T08:20:16.044Z"
      },
      {
        "duration": 17,
        "start_time": "2022-03-05T08:20:16.049Z"
      },
      {
        "duration": 15,
        "start_time": "2022-03-05T08:20:16.068Z"
      },
      {
        "duration": 34,
        "start_time": "2022-03-05T08:20:16.085Z"
      },
      {
        "duration": 6,
        "start_time": "2022-03-05T08:20:16.120Z"
      },
      {
        "duration": 20,
        "start_time": "2022-03-05T08:20:16.127Z"
      },
      {
        "duration": 6,
        "start_time": "2022-03-05T08:20:16.150Z"
      },
      {
        "duration": 5,
        "start_time": "2022-03-05T08:20:16.159Z"
      },
      {
        "duration": 46,
        "start_time": "2022-03-05T08:20:16.166Z"
      },
      {
        "duration": 13,
        "start_time": "2022-03-05T08:20:16.214Z"
      },
      {
        "duration": 9,
        "start_time": "2022-03-05T08:20:16.229Z"
      },
      {
        "duration": 7,
        "start_time": "2022-03-05T08:20:16.240Z"
      },
      {
        "duration": 6,
        "start_time": "2022-03-05T08:20:16.248Z"
      },
      {
        "duration": 3,
        "start_time": "2022-03-05T08:20:16.256Z"
      },
      {
        "duration": 44,
        "start_time": "2022-03-05T08:20:16.261Z"
      },
      {
        "duration": 5,
        "start_time": "2022-03-05T08:20:16.307Z"
      },
      {
        "duration": 8,
        "start_time": "2022-03-05T08:20:16.313Z"
      },
      {
        "duration": 12,
        "start_time": "2022-03-05T08:20:16.322Z"
      },
      {
        "duration": 4,
        "start_time": "2022-03-05T08:20:16.335Z"
      },
      {
        "duration": 9,
        "start_time": "2022-03-05T08:20:16.341Z"
      },
      {
        "duration": 8,
        "start_time": "2022-03-05T08:20:16.351Z"
      },
      {
        "duration": 7,
        "start_time": "2022-03-05T08:20:16.363Z"
      },
      {
        "duration": 43,
        "start_time": "2022-03-05T08:20:16.372Z"
      },
      {
        "duration": 6,
        "start_time": "2022-03-05T08:20:16.416Z"
      },
      {
        "duration": 6,
        "start_time": "2022-03-05T08:20:16.424Z"
      },
      {
        "duration": 9,
        "start_time": "2022-03-05T08:20:16.431Z"
      },
      {
        "duration": 5,
        "start_time": "2022-03-05T08:20:16.441Z"
      },
      {
        "duration": 8,
        "start_time": "2022-03-05T08:20:16.447Z"
      },
      {
        "duration": 6,
        "start_time": "2022-03-05T08:20:16.456Z"
      },
      {
        "duration": 8,
        "start_time": "2022-03-05T08:20:16.463Z"
      },
      {
        "duration": 39,
        "start_time": "2022-03-05T08:20:16.472Z"
      },
      {
        "duration": 6,
        "start_time": "2022-03-05T08:20:16.512Z"
      },
      {
        "duration": 39,
        "start_time": "2022-03-05T08:20:16.519Z"
      },
      {
        "duration": 15,
        "start_time": "2022-03-05T08:20:16.560Z"
      },
      {
        "duration": 41,
        "start_time": "2022-03-05T08:20:16.577Z"
      },
      {
        "duration": 2,
        "start_time": "2022-03-05T08:20:16.620Z"
      },
      {
        "duration": 9,
        "start_time": "2022-03-05T08:20:16.624Z"
      },
      {
        "duration": 6,
        "start_time": "2022-03-05T08:20:16.635Z"
      },
      {
        "duration": 13,
        "start_time": "2022-03-05T08:20:16.642Z"
      },
      {
        "duration": 7,
        "start_time": "2022-03-05T08:20:16.657Z"
      },
      {
        "duration": 9,
        "start_time": "2022-03-05T08:20:16.665Z"
      },
      {
        "duration": 11,
        "start_time": "2022-03-05T08:20:16.675Z"
      },
      {
        "duration": 20,
        "start_time": "2022-03-05T08:20:16.687Z"
      },
      {
        "duration": 6,
        "start_time": "2022-03-05T08:20:16.708Z"
      },
      {
        "duration": 19,
        "start_time": "2022-03-05T08:20:16.716Z"
      },
      {
        "duration": 5,
        "start_time": "2022-03-05T08:20:16.736Z"
      },
      {
        "duration": 7,
        "start_time": "2022-03-05T08:20:16.743Z"
      },
      {
        "duration": 9,
        "start_time": "2022-03-05T08:20:16.751Z"
      },
      {
        "duration": 10,
        "start_time": "2022-03-05T08:20:16.761Z"
      },
      {
        "duration": 14,
        "start_time": "2022-03-05T08:20:16.772Z"
      },
      {
        "duration": 6,
        "start_time": "2022-03-05T08:20:16.805Z"
      },
      {
        "duration": 31,
        "start_time": "2022-03-05T08:20:16.812Z"
      },
      {
        "duration": 37,
        "start_time": "2022-03-05T08:20:16.845Z"
      },
      {
        "duration": 21,
        "start_time": "2022-03-05T08:20:16.883Z"
      },
      {
        "duration": 33,
        "start_time": "2022-03-05T08:20:16.906Z"
      },
      {
        "duration": 20,
        "start_time": "2022-03-05T08:20:16.941Z"
      },
      {
        "duration": 16,
        "start_time": "2022-03-05T08:20:16.962Z"
      },
      {
        "duration": 17,
        "start_time": "2022-03-05T08:20:16.979Z"
      },
      {
        "duration": 8,
        "start_time": "2022-03-05T08:20:16.997Z"
      },
      {
        "duration": 14,
        "start_time": "2022-03-05T08:20:17.006Z"
      },
      {
        "duration": 10,
        "start_time": "2022-03-05T08:20:17.021Z"
      },
      {
        "duration": 12,
        "start_time": "2022-03-05T08:20:17.032Z"
      },
      {
        "duration": 17,
        "start_time": "2022-03-05T08:20:17.045Z"
      },
      {
        "duration": 23,
        "start_time": "2022-03-05T08:20:17.063Z"
      },
      {
        "duration": 21,
        "start_time": "2022-03-05T08:20:17.087Z"
      },
      {
        "duration": 22,
        "start_time": "2022-03-05T08:20:17.109Z"
      },
      {
        "duration": 19,
        "start_time": "2022-03-05T08:20:17.135Z"
      },
      {
        "duration": 15,
        "start_time": "2022-03-05T08:20:17.156Z"
      },
      {
        "duration": 8,
        "start_time": "2022-03-05T08:20:17.173Z"
      },
      {
        "duration": 7,
        "start_time": "2022-03-05T08:20:17.183Z"
      },
      {
        "duration": 26,
        "start_time": "2022-03-05T08:20:17.191Z"
      },
      {
        "duration": 4,
        "start_time": "2022-03-05T08:20:31.968Z"
      },
      {
        "duration": 5,
        "start_time": "2022-03-05T08:20:33.761Z"
      },
      {
        "duration": 4,
        "start_time": "2022-03-05T08:20:40.284Z"
      },
      {
        "duration": 5,
        "start_time": "2022-03-05T08:20:41.924Z"
      },
      {
        "duration": 5,
        "start_time": "2022-03-05T08:20:43.691Z"
      },
      {
        "duration": 219,
        "start_time": "2022-03-05T08:43:07.868Z"
      },
      {
        "duration": 2,
        "start_time": "2022-03-05T08:43:08.089Z"
      },
      {
        "duration": 11,
        "start_time": "2022-03-05T08:43:08.093Z"
      },
      {
        "duration": 9,
        "start_time": "2022-03-05T08:43:08.106Z"
      },
      {
        "duration": 19,
        "start_time": "2022-03-05T08:43:08.117Z"
      },
      {
        "duration": 4,
        "start_time": "2022-03-05T08:43:08.138Z"
      },
      {
        "duration": 23,
        "start_time": "2022-03-05T08:43:08.144Z"
      },
      {
        "duration": 7,
        "start_time": "2022-03-05T08:43:08.170Z"
      },
      {
        "duration": 7,
        "start_time": "2022-03-05T08:43:08.206Z"
      },
      {
        "duration": 10,
        "start_time": "2022-03-05T08:43:08.214Z"
      },
      {
        "duration": 8,
        "start_time": "2022-03-05T08:43:08.226Z"
      },
      {
        "duration": 9,
        "start_time": "2022-03-05T08:43:08.235Z"
      },
      {
        "duration": 7,
        "start_time": "2022-03-05T08:43:08.245Z"
      },
      {
        "duration": 7,
        "start_time": "2022-03-05T08:43:08.254Z"
      },
      {
        "duration": 4,
        "start_time": "2022-03-05T08:43:08.263Z"
      },
      {
        "duration": 14,
        "start_time": "2022-03-05T08:43:08.306Z"
      },
      {
        "duration": 4,
        "start_time": "2022-03-05T08:43:08.321Z"
      },
      {
        "duration": 10,
        "start_time": "2022-03-05T08:43:08.326Z"
      },
      {
        "duration": 13,
        "start_time": "2022-03-05T08:43:08.337Z"
      },
      {
        "duration": 4,
        "start_time": "2022-03-05T08:43:08.351Z"
      },
      {
        "duration": 8,
        "start_time": "2022-03-05T08:43:08.357Z"
      },
      {
        "duration": 5,
        "start_time": "2022-03-05T08:43:08.366Z"
      },
      {
        "duration": 33,
        "start_time": "2022-03-05T08:43:08.373Z"
      },
      {
        "duration": 19,
        "start_time": "2022-03-05T08:43:08.407Z"
      },
      {
        "duration": 5,
        "start_time": "2022-03-05T08:43:08.428Z"
      },
      {
        "duration": 4,
        "start_time": "2022-03-05T08:43:08.435Z"
      },
      {
        "duration": 10,
        "start_time": "2022-03-05T08:43:08.441Z"
      },
      {
        "duration": 3,
        "start_time": "2022-03-05T08:43:08.453Z"
      },
      {
        "duration": 7,
        "start_time": "2022-03-05T08:43:08.457Z"
      },
      {
        "duration": 40,
        "start_time": "2022-03-05T08:43:08.465Z"
      },
      {
        "duration": 6,
        "start_time": "2022-03-05T08:43:08.507Z"
      },
      {
        "duration": 9,
        "start_time": "2022-03-05T08:43:08.514Z"
      },
      {
        "duration": 5,
        "start_time": "2022-03-05T08:43:08.524Z"
      },
      {
        "duration": 28,
        "start_time": "2022-03-05T08:43:08.530Z"
      },
      {
        "duration": 13,
        "start_time": "2022-03-05T08:43:08.560Z"
      },
      {
        "duration": 39,
        "start_time": "2022-03-05T08:43:08.575Z"
      },
      {
        "duration": 2,
        "start_time": "2022-03-05T08:43:08.615Z"
      },
      {
        "duration": 8,
        "start_time": "2022-03-05T08:43:08.619Z"
      },
      {
        "duration": 7,
        "start_time": "2022-03-05T08:43:08.628Z"
      },
      {
        "duration": 5,
        "start_time": "2022-03-05T08:43:08.636Z"
      },
      {
        "duration": 7,
        "start_time": "2022-03-05T08:43:08.643Z"
      },
      {
        "duration": 3,
        "start_time": "2022-03-05T08:43:08.652Z"
      },
      {
        "duration": 5,
        "start_time": "2022-03-05T08:43:08.657Z"
      },
      {
        "duration": 13,
        "start_time": "2022-03-05T08:43:08.663Z"
      },
      {
        "duration": 32,
        "start_time": "2022-03-05T08:43:08.677Z"
      },
      {
        "duration": 16,
        "start_time": "2022-03-05T08:43:08.711Z"
      },
      {
        "duration": 5,
        "start_time": "2022-03-05T08:43:08.728Z"
      },
      {
        "duration": 7,
        "start_time": "2022-03-05T08:43:08.734Z"
      },
      {
        "duration": 6,
        "start_time": "2022-03-05T08:43:08.743Z"
      },
      {
        "duration": 5,
        "start_time": "2022-03-05T08:43:08.751Z"
      },
      {
        "duration": 6,
        "start_time": "2022-03-05T08:43:08.758Z"
      },
      {
        "duration": 42,
        "start_time": "2022-03-05T08:43:08.765Z"
      },
      {
        "duration": 5,
        "start_time": "2022-03-05T08:43:08.809Z"
      },
      {
        "duration": 8,
        "start_time": "2022-03-05T08:43:08.815Z"
      },
      {
        "duration": 6,
        "start_time": "2022-03-05T08:43:08.824Z"
      },
      {
        "duration": 7,
        "start_time": "2022-03-05T08:43:08.832Z"
      },
      {
        "duration": 4,
        "start_time": "2022-03-05T08:43:08.840Z"
      },
      {
        "duration": 11,
        "start_time": "2022-03-05T08:43:08.845Z"
      },
      {
        "duration": 6,
        "start_time": "2022-03-05T08:43:08.858Z"
      },
      {
        "duration": 3,
        "start_time": "2022-03-05T08:43:08.865Z"
      },
      {
        "duration": 4,
        "start_time": "2022-03-05T08:43:08.905Z"
      },
      {
        "duration": 5,
        "start_time": "2022-03-05T08:43:08.911Z"
      },
      {
        "duration": 6,
        "start_time": "2022-03-05T08:43:08.917Z"
      },
      {
        "duration": 8,
        "start_time": "2022-03-05T08:43:08.924Z"
      },
      {
        "duration": 8,
        "start_time": "2022-03-05T08:43:08.933Z"
      },
      {
        "duration": 5,
        "start_time": "2022-03-05T08:43:08.942Z"
      },
      {
        "duration": 5,
        "start_time": "2022-03-05T08:43:08.949Z"
      },
      {
        "duration": 6,
        "start_time": "2022-03-05T08:43:08.956Z"
      },
      {
        "duration": 44,
        "start_time": "2022-03-05T08:43:08.963Z"
      },
      {
        "duration": 8,
        "start_time": "2022-03-05T08:43:09.009Z"
      },
      {
        "duration": 4,
        "start_time": "2022-03-05T08:43:09.019Z"
      },
      {
        "duration": 12,
        "start_time": "2022-03-05T08:43:09.024Z"
      },
      {
        "duration": 7,
        "start_time": "2022-03-05T08:43:09.037Z"
      },
      {
        "duration": 3,
        "start_time": "2022-03-05T08:43:09.045Z"
      },
      {
        "duration": 5,
        "start_time": "2022-03-05T08:43:09.050Z"
      },
      {
        "duration": 4,
        "start_time": "2022-03-05T08:43:09.082Z"
      },
      {
        "duration": 18,
        "start_time": "2022-03-05T08:43:09.088Z"
      },
      {
        "duration": 4,
        "start_time": "2022-03-05T08:43:09.107Z"
      },
      {
        "duration": 5,
        "start_time": "2022-03-05T08:43:09.113Z"
      },
      {
        "duration": 4,
        "start_time": "2022-03-05T08:43:09.119Z"
      },
      {
        "duration": 13,
        "start_time": "2022-03-05T08:43:09.124Z"
      },
      {
        "duration": 5,
        "start_time": "2022-03-05T08:43:09.138Z"
      },
      {
        "duration": 9,
        "start_time": "2022-03-05T08:43:09.144Z"
      },
      {
        "duration": 18,
        "start_time": "2022-03-05T08:43:09.216Z"
      },
      {
        "duration": 12,
        "start_time": "2022-03-05T08:43:09.235Z"
      },
      {
        "duration": 9,
        "start_time": "2022-03-05T08:43:09.249Z"
      },
      {
        "duration": 12,
        "start_time": "2022-03-05T08:43:09.260Z"
      },
      {
        "duration": 7,
        "start_time": "2022-03-05T08:43:09.273Z"
      },
      {
        "duration": 8,
        "start_time": "2022-03-05T08:43:09.282Z"
      },
      {
        "duration": 8,
        "start_time": "2022-03-05T08:43:09.349Z"
      },
      {
        "duration": 7,
        "start_time": "2022-03-05T08:43:09.359Z"
      },
      {
        "duration": 1009,
        "start_time": "2022-03-05T10:08:38.056Z"
      },
      {
        "duration": 5,
        "start_time": "2022-03-05T10:08:39.068Z"
      },
      {
        "duration": 37,
        "start_time": "2022-03-05T10:08:39.076Z"
      },
      {
        "duration": 19,
        "start_time": "2022-03-05T10:08:39.117Z"
      },
      {
        "duration": 68,
        "start_time": "2022-03-05T10:08:39.139Z"
      },
      {
        "duration": 7,
        "start_time": "2022-03-05T10:08:39.209Z"
      },
      {
        "duration": 35,
        "start_time": "2022-03-05T10:08:39.218Z"
      },
      {
        "duration": 40,
        "start_time": "2022-03-05T10:08:39.257Z"
      },
      {
        "duration": 12,
        "start_time": "2022-03-05T10:08:39.300Z"
      },
      {
        "duration": 13,
        "start_time": "2022-03-05T10:08:39.314Z"
      },
      {
        "duration": 11,
        "start_time": "2022-03-05T10:08:39.329Z"
      },
      {
        "duration": 46,
        "start_time": "2022-03-05T10:08:39.343Z"
      },
      {
        "duration": 11,
        "start_time": "2022-03-05T10:08:39.391Z"
      },
      {
        "duration": 12,
        "start_time": "2022-03-05T10:08:39.404Z"
      },
      {
        "duration": 6,
        "start_time": "2022-03-05T10:08:39.419Z"
      },
      {
        "duration": 60,
        "start_time": "2022-03-05T10:08:39.427Z"
      },
      {
        "duration": 24,
        "start_time": "2022-03-05T10:08:39.490Z"
      },
      {
        "duration": 18,
        "start_time": "2022-03-05T10:08:39.517Z"
      },
      {
        "duration": 18,
        "start_time": "2022-03-05T10:08:39.537Z"
      },
      {
        "duration": 31,
        "start_time": "2022-03-05T10:08:39.558Z"
      },
      {
        "duration": 17,
        "start_time": "2022-03-05T10:08:39.591Z"
      },
      {
        "duration": 8,
        "start_time": "2022-03-05T10:08:39.610Z"
      },
      {
        "duration": 10,
        "start_time": "2022-03-05T10:08:39.624Z"
      },
      {
        "duration": 62,
        "start_time": "2022-03-05T10:08:39.638Z"
      },
      {
        "duration": 11,
        "start_time": "2022-03-05T10:08:39.703Z"
      },
      {
        "duration": 9,
        "start_time": "2022-03-05T10:08:39.716Z"
      },
      {
        "duration": 15,
        "start_time": "2022-03-05T10:08:39.727Z"
      },
      {
        "duration": 44,
        "start_time": "2022-03-05T10:08:39.745Z"
      },
      {
        "duration": 11,
        "start_time": "2022-03-05T10:08:39.791Z"
      },
      {
        "duration": 12,
        "start_time": "2022-03-05T10:08:39.805Z"
      },
      {
        "duration": 14,
        "start_time": "2022-03-05T10:08:39.820Z"
      },
      {
        "duration": 10,
        "start_time": "2022-03-05T10:08:39.836Z"
      },
      {
        "duration": 43,
        "start_time": "2022-03-05T10:08:39.849Z"
      },
      {
        "duration": 50,
        "start_time": "2022-03-05T10:08:39.895Z"
      },
      {
        "duration": 68,
        "start_time": "2022-03-05T10:08:39.948Z"
      },
      {
        "duration": 41,
        "start_time": "2022-03-05T10:08:40.019Z"
      },
      {
        "duration": 5,
        "start_time": "2022-03-05T10:08:40.063Z"
      },
      {
        "duration": 14,
        "start_time": "2022-03-05T10:08:40.087Z"
      },
      {
        "duration": 9,
        "start_time": "2022-03-05T10:08:40.103Z"
      },
      {
        "duration": 13,
        "start_time": "2022-03-05T10:08:40.115Z"
      },
      {
        "duration": 13,
        "start_time": "2022-03-05T10:08:40.130Z"
      },
      {
        "duration": 43,
        "start_time": "2022-03-05T10:08:40.146Z"
      },
      {
        "duration": 9,
        "start_time": "2022-03-05T10:08:40.192Z"
      },
      {
        "duration": 21,
        "start_time": "2022-03-05T10:08:40.204Z"
      },
      {
        "duration": 8,
        "start_time": "2022-03-05T10:08:40.227Z"
      },
      {
        "duration": 51,
        "start_time": "2022-03-05T10:08:40.237Z"
      },
      {
        "duration": 9,
        "start_time": "2022-03-05T10:08:40.290Z"
      },
      {
        "duration": 9,
        "start_time": "2022-03-05T10:08:40.302Z"
      },
      {
        "duration": 10,
        "start_time": "2022-03-05T10:08:40.313Z"
      },
      {
        "duration": 9,
        "start_time": "2022-03-05T10:08:40.326Z"
      },
      {
        "duration": 53,
        "start_time": "2022-03-05T10:08:40.338Z"
      },
      {
        "duration": 9,
        "start_time": "2022-03-05T10:08:40.394Z"
      },
      {
        "duration": 9,
        "start_time": "2022-03-05T10:08:40.405Z"
      },
      {
        "duration": 9,
        "start_time": "2022-03-05T10:08:40.416Z"
      },
      {
        "duration": 59,
        "start_time": "2022-03-05T10:08:40.428Z"
      },
      {
        "duration": 13,
        "start_time": "2022-03-05T10:08:40.489Z"
      },
      {
        "duration": 6,
        "start_time": "2022-03-05T10:08:40.504Z"
      },
      {
        "duration": 18,
        "start_time": "2022-03-05T10:08:40.512Z"
      },
      {
        "duration": 9,
        "start_time": "2022-03-05T10:08:40.533Z"
      },
      {
        "duration": 43,
        "start_time": "2022-03-05T10:08:40.544Z"
      },
      {
        "duration": 6,
        "start_time": "2022-03-05T10:08:40.589Z"
      },
      {
        "duration": 7,
        "start_time": "2022-03-05T10:08:40.597Z"
      },
      {
        "duration": 9,
        "start_time": "2022-03-05T10:08:40.606Z"
      },
      {
        "duration": 12,
        "start_time": "2022-03-05T10:08:40.618Z"
      },
      {
        "duration": 9,
        "start_time": "2022-03-05T10:08:40.632Z"
      },
      {
        "duration": 10,
        "start_time": "2022-03-05T10:08:40.686Z"
      },
      {
        "duration": 15,
        "start_time": "2022-03-05T10:08:40.698Z"
      },
      {
        "duration": 9,
        "start_time": "2022-03-05T10:08:40.722Z"
      },
      {
        "duration": 11,
        "start_time": "2022-03-05T10:08:40.734Z"
      },
      {
        "duration": 49,
        "start_time": "2022-03-05T10:08:40.748Z"
      },
      {
        "duration": 6,
        "start_time": "2022-03-05T10:08:40.800Z"
      },
      {
        "duration": 18,
        "start_time": "2022-03-05T10:08:40.808Z"
      },
      {
        "duration": 11,
        "start_time": "2022-03-05T10:08:40.828Z"
      },
      {
        "duration": 46,
        "start_time": "2022-03-05T10:08:40.842Z"
      },
      {
        "duration": 17,
        "start_time": "2022-03-05T10:08:40.890Z"
      },
      {
        "duration": 15,
        "start_time": "2022-03-05T10:08:40.909Z"
      },
      {
        "duration": 16,
        "start_time": "2022-03-05T10:08:40.928Z"
      },
      {
        "duration": 13,
        "start_time": "2022-03-05T10:08:40.947Z"
      },
      {
        "duration": 25,
        "start_time": "2022-03-05T10:08:40.962Z"
      },
      {
        "duration": 7,
        "start_time": "2022-03-05T10:08:40.989Z"
      },
      {
        "duration": 31,
        "start_time": "2022-03-05T10:08:40.999Z"
      },
      {
        "duration": 8,
        "start_time": "2022-03-05T10:08:41.033Z"
      },
      {
        "duration": 44,
        "start_time": "2022-03-05T10:08:41.043Z"
      },
      {
        "duration": 26,
        "start_time": "2022-03-05T10:08:41.089Z"
      },
      {
        "duration": 20,
        "start_time": "2022-03-05T10:08:41.118Z"
      },
      {
        "duration": 12,
        "start_time": "2022-03-05T10:08:41.140Z"
      },
      {
        "duration": 52,
        "start_time": "2022-03-05T10:08:41.155Z"
      },
      {
        "duration": 15,
        "start_time": "2022-03-05T10:08:41.209Z"
      },
      {
        "duration": 17,
        "start_time": "2022-03-05T10:08:41.226Z"
      },
      {
        "duration": 41,
        "start_time": "2022-03-05T10:08:41.247Z"
      },
      {
        "duration": 14,
        "start_time": "2022-03-05T10:08:41.291Z"
      },
      {
        "duration": 891,
        "start_time": "2022-03-05T16:45:10.831Z"
      },
      {
        "duration": 4,
        "start_time": "2022-03-05T16:45:11.725Z"
      },
      {
        "duration": 31,
        "start_time": "2022-03-05T16:45:11.731Z"
      },
      {
        "duration": 31,
        "start_time": "2022-03-05T16:45:11.765Z"
      },
      {
        "duration": 31,
        "start_time": "2022-03-05T16:45:11.799Z"
      },
      {
        "duration": 11,
        "start_time": "2022-03-05T16:45:11.833Z"
      },
      {
        "duration": 60,
        "start_time": "2022-03-05T16:45:11.847Z"
      },
      {
        "duration": 10,
        "start_time": "2022-03-05T16:45:11.910Z"
      },
      {
        "duration": 11,
        "start_time": "2022-03-05T16:45:11.923Z"
      },
      {
        "duration": 11,
        "start_time": "2022-03-05T16:45:11.936Z"
      },
      {
        "duration": 43,
        "start_time": "2022-03-05T16:45:11.949Z"
      },
      {
        "duration": 11,
        "start_time": "2022-03-05T16:45:11.994Z"
      },
      {
        "duration": 10,
        "start_time": "2022-03-05T16:45:12.007Z"
      },
      {
        "duration": 9,
        "start_time": "2022-03-05T16:45:12.020Z"
      },
      {
        "duration": 11,
        "start_time": "2022-03-05T16:45:12.032Z"
      },
      {
        "duration": 64,
        "start_time": "2022-03-05T16:45:12.045Z"
      },
      {
        "duration": 9,
        "start_time": "2022-03-05T16:45:12.112Z"
      },
      {
        "duration": 14,
        "start_time": "2022-03-05T16:45:12.123Z"
      },
      {
        "duration": 16,
        "start_time": "2022-03-05T16:45:12.139Z"
      },
      {
        "duration": 35,
        "start_time": "2022-03-05T16:45:12.157Z"
      },
      {
        "duration": 13,
        "start_time": "2022-03-05T16:45:12.194Z"
      },
      {
        "duration": 8,
        "start_time": "2022-03-05T16:45:12.209Z"
      },
      {
        "duration": 10,
        "start_time": "2022-03-05T16:45:12.223Z"
      },
      {
        "duration": 67,
        "start_time": "2022-03-05T16:45:12.237Z"
      },
      {
        "duration": 13,
        "start_time": "2022-03-05T16:45:12.306Z"
      },
      {
        "duration": 8,
        "start_time": "2022-03-05T16:45:12.321Z"
      },
      {
        "duration": 17,
        "start_time": "2022-03-05T16:45:12.331Z"
      },
      {
        "duration": 39,
        "start_time": "2022-03-05T16:45:12.350Z"
      },
      {
        "duration": 14,
        "start_time": "2022-03-05T16:45:12.391Z"
      },
      {
        "duration": 7,
        "start_time": "2022-03-05T16:45:12.407Z"
      },
      {
        "duration": 9,
        "start_time": "2022-03-05T16:45:12.416Z"
      },
      {
        "duration": 10,
        "start_time": "2022-03-05T16:45:12.427Z"
      },
      {
        "duration": 47,
        "start_time": "2022-03-05T16:45:12.440Z"
      },
      {
        "duration": 46,
        "start_time": "2022-03-05T16:45:12.489Z"
      },
      {
        "duration": 24,
        "start_time": "2022-03-05T16:45:12.538Z"
      },
      {
        "duration": 47,
        "start_time": "2022-03-05T16:45:12.564Z"
      },
      {
        "duration": 4,
        "start_time": "2022-03-05T16:45:12.613Z"
      },
      {
        "duration": 12,
        "start_time": "2022-03-05T16:45:12.619Z"
      },
      {
        "duration": 8,
        "start_time": "2022-03-05T16:45:12.633Z"
      },
      {
        "duration": 8,
        "start_time": "2022-03-05T16:45:12.644Z"
      },
      {
        "duration": 7,
        "start_time": "2022-03-05T16:45:12.687Z"
      },
      {
        "duration": 6,
        "start_time": "2022-03-05T16:45:12.696Z"
      },
      {
        "duration": 9,
        "start_time": "2022-03-05T16:45:12.704Z"
      },
      {
        "duration": 19,
        "start_time": "2022-03-05T16:45:12.715Z"
      },
      {
        "duration": 6,
        "start_time": "2022-03-05T16:45:12.736Z"
      },
      {
        "duration": 21,
        "start_time": "2022-03-05T16:45:12.788Z"
      },
      {
        "duration": 8,
        "start_time": "2022-03-05T16:45:12.812Z"
      },
      {
        "duration": 8,
        "start_time": "2022-03-05T16:45:12.823Z"
      },
      {
        "duration": 9,
        "start_time": "2022-03-05T16:45:12.834Z"
      },
      {
        "duration": 49,
        "start_time": "2022-03-05T16:45:12.845Z"
      },
      {
        "duration": 11,
        "start_time": "2022-03-05T16:45:12.897Z"
      },
      {
        "duration": 7,
        "start_time": "2022-03-05T16:45:12.910Z"
      },
      {
        "duration": 7,
        "start_time": "2022-03-05T16:45:12.920Z"
      },
      {
        "duration": 10,
        "start_time": "2022-03-05T16:45:12.930Z"
      },
      {
        "duration": 13,
        "start_time": "2022-03-05T16:45:12.987Z"
      },
      {
        "duration": 16,
        "start_time": "2022-03-05T16:45:13.002Z"
      },
      {
        "duration": 12,
        "start_time": "2022-03-05T16:45:13.021Z"
      },
      {
        "duration": 50,
        "start_time": "2022-03-05T16:45:13.036Z"
      },
      {
        "duration": 11,
        "start_time": "2022-03-05T16:45:13.089Z"
      },
      {
        "duration": 8,
        "start_time": "2022-03-05T16:45:13.103Z"
      },
      {
        "duration": 9,
        "start_time": "2022-03-05T16:45:13.113Z"
      },
      {
        "duration": 12,
        "start_time": "2022-03-05T16:45:13.124Z"
      },
      {
        "duration": 12,
        "start_time": "2022-03-05T16:45:13.138Z"
      },
      {
        "duration": 11,
        "start_time": "2022-03-05T16:45:13.188Z"
      },
      {
        "duration": 11,
        "start_time": "2022-03-05T16:45:13.202Z"
      },
      {
        "duration": 11,
        "start_time": "2022-03-05T16:45:13.215Z"
      },
      {
        "duration": 11,
        "start_time": "2022-03-05T16:45:13.228Z"
      },
      {
        "duration": 10,
        "start_time": "2022-03-05T16:45:13.295Z"
      },
      {
        "duration": 13,
        "start_time": "2022-03-05T16:45:13.308Z"
      },
      {
        "duration": 15,
        "start_time": "2022-03-05T16:45:13.323Z"
      },
      {
        "duration": 7,
        "start_time": "2022-03-05T16:45:13.340Z"
      },
      {
        "duration": 53,
        "start_time": "2022-03-05T16:45:13.349Z"
      },
      {
        "duration": 13,
        "start_time": "2022-03-05T16:45:13.404Z"
      },
      {
        "duration": 4,
        "start_time": "2022-03-05T16:45:13.419Z"
      },
      {
        "duration": 6,
        "start_time": "2022-03-05T16:45:13.426Z"
      },
      {
        "duration": 7,
        "start_time": "2022-03-05T16:45:13.434Z"
      },
      {
        "duration": 46,
        "start_time": "2022-03-05T16:45:13.443Z"
      },
      {
        "duration": 7,
        "start_time": "2022-03-05T16:45:13.491Z"
      },
      {
        "duration": 7,
        "start_time": "2022-03-05T16:45:13.500Z"
      },
      {
        "duration": 5,
        "start_time": "2022-03-05T16:45:13.510Z"
      },
      {
        "duration": 20,
        "start_time": "2022-03-05T16:45:13.517Z"
      },
      {
        "duration": 48,
        "start_time": "2022-03-05T16:45:13.540Z"
      },
      {
        "duration": 10,
        "start_time": "2022-03-05T16:45:13.590Z"
      },
      {
        "duration": 25,
        "start_time": "2022-03-05T16:45:13.603Z"
      },
      {
        "duration": 19,
        "start_time": "2022-03-05T16:45:13.630Z"
      },
      {
        "duration": 39,
        "start_time": "2022-03-05T16:45:13.651Z"
      },
      {
        "duration": 22,
        "start_time": "2022-03-05T16:45:13.692Z"
      },
      {
        "duration": 10,
        "start_time": "2022-03-05T16:45:13.716Z"
      },
      {
        "duration": 10,
        "start_time": "2022-03-05T16:45:13.728Z"
      },
      {
        "duration": 48,
        "start_time": "2022-03-05T16:45:13.740Z"
      },
      {
        "duration": 9,
        "start_time": "2022-03-05T16:45:13.790Z"
      },
      {
        "duration": 298,
        "start_time": "2022-03-05T17:32:22.009Z"
      },
      {
        "duration": 13,
        "start_time": "2022-03-05T17:32:41.720Z"
      },
      {
        "duration": 14,
        "start_time": "2022-03-05T17:32:46.394Z"
      },
      {
        "duration": 6,
        "start_time": "2022-03-05T17:54:01.897Z"
      }
    ],
    "kernelspec": {
      "display_name": "Python 3",
      "language": "python",
      "name": "python3"
    },
    "language_info": {
      "codemirror_mode": {
        "name": "ipython",
        "version": 3
      },
      "file_extension": ".py",
      "mimetype": "text/x-python",
      "name": "python",
      "nbconvert_exporter": "python",
      "pygments_lexer": "ipython3",
      "version": "3.7.8"
    },
    "toc": {
      "base_numbering": 1,
      "nav_menu": {},
      "number_sections": true,
      "sideBar": true,
      "skip_h1_title": true,
      "title_cell": "Table of Contents",
      "title_sidebar": "Contents",
      "toc_cell": false,
      "toc_position": {},
      "toc_section_display": true,
      "toc_window_display": true
    },
    "colab": {
      "name": "Credit Score.ipynb",
      "provenance": [],
      "collapsed_sections": []
    }
  },
  "nbformat": 4,
  "nbformat_minor": 0
}